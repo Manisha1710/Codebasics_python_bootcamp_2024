{
 "cells": [
  {
   "cell_type": "code",
   "execution_count": 1,
   "id": "77af89b3",
   "metadata": {
    "ExecuteTime": {
     "end_time": "2024-06-12T11:05:32.305525Z",
     "start_time": "2024-06-12T11:05:32.289662Z"
    }
   },
   "outputs": [],
   "source": [
    "can=\"Soda\""
   ]
  },
  {
   "cell_type": "code",
   "execution_count": 3,
   "id": "1022244b",
   "metadata": {
    "ExecuteTime": {
     "end_time": "2024-06-12T11:05:59.514558Z",
     "start_time": "2024-06-12T11:05:59.506021Z"
    }
   },
   "outputs": [
    {
     "data": {
      "text/plain": [
       "'beans'"
      ]
     },
     "execution_count": 3,
     "metadata": {},
     "output_type": "execute_result"
    }
   ],
   "source": [
    "can='beans'\n",
    "can "
   ]
  },
  {
   "cell_type": "code",
   "execution_count": 4,
   "id": "3fc27bad",
   "metadata": {
    "ExecuteTime": {
     "end_time": "2024-06-12T11:06:14.719358Z",
     "start_time": "2024-06-12T11:06:14.700404Z"
    }
   },
   "outputs": [
    {
     "data": {
      "text/plain": [
       "str"
      ]
     },
     "execution_count": 4,
     "metadata": {},
     "output_type": "execute_result"
    }
   ],
   "source": [
    "type(can)"
   ]
  },
  {
   "cell_type": "code",
   "execution_count": 5,
   "id": "826a3edf",
   "metadata": {
    "ExecuteTime": {
     "end_time": "2024-06-12T11:06:48.439697Z",
     "start_time": "2024-06-12T11:06:48.433365Z"
    }
   },
   "outputs": [],
   "source": [
    "first_name = \"Manisha\"\n",
    "last_name = \"Gunjal\""
   ]
  },
  {
   "cell_type": "code",
   "execution_count": 6,
   "id": "1cdb6560",
   "metadata": {
    "ExecuteTime": {
     "end_time": "2024-06-12T11:06:59.434975Z",
     "start_time": "2024-06-12T11:06:59.425887Z"
    }
   },
   "outputs": [
    {
     "data": {
      "text/plain": [
       "str"
      ]
     },
     "execution_count": 6,
     "metadata": {},
     "output_type": "execute_result"
    }
   ],
   "source": [
    "type(first_name)"
   ]
  },
  {
   "cell_type": "code",
   "execution_count": 7,
   "id": "ca598311",
   "metadata": {
    "ExecuteTime": {
     "end_time": "2024-06-12T11:07:33.504535Z",
     "start_time": "2024-06-12T11:07:33.489489Z"
    }
   },
   "outputs": [
    {
     "data": {
      "text/plain": [
       "100"
      ]
     },
     "execution_count": 7,
     "metadata": {},
     "output_type": "execute_result"
    }
   ],
   "source": [
    "pizza = 100 \n",
    "pizza"
   ]
  },
  {
   "cell_type": "code",
   "execution_count": 8,
   "id": "757caaa2",
   "metadata": {
    "ExecuteTime": {
     "end_time": "2024-06-12T11:07:43.262487Z",
     "start_time": "2024-06-12T11:07:43.254891Z"
    }
   },
   "outputs": [
    {
     "data": {
      "text/plain": [
       "int"
      ]
     },
     "execution_count": 8,
     "metadata": {},
     "output_type": "execute_result"
    }
   ],
   "source": [
    "type(pizza)"
   ]
  },
  {
   "cell_type": "code",
   "execution_count": 9,
   "id": "c6d3c811",
   "metadata": {
    "ExecuteTime": {
     "end_time": "2024-06-12T11:07:57.931979Z",
     "start_time": "2024-06-12T11:07:57.909121Z"
    }
   },
   "outputs": [
    {
     "data": {
      "text/plain": [
       "20.5"
      ]
     },
     "execution_count": 9,
     "metadata": {},
     "output_type": "execute_result"
    }
   ],
   "source": [
    "samosa = 20.5\n",
    "samosa"
   ]
  },
  {
   "cell_type": "code",
   "execution_count": 10,
   "id": "cd5597b4",
   "metadata": {
    "ExecuteTime": {
     "end_time": "2024-06-12T11:08:07.336567Z",
     "start_time": "2024-06-12T11:08:07.330012Z"
    }
   },
   "outputs": [
    {
     "data": {
      "text/plain": [
       "float"
      ]
     },
     "execution_count": 10,
     "metadata": {},
     "output_type": "execute_result"
    }
   ],
   "source": [
    "type(samosa)"
   ]
  },
  {
   "cell_type": "code",
   "execution_count": 11,
   "id": "98fd1754",
   "metadata": {
    "ExecuteTime": {
     "end_time": "2024-06-12T11:08:24.778393Z",
     "start_time": "2024-06-12T11:08:24.767467Z"
    }
   },
   "outputs": [],
   "source": [
    "ice_Cream = 40\n"
   ]
  },
  {
   "cell_type": "code",
   "execution_count": 12,
   "id": "06679ea2",
   "metadata": {
    "ExecuteTime": {
     "end_time": "2024-06-12T11:08:41.965037Z",
     "start_time": "2024-06-12T11:08:41.952798Z"
    }
   },
   "outputs": [
    {
     "data": {
      "text/plain": [
       "160.5"
      ]
     },
     "execution_count": 12,
     "metadata": {},
     "output_type": "execute_result"
    }
   ],
   "source": [
    "total = pizza + samosa + ice_Cream\n",
    "total "
   ]
  },
  {
   "cell_type": "code",
   "execution_count": 13,
   "id": "f51fcf79",
   "metadata": {
    "ExecuteTime": {
     "end_time": "2024-06-12T11:08:50.671890Z",
     "start_time": "2024-06-12T11:08:50.650657Z"
    }
   },
   "outputs": [
    {
     "data": {
      "text/plain": [
       "float"
      ]
     },
     "execution_count": 13,
     "metadata": {},
     "output_type": "execute_result"
    }
   ],
   "source": [
    "type(total)"
   ]
  },
  {
   "cell_type": "code",
   "execution_count": 15,
   "id": "3b5d664e",
   "metadata": {
    "ExecuteTime": {
     "end_time": "2024-06-12T11:09:57.161057Z",
     "start_time": "2024-06-12T11:09:57.150421Z"
    }
   },
   "outputs": [],
   "source": [
    "learn_python = True\n",
    "learn_Fortran = False\n"
   ]
  },
  {
   "cell_type": "code",
   "execution_count": 16,
   "id": "f07a0bbc",
   "metadata": {
    "ExecuteTime": {
     "end_time": "2024-06-12T11:10:06.139379Z",
     "start_time": "2024-06-12T11:10:06.115362Z"
    }
   },
   "outputs": [
    {
     "data": {
      "text/plain": [
       "bool"
      ]
     },
     "execution_count": 16,
     "metadata": {},
     "output_type": "execute_result"
    }
   ],
   "source": [
    "type(learn_python)"
   ]
  },
  {
   "cell_type": "code",
   "execution_count": 17,
   "id": "01d69184",
   "metadata": {
    "ExecuteTime": {
     "end_time": "2024-06-12T11:15:37.018119Z",
     "start_time": "2024-06-12T11:15:37.008339Z"
    }
   },
   "outputs": [
    {
     "data": {
      "text/plain": [
       "'jalebi'"
      ]
     },
     "execution_count": 17,
     "metadata": {},
     "output_type": "execute_result"
    }
   ],
   "source": [
    "foo=\"jalebi\"\n",
    "foo "
   ]
  },
  {
   "cell_type": "code",
   "execution_count": 18,
   "id": "5fbc2754",
   "metadata": {
    "ExecuteTime": {
     "end_time": "2024-06-12T11:15:49.431712Z",
     "start_time": "2024-06-12T11:15:49.425309Z"
    }
   },
   "outputs": [
    {
     "data": {
      "text/plain": [
       "2226137261424"
      ]
     },
     "execution_count": 18,
     "metadata": {},
     "output_type": "execute_result"
    }
   ],
   "source": [
    "id(foo)"
   ]
  },
  {
   "cell_type": "code",
   "execution_count": 21,
   "id": "021ad3ce",
   "metadata": {
    "ExecuteTime": {
     "end_time": "2024-06-12T11:16:55.178778Z",
     "start_time": "2024-06-12T11:16:55.164556Z"
    }
   },
   "outputs": [
    {
     "data": {
      "text/plain": [
       "'jalebi'"
      ]
     },
     "execution_count": 21,
     "metadata": {},
     "output_type": "execute_result"
    }
   ],
   "source": [
    "bar = foo\n",
    "\n",
    "bar "
   ]
  },
  {
   "cell_type": "code",
   "execution_count": 22,
   "id": "9bcdcf1e",
   "metadata": {
    "ExecuteTime": {
     "end_time": "2024-06-12T11:17:06.545863Z",
     "start_time": "2024-06-12T11:17:06.531012Z"
    }
   },
   "outputs": [
    {
     "data": {
      "text/plain": [
       "2226137261424"
      ]
     },
     "execution_count": 22,
     "metadata": {},
     "output_type": "execute_result"
    }
   ],
   "source": [
    "id(bar)"
   ]
  },
  {
   "cell_type": "code",
   "execution_count": 23,
   "id": "c387ebbe",
   "metadata": {
    "ExecuteTime": {
     "end_time": "2024-06-12T11:18:50.808564Z",
     "start_time": "2024-06-12T11:18:50.790177Z"
    }
   },
   "outputs": [
    {
     "data": {
      "text/plain": [
       "'samosa'"
      ]
     },
     "execution_count": 23,
     "metadata": {},
     "output_type": "execute_result"
    }
   ],
   "source": [
    "bar = \"samosa\"\n",
    "bar "
   ]
  },
  {
   "cell_type": "code",
   "execution_count": 24,
   "id": "493b2583",
   "metadata": {
    "ExecuteTime": {
     "end_time": "2024-06-12T11:18:54.532813Z",
     "start_time": "2024-06-12T11:18:54.517645Z"
    }
   },
   "outputs": [
    {
     "data": {
      "text/plain": [
       "'jalebi'"
      ]
     },
     "execution_count": 24,
     "metadata": {},
     "output_type": "execute_result"
    }
   ],
   "source": [
    "foo "
   ]
  },
  {
   "cell_type": "code",
   "execution_count": 25,
   "id": "7fa531e5",
   "metadata": {
    "ExecuteTime": {
     "end_time": "2024-06-12T11:18:59.905420Z",
     "start_time": "2024-06-12T11:18:59.892420Z"
    }
   },
   "outputs": [
    {
     "data": {
      "text/plain": [
       "2226139781168"
      ]
     },
     "execution_count": 25,
     "metadata": {},
     "output_type": "execute_result"
    }
   ],
   "source": [
    "id(bar)"
   ]
  },
  {
   "cell_type": "code",
   "execution_count": 26,
   "id": "24de7d53",
   "metadata": {
    "ExecuteTime": {
     "end_time": "2024-06-12T11:19:15.803505Z",
     "start_time": "2024-06-12T11:19:15.793484Z"
    }
   },
   "outputs": [
    {
     "data": {
      "text/plain": [
       "2226137261424"
      ]
     },
     "execution_count": 26,
     "metadata": {},
     "output_type": "execute_result"
    }
   ],
   "source": [
    "id(foo)"
   ]
  },
  {
   "cell_type": "markdown",
   "id": "7a0ab9d8",
   "metadata": {},
   "source": [
    "\n",
    "Create a variable named pi and store the value 22/7 in it. Now check the data type of this variable.\n",
    "Create a variable called for and assign it a value 4. See what happens and find out the reason behind the behavior that you see**.**\n",
    "Store the principal amount, rate of interest, and time in different variables and then calculate the Simple Interest for 3 years**.**"
   ]
  },
  {
   "cell_type": "code",
   "execution_count": 27,
   "id": "0f4febd0",
   "metadata": {
    "ExecuteTime": {
     "end_time": "2024-06-12T12:00:39.190626Z",
     "start_time": "2024-06-12T12:00:39.167790Z"
    }
   },
   "outputs": [
    {
     "data": {
      "text/plain": [
       "3.142857142857143"
      ]
     },
     "execution_count": 27,
     "metadata": {},
     "output_type": "execute_result"
    }
   ],
   "source": [
    "# create a variable name pi and store the value 22/7 in it\n",
    "pi = 22/7 \n",
    "pi "
   ]
  },
  {
   "cell_type": "code",
   "execution_count": 28,
   "id": "3a4af10d",
   "metadata": {
    "ExecuteTime": {
     "end_time": "2024-06-12T12:01:01.469972Z",
     "start_time": "2024-06-12T12:01:01.453548Z"
    }
   },
   "outputs": [
    {
     "data": {
      "text/plain": [
       "float"
      ]
     },
     "execution_count": 28,
     "metadata": {},
     "output_type": "execute_result"
    }
   ],
   "source": [
    "# check the data type of this variable\n",
    "type(pi)"
   ]
  },
  {
   "cell_type": "code",
   "execution_count": 29,
   "id": "98d63c35",
   "metadata": {
    "ExecuteTime": {
     "end_time": "2024-06-12T12:03:13.411011Z",
     "start_time": "2024-06-12T12:03:13.395276Z"
    }
   },
   "outputs": [
    {
     "ename": "SyntaxError",
     "evalue": "invalid syntax (3505386461.py, line 2)",
     "output_type": "error",
     "traceback": [
      "\u001b[1;36m  Input \u001b[1;32mIn [29]\u001b[1;36m\u001b[0m\n\u001b[1;33m    for = 4\u001b[0m\n\u001b[1;37m        ^\u001b[0m\n\u001b[1;31mSyntaxError\u001b[0m\u001b[1;31m:\u001b[0m invalid syntax\n"
     ]
    }
   ],
   "source": [
    "# Create a variable called for and assign it a value 4\n",
    "for = 4 "
   ]
  },
  {
   "cell_type": "markdown",
   "id": "52e6531b",
   "metadata": {},
   "source": [
    "## for is special keyword hence we can't use it as variable name "
   ]
  },
  {
   "cell_type": "code",
   "execution_count": 30,
   "id": "b82fb485",
   "metadata": {
    "ExecuteTime": {
     "end_time": "2024-06-12T12:04:01.228490Z",
     "start_time": "2024-06-12T12:04:01.213469Z"
    }
   },
   "outputs": [
    {
     "data": {
      "text/plain": [
       "4"
      ]
     },
     "execution_count": 30,
     "metadata": {},
     "output_type": "execute_result"
    }
   ],
   "source": [
    "for_ = 4 \n",
    "for_"
   ]
  },
  {
   "cell_type": "markdown",
   "id": "62461a8e",
   "metadata": {},
   "source": [
    "## it did works this time as we saved variable name with underscore_"
   ]
  },
  {
   "cell_type": "markdown",
   "id": "d31379cc",
   "metadata": {},
   "source": [
    "Store the principal amount, rate of interest, and time in different variables"
   ]
  },
  {
   "cell_type": "code",
   "execution_count": 31,
   "id": "5194d04e",
   "metadata": {
    "ExecuteTime": {
     "end_time": "2024-06-12T12:07:10.737414Z",
     "start_time": "2024-06-12T12:07:10.731206Z"
    }
   },
   "outputs": [],
   "source": [
    "principal_amount = 45000\n",
    "rate_of_interest = 5.6\n",
    "time = 3 \n"
   ]
  },
  {
   "cell_type": "code",
   "execution_count": 32,
   "id": "ed6a9061",
   "metadata": {
    "ExecuteTime": {
     "end_time": "2024-06-12T12:08:07.415069Z",
     "start_time": "2024-06-12T12:08:07.393558Z"
    }
   },
   "outputs": [
    {
     "data": {
      "text/plain": [
       "7559.999999999999"
      ]
     },
     "execution_count": 32,
     "metadata": {},
     "output_type": "execute_result"
    }
   ],
   "source": [
    "simple_interest = (principal_amount*rate_of_interest*time)/100 \n",
    "simple_interest "
   ]
  },
  {
   "cell_type": "code",
   "execution_count": 33,
   "id": "dc9a44f6",
   "metadata": {
    "ExecuteTime": {
     "end_time": "2024-06-12T12:08:31.859581Z",
     "start_time": "2024-06-12T12:08:31.851310Z"
    }
   },
   "outputs": [
    {
     "data": {
      "text/plain": [
       "float"
      ]
     },
     "execution_count": 33,
     "metadata": {},
     "output_type": "execute_result"
    }
   ],
   "source": [
    "type(simple_interest)"
   ]
  },
  {
   "cell_type": "code",
   "execution_count": 34,
   "id": "5395c3d2",
   "metadata": {
    "ExecuteTime": {
     "end_time": "2024-06-12T12:09:17.753385Z",
     "start_time": "2024-06-12T12:09:17.739372Z"
    }
   },
   "outputs": [
    {
     "data": {
      "text/plain": [
       "52560.0"
      ]
     },
     "execution_count": 34,
     "metadata": {},
     "output_type": "execute_result"
    }
   ],
   "source": [
    "## total amount after inclduing simple_interest\n",
    "\n",
    "total_amount = principal_amount +simple_interest\n",
    "total_amount "
   ]
  },
  {
   "cell_type": "code",
   "execution_count": null,
   "id": "f57182f6",
   "metadata": {},
   "outputs": [],
   "source": []
  }
 ],
 "metadata": {
  "kernelspec": {
   "display_name": "Python 3 (ipykernel)",
   "language": "python",
   "name": "python3"
  },
  "language_info": {
   "codemirror_mode": {
    "name": "ipython",
    "version": 3
   },
   "file_extension": ".py",
   "mimetype": "text/x-python",
   "name": "python",
   "nbconvert_exporter": "python",
   "pygments_lexer": "ipython3",
   "version": "3.8.10"
  },
  "toc": {
   "base_numbering": 1,
   "nav_menu": {},
   "number_sections": true,
   "sideBar": true,
   "skip_h1_title": false,
   "title_cell": "Table of Contents",
   "title_sidebar": "Contents",
   "toc_cell": false,
   "toc_position": {},
   "toc_section_display": true,
   "toc_window_display": false
  },
  "varInspector": {
   "cols": {
    "lenName": 16,
    "lenType": 16,
    "lenVar": 40
   },
   "kernels_config": {
    "python": {
     "delete_cmd_postfix": "",
     "delete_cmd_prefix": "del ",
     "library": "var_list.py",
     "varRefreshCmd": "print(var_dic_list())"
    },
    "r": {
     "delete_cmd_postfix": ") ",
     "delete_cmd_prefix": "rm(",
     "library": "var_list.r",
     "varRefreshCmd": "cat(var_dic_list()) "
    }
   },
   "types_to_exclude": [
    "module",
    "function",
    "builtin_function_or_method",
    "instance",
    "_Feature"
   ],
   "window_display": false
  }
 },
 "nbformat": 4,
 "nbformat_minor": 5
}
