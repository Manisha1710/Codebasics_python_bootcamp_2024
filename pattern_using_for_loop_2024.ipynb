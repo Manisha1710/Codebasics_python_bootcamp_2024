{
 "cells": [
  {
   "cell_type": "markdown",
   "id": "f13a1051",
   "metadata": {},
   "source": [
    "# Printing square using *"
   ]
  },
  {
   "cell_type": "code",
   "execution_count": 5,
   "id": "ea9c6947",
   "metadata": {
    "ExecuteTime": {
     "end_time": "2024-06-24T09:34:16.340499Z",
     "start_time": "2024-06-24T09:34:16.331523Z"
    }
   },
   "outputs": [
    {
     "name": "stdout",
     "output_type": "stream",
     "text": [
      "* * * * * \n",
      "* * * * * \n",
      "* * * * * \n",
      "* * * * * \n",
      "* * * * * \n"
     ]
    }
   ],
   "source": [
    "n=5 \n",
    "for j in range(n): ## defining row position outer loop\n",
    "    for k in range(n): ## defining column position inner loop\n",
    "        print(\"*\",end=' ')\n",
    "    print()"
   ]
  },
  {
   "cell_type": "markdown",
   "id": "4a5803bb",
   "metadata": {},
   "source": [
    "# 2. Printing rectangle using *"
   ]
  },
  {
   "cell_type": "code",
   "execution_count": 8,
   "id": "817e5120",
   "metadata": {
    "ExecuteTime": {
     "end_time": "2024-06-24T09:40:56.633493Z",
     "start_time": "2024-06-24T09:40:56.624944Z"
    }
   },
   "outputs": [
    {
     "name": "stdout",
     "output_type": "stream",
     "text": [
      "*********\n",
      "*********\n",
      "*********\n",
      "*********\n",
      "*********\n",
      "*********\n",
      "*********\n",
      "*********\n",
      "*********\n",
      "*********\n"
     ]
    }
   ],
   "source": [
    "n=10\n",
    "for i in range(n):\n",
    "    for j in range(n-1):\n",
    "        print(\"*\",end='')\n",
    "    print()"
   ]
  },
  {
   "cell_type": "markdown",
   "id": "e1984db2",
   "metadata": {},
   "source": [
    "# Increasing triangle pattern using *"
   ]
  },
  {
   "cell_type": "code",
   "execution_count": 9,
   "id": "953c9d65",
   "metadata": {
    "ExecuteTime": {
     "end_time": "2024-06-24T09:51:12.526816Z",
     "start_time": "2024-06-24T09:51:12.506826Z"
    }
   },
   "outputs": [
    {
     "name": "stdout",
     "output_type": "stream",
     "text": [
      "* \n",
      "* * \n",
      "* * * \n",
      "* * * * \n",
      "* * * * * \n",
      "* * * * * * \n"
     ]
    }
   ],
   "source": [
    "n=6\n",
    "for i in range(n):\n",
    "    for j in range(i+1):\n",
    "        print(\"*\", end=' ')\n",
    "    print()"
   ]
  },
  {
   "cell_type": "markdown",
   "id": "e762cd76",
   "metadata": {},
   "source": [
    "# Decreasing triangle pattern using * "
   ]
  },
  {
   "cell_type": "code",
   "execution_count": 11,
   "id": "16d17694",
   "metadata": {
    "ExecuteTime": {
     "end_time": "2024-06-24T09:54:39.303602Z",
     "start_time": "2024-06-24T09:54:39.292177Z"
    }
   },
   "outputs": [
    {
     "name": "stdout",
     "output_type": "stream",
     "text": [
      "* * * * * * \n",
      "* * * * * \n",
      "* * * * \n",
      "* * * \n",
      "* * \n",
      "* \n"
     ]
    }
   ],
   "source": [
    "n=6\n",
    "for i in range(n):\n",
    "    for j in range (i,n):\n",
    "        print(\"*\",end=' ')\n",
    "    print()"
   ]
  },
  {
   "cell_type": "markdown",
   "id": "33cab04c",
   "metadata": {},
   "source": [
    "# Right_sided triange using * "
   ]
  },
  {
   "cell_type": "code",
   "execution_count": 13,
   "id": "88dd9570",
   "metadata": {
    "ExecuteTime": {
     "end_time": "2024-06-24T10:04:43.382527Z",
     "start_time": "2024-06-24T10:04:43.362205Z"
    }
   },
   "outputs": [
    {
     "name": "stdout",
     "output_type": "stream",
     "text": [
      "      *\n",
      "     **\n",
      "    ***\n",
      "   ****\n",
      "  *****\n",
      " ******\n"
     ]
    }
   ],
   "source": [
    "n=6 \n",
    "for i in range(n):\n",
    "    \n",
    "    for j in range(i,n):\n",
    "        print(' ',end='')\n",
    "    \n",
    "    for j in range(i+1):\n",
    "        print('*',end='')\n",
    "        \n",
    "    print()"
   ]
  },
  {
   "cell_type": "code",
   "execution_count": 17,
   "id": "b3924c06",
   "metadata": {
    "ExecuteTime": {
     "end_time": "2024-06-24T10:07:15.274373Z",
     "start_time": "2024-06-24T10:07:15.255930Z"
    }
   },
   "outputs": [
    {
     "name": "stdout",
     "output_type": "stream",
     "text": [
      " ******\n",
      "  *****\n",
      "   ****\n",
      "    ***\n",
      "     **\n",
      "      *\n"
     ]
    }
   ],
   "source": [
    "n=6 \n",
    "for i in range(n):\n",
    "    \n",
    "    for j in range(i+1):\n",
    "        print(' ',end='')\n",
    "    \n",
    "    for j in range(i,n):\n",
    "        print('*',end='')\n",
    "        \n",
    "    print()"
   ]
  },
  {
   "cell_type": "markdown",
   "id": "ffb76edd",
   "metadata": {},
   "source": [
    "# Hill pattern using * "
   ]
  },
  {
   "cell_type": "code",
   "execution_count": 23,
   "id": "d86ecb53",
   "metadata": {
    "ExecuteTime": {
     "end_time": "2024-06-24T10:14:35.721387Z",
     "start_time": "2024-06-24T10:14:35.701054Z"
    }
   },
   "outputs": [
    {
     "name": "stdout",
     "output_type": "stream",
     "text": [
      "     *\n",
      "    ***\n",
      "   *****\n",
      "  *******\n",
      " *********\n"
     ]
    }
   ],
   "source": [
    "n=5\n",
    "for i in range(n):\n",
    "    \n",
    "    for j in range(i,n):\n",
    "        print(' ',end='')\n",
    "        \n",
    "    for j in range(i):\n",
    "        print('*',end='')\n",
    "    for j in range(i+1):\n",
    "        print('*',end='')\n",
    "    print()"
   ]
  },
  {
   "cell_type": "markdown",
   "id": "74dd0c7f",
   "metadata": {},
   "source": [
    "# Reverse Hill Pattern"
   ]
  },
  {
   "cell_type": "code",
   "execution_count": 24,
   "id": "2fa654a2",
   "metadata": {
    "ExecuteTime": {
     "end_time": "2024-06-24T10:17:08.767256Z",
     "start_time": "2024-06-24T10:17:08.745686Z"
    }
   },
   "outputs": [
    {
     "name": "stdout",
     "output_type": "stream",
     "text": [
      " *********\n",
      "  *******\n",
      "   *****\n",
      "    ***\n",
      "     *\n"
     ]
    }
   ],
   "source": [
    "n=5\n",
    "for i in range(n):\n",
    "    \n",
    "    for j in range(i+1):\n",
    "        print(' ',end='')\n",
    "        \n",
    "    for j in range(i,n-1):\n",
    "        print('*',end='')\n",
    "    for j in range(i,n):\n",
    "        print('*',end='')\n",
    "    print()"
   ]
  },
  {
   "cell_type": "code",
   "execution_count": null,
   "id": "51f5dd8b",
   "metadata": {},
   "outputs": [],
   "source": []
  }
 ],
 "metadata": {
  "kernelspec": {
   "display_name": "Python 3 (ipykernel)",
   "language": "python",
   "name": "python3"
  },
  "language_info": {
   "codemirror_mode": {
    "name": "ipython",
    "version": 3
   },
   "file_extension": ".py",
   "mimetype": "text/x-python",
   "name": "python",
   "nbconvert_exporter": "python",
   "pygments_lexer": "ipython3",
   "version": "3.8.10"
  },
  "toc": {
   "base_numbering": 1,
   "nav_menu": {},
   "number_sections": true,
   "sideBar": true,
   "skip_h1_title": false,
   "title_cell": "Table of Contents",
   "title_sidebar": "Contents",
   "toc_cell": false,
   "toc_position": {},
   "toc_section_display": true,
   "toc_window_display": false
  },
  "varInspector": {
   "cols": {
    "lenName": 16,
    "lenType": 16,
    "lenVar": 40
   },
   "kernels_config": {
    "python": {
     "delete_cmd_postfix": "",
     "delete_cmd_prefix": "del ",
     "library": "var_list.py",
     "varRefreshCmd": "print(var_dic_list())"
    },
    "r": {
     "delete_cmd_postfix": ") ",
     "delete_cmd_prefix": "rm(",
     "library": "var_list.r",
     "varRefreshCmd": "cat(var_dic_list()) "
    }
   },
   "types_to_exclude": [
    "module",
    "function",
    "builtin_function_or_method",
    "instance",
    "_Feature"
   ],
   "window_display": false
  }
 },
 "nbformat": 4,
 "nbformat_minor": 5
}
