{
 "cells": [
  {
   "cell_type": "code",
   "execution_count": 1,
   "id": "baac7946",
   "metadata": {
    "ExecuteTime": {
     "end_time": "2024-06-13T06:55:52.537010Z",
     "start_time": "2024-06-13T06:55:52.526597Z"
    }
   },
   "outputs": [],
   "source": [
    "item1 =\"bread\"\n",
    "item2 =\"pasta\"\n",
    "item3 =\"chesse\"\n",
    "item4 =\"veggies\""
   ]
  },
  {
   "cell_type": "markdown",
   "id": "bd5b584b",
   "metadata": {},
   "source": [
    "## creating different different varibles is really challenging to save several data points hence we use List "
   ]
  },
  {
   "cell_type": "markdown",
   "id": "c74cfd00",
   "metadata": {},
   "source": [
    "## List:\n",
    "List is an ordered sequence of items.It is one of the most used data type in python.\n",
    "It is mutable data types"
   ]
  },
  {
   "cell_type": "code",
   "execution_count": 18,
   "id": "8ecafa73",
   "metadata": {
    "ExecuteTime": {
     "end_time": "2024-06-13T07:17:43.252975Z",
     "start_time": "2024-06-13T07:17:43.228818Z"
    }
   },
   "outputs": [
    {
     "data": {
      "text/plain": [
       "['bread', 'pasta', 'fruits', 'veggies']"
      ]
     },
     "execution_count": 18,
     "metadata": {},
     "output_type": "execute_result"
    }
   ],
   "source": [
    "items = ['bread','pasta','fruits','veggies']\n",
    "items "
   ]
  },
  {
   "cell_type": "code",
   "execution_count": 4,
   "id": "d708057a",
   "metadata": {
    "ExecuteTime": {
     "end_time": "2024-06-13T06:59:53.685241Z",
     "start_time": "2024-06-13T06:59:53.670172Z"
    }
   },
   "outputs": [
    {
     "data": {
      "text/plain": [
       "['bread', 'pasta', 'fruits']"
      ]
     },
     "execution_count": 4,
     "metadata": {},
     "output_type": "execute_result"
    }
   ],
   "source": [
    "items[0:3]"
   ]
  },
  {
   "cell_type": "code",
   "execution_count": 6,
   "id": "b16178ba",
   "metadata": {
    "ExecuteTime": {
     "end_time": "2024-06-13T07:01:36.205830Z",
     "start_time": "2024-06-13T07:01:36.181539Z"
    }
   },
   "outputs": [
    {
     "data": {
      "text/plain": [
       "['bread', 'pasta', 'fruits', 'veggies', 'butter', 'butter']"
      ]
     },
     "execution_count": 6,
     "metadata": {},
     "output_type": "execute_result"
    }
   ],
   "source": [
    "## To add one more items in items\n",
    "items.append(\"butter\")\n",
    "items\n",
    "\n",
    "## append method add the items at last position"
   ]
  },
  {
   "cell_type": "code",
   "execution_count": 10,
   "id": "581cd648",
   "metadata": {
    "ExecuteTime": {
     "end_time": "2024-06-13T07:14:52.979233Z",
     "start_time": "2024-06-13T07:14:52.963314Z"
    }
   },
   "outputs": [
    {
     "data": {
      "text/plain": [
       "['bread', 'butter', 'butter', 'pasta', 'fruits', 'veggies']"
      ]
     },
     "execution_count": 10,
     "metadata": {},
     "output_type": "execute_result"
    }
   ],
   "source": [
    "## if you add items to specific index then use insert method\n",
    "items.insert(1,\"butter\")\n",
    "items "
   ]
  },
  {
   "cell_type": "code",
   "execution_count": 12,
   "id": "54a73b3f",
   "metadata": {
    "ExecuteTime": {
     "end_time": "2024-06-13T07:15:37.136586Z",
     "start_time": "2024-06-13T07:15:37.125992Z"
    }
   },
   "outputs": [
    {
     "data": {
      "text/plain": [
       "['bread', 'butter', 'butter', 'pasta', 'fruits', 'veggies']"
      ]
     },
     "execution_count": 12,
     "metadata": {},
     "output_type": "execute_result"
    }
   ],
   "source": [
    "## reverse to view the elements\n",
    "items.reverse()\n",
    "items "
   ]
  },
  {
   "cell_type": "code",
   "execution_count": 13,
   "id": "94f17d0b",
   "metadata": {
    "ExecuteTime": {
     "end_time": "2024-06-13T07:16:38.541824Z",
     "start_time": "2024-06-13T07:16:38.525521Z"
    }
   },
   "outputs": [
    {
     "data": {
      "text/plain": [
       "['bread', 'butter', 'butter', 'fruits', 'veggies']"
      ]
     },
     "execution_count": 13,
     "metadata": {},
     "output_type": "execute_result"
    }
   ],
   "source": [
    "# removing specific value from list\n",
    "items.remove('pasta')\n",
    "items "
   ]
  },
  {
   "cell_type": "code",
   "execution_count": 15,
   "id": "271a7f47",
   "metadata": {
    "ExecuteTime": {
     "end_time": "2024-06-13T07:17:07.794260Z",
     "start_time": "2024-06-13T07:17:07.775455Z"
    }
   },
   "outputs": [
    {
     "data": {
      "text/plain": [
       "['bread', 'butter', 'butter']"
      ]
     },
     "execution_count": 15,
     "metadata": {},
     "output_type": "execute_result"
    }
   ],
   "source": [
    "# pop method removing last value from the list (by default)\n",
    "items.pop()\n",
    "items "
   ]
  },
  {
   "cell_type": "code",
   "execution_count": 16,
   "id": "7830c41a",
   "metadata": {
    "ExecuteTime": {
     "end_time": "2024-06-13T07:17:26.767673Z",
     "start_time": "2024-06-13T07:17:26.752219Z"
    }
   },
   "outputs": [],
   "source": [
    "# removing all values from the list\n",
    "items.clear()"
   ]
  },
  {
   "cell_type": "code",
   "execution_count": 17,
   "id": "7c1c5200",
   "metadata": {
    "ExecuteTime": {
     "end_time": "2024-06-13T07:17:33.075983Z",
     "start_time": "2024-06-13T07:17:33.063193Z"
    }
   },
   "outputs": [
    {
     "data": {
      "text/plain": [
       "[]"
      ]
     },
     "execution_count": 17,
     "metadata": {},
     "output_type": "execute_result"
    }
   ],
   "source": [
    "items "
   ]
  },
  {
   "cell_type": "code",
   "execution_count": 21,
   "id": "4e5fbc3a",
   "metadata": {
    "ExecuteTime": {
     "end_time": "2024-06-13T07:18:43.002015Z",
     "start_time": "2024-06-13T07:18:42.985433Z"
    }
   },
   "outputs": [
    {
     "data": {
      "text/plain": [
       "['bread', 'fruits', 'pasta', 'veggies']"
      ]
     },
     "execution_count": 21,
     "metadata": {},
     "output_type": "execute_result"
    }
   ],
   "source": [
    "# sorting in ascending order\n",
    "items.sort()\n",
    "items "
   ]
  },
  {
   "cell_type": "code",
   "execution_count": 22,
   "id": "10a4bcf7",
   "metadata": {
    "ExecuteTime": {
     "end_time": "2024-06-13T07:19:24.929365Z",
     "start_time": "2024-06-13T07:19:24.913134Z"
    }
   },
   "outputs": [
    {
     "data": {
      "text/plain": [
       "['veggies', 'pasta', 'fruits', 'bread']"
      ]
     },
     "execution_count": 22,
     "metadata": {},
     "output_type": "execute_result"
    }
   ],
   "source": [
    "# sorting in descending order\n",
    "items.sort(reverse=True)\n",
    "items "
   ]
  },
  {
   "cell_type": "code",
   "execution_count": 25,
   "id": "cfcf3e18",
   "metadata": {
    "ExecuteTime": {
     "end_time": "2024-06-13T07:22:06.553921Z",
     "start_time": "2024-06-13T07:22:06.512535Z"
    }
   },
   "outputs": [
    {
     "data": {
      "text/plain": [
       "['manu', 'paul', 25, (1+3j)]"
      ]
     },
     "execution_count": 25,
     "metadata": {},
     "output_type": "execute_result"
    }
   ],
   "source": [
    "## List are hetrogenous data types\n",
    "\n",
    "list1 =['manu','paul',25,1+3j] \n",
    "list1"
   ]
  },
  {
   "cell_type": "code",
   "execution_count": 26,
   "id": "2cf2934e",
   "metadata": {
    "ExecuteTime": {
     "end_time": "2024-06-13T07:24:06.542015Z",
     "start_time": "2024-06-13T07:24:06.510826Z"
    }
   },
   "outputs": [
    {
     "data": {
      "text/plain": [
       "['bread', 'butter', 'pasta', 'veggies', 'soup', 'shampoo', 'detergent']"
      ]
     },
     "execution_count": 26,
     "metadata": {},
     "output_type": "execute_result"
    }
   ],
   "source": [
    "## Adding two list\n",
    "\n",
    "food_items = ['bread','butter','pasta','veggies']\n",
    "bathroom_items = ['soup','shampoo','detergent']\n",
    "final_list = food_items + bathroom_items\n",
    "final_list "
   ]
  },
  {
   "cell_type": "markdown",
   "id": "95901f7d",
   "metadata": {},
   "source": [
    "# List exercises"
   ]
  },
  {
   "cell_type": "markdown",
   "id": "551d7dda",
   "metadata": {},
   "source": [
    "You are a Marvel fan and created a list of superheroes.\n",
    "\n",
    "​​​​​​​avengers  = [\"Iron Man\", \"Captain America\", \"Black Widow\", \"Hulk\", \"Thor\", \"Hawkeye\"]"
   ]
  },
  {
   "cell_type": "code",
   "execution_count": 31,
   "id": "f5854829",
   "metadata": {
    "ExecuteTime": {
     "end_time": "2024-06-13T07:33:06.162061Z",
     "start_time": "2024-06-13T07:33:06.145691Z"
    }
   },
   "outputs": [
    {
     "data": {
      "text/plain": [
       "['Iron Man', 'Captain America', 'Black Widow', 'Hulk', 'Thor', 'Hawkeye']"
      ]
     },
     "execution_count": 31,
     "metadata": {},
     "output_type": "execute_result"
    }
   ],
   "source": [
    "avengers = [\"Iron Man\", \"Captain America\", \"Black Widow\", \"Hulk\", \"Thor\", \"Hawkeye\"]\n",
    "avengers "
   ]
  },
  {
   "cell_type": "markdown",
   "id": "7a352545",
   "metadata": {},
   "source": [
    "Using this list, do the following:\n",
    "\n",
    "1.Calculate how many members are in the Avengers team?\n",
    "\n",
    "2.Iron Man made Spider-Man a new member of the Avengers, add him to your list.\n",
    "\n",
    "3.Captain America is the leader of the Avengers, you need to add him before Iron Man, so remove him from the list and add him before Iron Man.\n",
    "\n",
    "4.You don’t like Thor and Hulk together because they get angry easily and fight with each other. So you have to separate them from each other. To separate them, either move “Black Widow” or “Hawkeye” in between them.\n",
    "\n",
    "5.After Avengers: End Game the original six avengers are retired, now you need to remove them from your list and add new superheroes like Doctor Strange, Vision, Wanda, Kate Bishop, and Ant-Man.\n",
    "\n",
    "6.As “Captain America” is also retired and now currently, no one is the leader, so sort the list in alphabetical order. Whoever will come at the 0th index will become the Leader. (BONUS: can you guess who will become the leader)"
   ]
  },
  {
   "cell_type": "code",
   "execution_count": 32,
   "id": "eea2b237",
   "metadata": {
    "ExecuteTime": {
     "end_time": "2024-06-13T07:33:09.942750Z",
     "start_time": "2024-06-13T07:33:09.926947Z"
    }
   },
   "outputs": [
    {
     "data": {
      "text/plain": [
       "6"
      ]
     },
     "execution_count": 32,
     "metadata": {},
     "output_type": "execute_result"
    }
   ],
   "source": [
    "# 1.Calculate how many members are in the avengers team\n",
    "len(avengers)"
   ]
  },
  {
   "cell_type": "code",
   "execution_count": 33,
   "id": "a1c8c715",
   "metadata": {
    "ExecuteTime": {
     "end_time": "2024-06-13T07:33:18.855582Z",
     "start_time": "2024-06-13T07:33:18.838269Z"
    }
   },
   "outputs": [
    {
     "data": {
      "text/plain": [
       "['Iron Man',\n",
       " 'Captain America',\n",
       " 'Black Widow',\n",
       " 'Hulk',\n",
       " 'Thor',\n",
       " 'Hawkeye',\n",
       " 'Spider-Man']"
      ]
     },
     "execution_count": 33,
     "metadata": {},
     "output_type": "execute_result"
    }
   ],
   "source": [
    "# 2.Iron Man made Spider-Man a new member of the Avengers, add him to your list.\n",
    "avengers.append(\"Spider-Man\")\n",
    "avengers"
   ]
  },
  {
   "cell_type": "code",
   "execution_count": 34,
   "id": "f122b187",
   "metadata": {
    "ExecuteTime": {
     "end_time": "2024-06-13T07:33:51.124879Z",
     "start_time": "2024-06-13T07:33:51.101160Z"
    }
   },
   "outputs": [
    {
     "data": {
      "text/plain": [
       "['Iron Man', 'Black Widow', 'Hulk', 'Thor', 'Hawkeye', 'Spider-Man']"
      ]
     },
     "execution_count": 34,
     "metadata": {},
     "output_type": "execute_result"
    }
   ],
   "source": [
    "# 3.Captain America is the leader of the Avengers, you need to add him before Iron Man, so remove him from the list and add him before Iron Man.\n",
    "avengers.remove('Captain America')\n",
    "avengers "
   ]
  },
  {
   "cell_type": "code",
   "execution_count": 35,
   "id": "31d90fa9",
   "metadata": {
    "ExecuteTime": {
     "end_time": "2024-06-13T07:34:17.568314Z",
     "start_time": "2024-06-13T07:34:17.552604Z"
    }
   },
   "outputs": [
    {
     "data": {
      "text/plain": [
       "['Captain America',\n",
       " 'Iron Man',\n",
       " 'Black Widow',\n",
       " 'Hulk',\n",
       " 'Thor',\n",
       " 'Hawkeye',\n",
       " 'Spider-Man']"
      ]
     },
     "execution_count": 35,
     "metadata": {},
     "output_type": "execute_result"
    }
   ],
   "source": [
    "avengers.insert(0,\"Captain America\")\n",
    "avengers"
   ]
  },
  {
   "cell_type": "code",
   "execution_count": 36,
   "id": "ffb8bbbb",
   "metadata": {
    "ExecuteTime": {
     "end_time": "2024-06-13T07:40:56.013512Z",
     "start_time": "2024-06-13T07:40:55.989234Z"
    }
   },
   "outputs": [
    {
     "data": {
      "text/plain": [
       "['Captain America', 'Iron Man', 'Hulk', 'Thor', 'Hawkeye', 'Spider-Man']"
      ]
     },
     "execution_count": 36,
     "metadata": {},
     "output_type": "execute_result"
    }
   ],
   "source": [
    "# 4.You don’t like Thor and Hulk together because they get angry easily and fight with each other. So you have to separate them from each other. To separate them, either move “Black Widow” or “Hawkeye” in between them\n",
    "avengers.remove('Black Widow')\n",
    "avengers "
   ]
  },
  {
   "cell_type": "code",
   "execution_count": 37,
   "id": "eb158983",
   "metadata": {
    "ExecuteTime": {
     "end_time": "2024-06-13T07:41:49.495469Z",
     "start_time": "2024-06-13T07:41:49.474172Z"
    }
   },
   "outputs": [
    {
     "data": {
      "text/plain": [
       "['Captain America',\n",
       " 'Iron Man',\n",
       " 'Hulk',\n",
       " 'Black Widow',\n",
       " 'Thor',\n",
       " 'Hawkeye',\n",
       " 'Spider-Man']"
      ]
     },
     "execution_count": 37,
     "metadata": {},
     "output_type": "execute_result"
    }
   ],
   "source": [
    "avengers.insert(3,\"Black Widow\")\n",
    "avengers "
   ]
  },
  {
   "cell_type": "code",
   "execution_count": 52,
   "id": "38ae91e4",
   "metadata": {
    "ExecuteTime": {
     "end_time": "2024-06-13T08:08:32.811603Z",
     "start_time": "2024-06-13T08:08:32.795539Z"
    }
   },
   "outputs": [],
   "source": [
    "# 5.After Avengers: End Game the original six avengers are retired, now you need to remove them from your list and add new superheroes like Doctor Strange, Vision, Wanda, Kate Bishop, and Ant-Man\n",
    "avengers.remove('Hawkeye')\n"
   ]
  },
  {
   "cell_type": "code",
   "execution_count": 53,
   "id": "b2f7770e",
   "metadata": {
    "ExecuteTime": {
     "end_time": "2024-06-13T08:08:44.916781Z",
     "start_time": "2024-06-13T08:08:44.892731Z"
    }
   },
   "outputs": [
    {
     "data": {
      "text/plain": [
       "['Spider-Man']"
      ]
     },
     "execution_count": 53,
     "metadata": {},
     "output_type": "execute_result"
    }
   ],
   "source": [
    "avengers "
   ]
  },
  {
   "cell_type": "code",
   "execution_count": 54,
   "id": "ea4a0fba",
   "metadata": {
    "ExecuteTime": {
     "end_time": "2024-06-13T08:12:57.801569Z",
     "start_time": "2024-06-13T08:12:57.785884Z"
    }
   },
   "outputs": [
    {
     "data": {
      "text/plain": [
       "['Doctor Strange', 'Vision', 'Wanda', 'Kate Bishop', 'Ant-Man']"
      ]
     },
     "execution_count": 54,
     "metadata": {},
     "output_type": "execute_result"
    }
   ],
   "source": [
    "new_superheroes = ['Doctor Strange','Vision','Wanda','Kate Bishop','Ant-Man']\n",
    "new_superheroes "
   ]
  },
  {
   "cell_type": "code",
   "execution_count": 55,
   "id": "416c3b98",
   "metadata": {
    "ExecuteTime": {
     "end_time": "2024-06-13T08:13:43.596169Z",
     "start_time": "2024-06-13T08:13:43.576635Z"
    }
   },
   "outputs": [
    {
     "data": {
      "text/plain": [
       "['Spider-Man', 'Doctor Strange', 'Vision', 'Wanda', 'Kate Bishop', 'Ant-Man']"
      ]
     },
     "execution_count": 55,
     "metadata": {},
     "output_type": "execute_result"
    }
   ],
   "source": [
    "New_super_aveng = avengers + new_superheroes\n",
    "\n",
    "New_super_aveng"
   ]
  },
  {
   "cell_type": "code",
   "execution_count": 57,
   "id": "6f3a23d9",
   "metadata": {
    "ExecuteTime": {
     "end_time": "2024-06-13T08:15:00.594486Z",
     "start_time": "2024-06-13T08:15:00.580091Z"
    }
   },
   "outputs": [
    {
     "data": {
      "text/plain": [
       "['Ant-Man', 'Doctor Strange', 'Kate Bishop', 'Spider-Man', 'Vision', 'Wanda']"
      ]
     },
     "execution_count": 57,
     "metadata": {},
     "output_type": "execute_result"
    }
   ],
   "source": [
    "# Q.6 As “Captain America” is also retired and now currently, no one is the leader, so sort the list in alphabetical order. Whoever will come at the 0th index will become the Leader. (BONUS: can you guess who will become the leader)\n",
    "New_super_aveng.sort()\n",
    "New_super_aveng "
   ]
  },
  {
   "cell_type": "markdown",
   "id": "e874e227",
   "metadata": {
    "ExecuteTime": {
     "end_time": "2024-06-13T08:15:41.172389Z",
     "start_time": "2024-06-13T08:15:41.158743Z"
    }
   },
   "source": [
    "# Conclusion :Ant- Man will be leader of new superheroes as it comes at 0th position after sorting"
   ]
  },
  {
   "cell_type": "code",
   "execution_count": null,
   "id": "b730396e",
   "metadata": {},
   "outputs": [],
   "source": []
  }
 ],
 "metadata": {
  "kernelspec": {
   "display_name": "Python 3 (ipykernel)",
   "language": "python",
   "name": "python3"
  },
  "language_info": {
   "codemirror_mode": {
    "name": "ipython",
    "version": 3
   },
   "file_extension": ".py",
   "mimetype": "text/x-python",
   "name": "python",
   "nbconvert_exporter": "python",
   "pygments_lexer": "ipython3",
   "version": "3.8.10"
  },
  "toc": {
   "base_numbering": 1,
   "nav_menu": {},
   "number_sections": true,
   "sideBar": true,
   "skip_h1_title": false,
   "title_cell": "Table of Contents",
   "title_sidebar": "Contents",
   "toc_cell": false,
   "toc_position": {},
   "toc_section_display": true,
   "toc_window_display": false
  },
  "varInspector": {
   "cols": {
    "lenName": 16,
    "lenType": 16,
    "lenVar": 40
   },
   "kernels_config": {
    "python": {
     "delete_cmd_postfix": "",
     "delete_cmd_prefix": "del ",
     "library": "var_list.py",
     "varRefreshCmd": "print(var_dic_list())"
    },
    "r": {
     "delete_cmd_postfix": ") ",
     "delete_cmd_prefix": "rm(",
     "library": "var_list.r",
     "varRefreshCmd": "cat(var_dic_list()) "
    }
   },
   "types_to_exclude": [
    "module",
    "function",
    "builtin_function_or_method",
    "instance",
    "_Feature"
   ],
   "window_display": false
  }
 },
 "nbformat": 4,
 "nbformat_minor": 5
}
