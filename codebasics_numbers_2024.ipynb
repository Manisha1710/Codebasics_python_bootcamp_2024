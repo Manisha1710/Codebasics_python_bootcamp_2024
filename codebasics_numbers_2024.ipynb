{
 "cells": [
  {
   "cell_type": "code",
   "execution_count": 6,
   "id": "f3fc26b3",
   "metadata": {
    "ExecuteTime": {
     "end_time": "2024-06-12T11:31:06.722154Z",
     "start_time": "2024-06-12T11:31:06.716527Z"
    }
   },
   "outputs": [],
   "source": [
    "base = 10\n",
    "height = 7 "
   ]
  },
  {
   "cell_type": "code",
   "execution_count": 7,
   "id": "a69e62df",
   "metadata": {
    "ExecuteTime": {
     "end_time": "2024-06-12T11:31:09.047743Z",
     "start_time": "2024-06-12T11:31:09.038327Z"
    }
   },
   "outputs": [
    {
     "data": {
      "text/plain": [
       "int"
      ]
     },
     "execution_count": 7,
     "metadata": {},
     "output_type": "execute_result"
    }
   ],
   "source": [
    "type(base)"
   ]
  },
  {
   "cell_type": "code",
   "execution_count": 8,
   "id": "28acd998",
   "metadata": {
    "ExecuteTime": {
     "end_time": "2024-06-12T11:31:11.557674Z",
     "start_time": "2024-06-12T11:31:11.546537Z"
    }
   },
   "outputs": [
    {
     "data": {
      "text/plain": [
       "35.0"
      ]
     },
     "execution_count": 8,
     "metadata": {},
     "output_type": "execute_result"
    }
   ],
   "source": [
    "area = (1/2) * base * height\n",
    "area "
   ]
  },
  {
   "cell_type": "code",
   "execution_count": 9,
   "id": "c99e6c17",
   "metadata": {
    "ExecuteTime": {
     "end_time": "2024-06-12T11:31:22.115047Z",
     "start_time": "2024-06-12T11:31:22.103536Z"
    }
   },
   "outputs": [
    {
     "data": {
      "text/plain": [
       "float"
      ]
     },
     "execution_count": 9,
     "metadata": {},
     "output_type": "execute_result"
    }
   ],
   "source": [
    "type(area)"
   ]
  },
  {
   "cell_type": "code",
   "execution_count": 10,
   "id": "c852204d",
   "metadata": {
    "ExecuteTime": {
     "end_time": "2024-06-12T11:31:33.848795Z",
     "start_time": "2024-06-12T11:31:33.831862Z"
    }
   },
   "outputs": [
    {
     "data": {
      "text/plain": [
       "3"
      ]
     },
     "execution_count": 10,
     "metadata": {},
     "output_type": "execute_result"
    }
   ],
   "source": [
    "1+2 "
   ]
  },
  {
   "cell_type": "code",
   "execution_count": 11,
   "id": "c63fed08",
   "metadata": {
    "ExecuteTime": {
     "end_time": "2024-06-12T11:31:39.820602Z",
     "start_time": "2024-06-12T11:31:39.794521Z"
    }
   },
   "outputs": [
    {
     "data": {
      "text/plain": [
       "3.3333333333333335"
      ]
     },
     "execution_count": 11,
     "metadata": {},
     "output_type": "execute_result"
    }
   ],
   "source": [
    "10/ 3 "
   ]
  },
  {
   "cell_type": "code",
   "execution_count": 12,
   "id": "2dd222bf",
   "metadata": {
    "ExecuteTime": {
     "end_time": "2024-06-12T11:31:54.003519Z",
     "start_time": "2024-06-12T11:31:53.986077Z"
    }
   },
   "outputs": [
    {
     "data": {
      "text/plain": [
       "9"
      ]
     },
     "execution_count": 12,
     "metadata": {},
     "output_type": "execute_result"
    }
   ],
   "source": [
    "54-45 "
   ]
  },
  {
   "cell_type": "code",
   "execution_count": 13,
   "id": "a74385c4",
   "metadata": {
    "ExecuteTime": {
     "end_time": "2024-06-12T11:32:01.104007Z",
     "start_time": "2024-06-12T11:32:01.089967Z"
    }
   },
   "outputs": [
    {
     "data": {
      "text/plain": [
       "3"
      ]
     },
     "execution_count": 13,
     "metadata": {},
     "output_type": "execute_result"
    }
   ],
   "source": [
    "10 // 3 "
   ]
  },
  {
   "cell_type": "code",
   "execution_count": 14,
   "id": "f47415dd",
   "metadata": {
    "ExecuteTime": {
     "end_time": "2024-06-12T11:32:09.964605Z",
     "start_time": "2024-06-12T11:32:09.948207Z"
    }
   },
   "outputs": [
    {
     "data": {
      "text/plain": [
       "6"
      ]
     },
     "execution_count": 14,
     "metadata": {},
     "output_type": "execute_result"
    }
   ],
   "source": [
    "18 //3 "
   ]
  },
  {
   "cell_type": "code",
   "execution_count": 15,
   "id": "ac92488a",
   "metadata": {
    "ExecuteTime": {
     "end_time": "2024-06-12T11:32:29.142557Z",
     "start_time": "2024-06-12T11:32:29.130667Z"
    }
   },
   "outputs": [
    {
     "data": {
      "text/plain": [
       "0"
      ]
     },
     "execution_count": 15,
     "metadata": {},
     "output_type": "execute_result"
    }
   ],
   "source": [
    "## Division operator\n",
    "18 % 2 "
   ]
  },
  {
   "cell_type": "code",
   "execution_count": 16,
   "id": "bd51688a",
   "metadata": {
    "ExecuteTime": {
     "end_time": "2024-06-12T11:32:36.516465Z",
     "start_time": "2024-06-12T11:32:36.501937Z"
    }
   },
   "outputs": [
    {
     "data": {
      "text/plain": [
       "1"
      ]
     },
     "execution_count": 16,
     "metadata": {},
     "output_type": "execute_result"
    }
   ],
   "source": [
    "17 % 2 "
   ]
  },
  {
   "cell_type": "code",
   "execution_count": 17,
   "id": "91e71da8",
   "metadata": {
    "ExecuteTime": {
     "end_time": "2024-06-12T11:32:55.786285Z",
     "start_time": "2024-06-12T11:32:55.765600Z"
    }
   },
   "outputs": [
    {
     "data": {
      "text/plain": [
       "27"
      ]
     },
     "execution_count": 17,
     "metadata": {},
     "output_type": "execute_result"
    }
   ],
   "source": [
    "# expoential \n",
    "3**3 "
   ]
  },
  {
   "cell_type": "code",
   "execution_count": 18,
   "id": "1f7cba64",
   "metadata": {
    "ExecuteTime": {
     "end_time": "2024-06-12T11:33:06.261656Z",
     "start_time": "2024-06-12T11:33:06.252629Z"
    }
   },
   "outputs": [
    {
     "data": {
      "text/plain": [
       "16"
      ]
     },
     "execution_count": 18,
     "metadata": {},
     "output_type": "execute_result"
    }
   ],
   "source": [
    "10+2*3 "
   ]
  },
  {
   "cell_type": "code",
   "execution_count": 19,
   "id": "dec5a781",
   "metadata": {
    "ExecuteTime": {
     "end_time": "2024-06-12T11:34:23.100538Z",
     "start_time": "2024-06-12T11:34:23.093774Z"
    }
   },
   "outputs": [
    {
     "data": {
      "text/plain": [
       "36"
      ]
     },
     "execution_count": 19,
     "metadata": {},
     "output_type": "execute_result"
    }
   ],
   "source": [
    "(10+2)*3 "
   ]
  },
  {
   "cell_type": "code",
   "execution_count": 22,
   "id": "c54c2a4e",
   "metadata": {
    "ExecuteTime": {
     "end_time": "2024-06-12T11:35:20.041638Z",
     "start_time": "2024-06-12T11:35:20.025843Z"
    }
   },
   "outputs": [],
   "source": [
    "foo =2.3e4 ## 2.3*10^4"
   ]
  },
  {
   "cell_type": "code",
   "execution_count": 23,
   "id": "25bae1da",
   "metadata": {
    "ExecuteTime": {
     "end_time": "2024-06-12T11:35:22.789354Z",
     "start_time": "2024-06-12T11:35:22.781641Z"
    }
   },
   "outputs": [
    {
     "data": {
      "text/plain": [
       "23000.0"
      ]
     },
     "execution_count": 23,
     "metadata": {},
     "output_type": "execute_result"
    }
   ],
   "source": [
    "foo "
   ]
  },
  {
   "cell_type": "code",
   "execution_count": 24,
   "id": "a1f98a9d",
   "metadata": {
    "ExecuteTime": {
     "end_time": "2024-06-12T11:35:43.137366Z",
     "start_time": "2024-06-12T11:35:43.116177Z"
    }
   },
   "outputs": [
    {
     "data": {
      "text/plain": [
       "10000.0"
      ]
     },
     "execution_count": 24,
     "metadata": {},
     "output_type": "execute_result"
    }
   ],
   "source": [
    "1e4"
   ]
  },
  {
   "cell_type": "code",
   "execution_count": 25,
   "id": "8256fa56",
   "metadata": {
    "ExecuteTime": {
     "end_time": "2024-06-12T11:36:40.334069Z",
     "start_time": "2024-06-12T11:36:40.321070Z"
    }
   },
   "outputs": [
    {
     "data": {
      "text/plain": [
       "0.0023"
      ]
     },
     "execution_count": 25,
     "metadata": {},
     "output_type": "execute_result"
    }
   ],
   "source": [
    "## Negative expoentation\n",
    "bar = 2.3e-3 ## 2.3*10^-3 \n",
    "bar "
   ]
  },
  {
   "cell_type": "code",
   "execution_count": 26,
   "id": "0e62a178",
   "metadata": {
    "ExecuteTime": {
     "end_time": "2024-06-12T11:40:58.148139Z",
     "start_time": "2024-06-12T11:40:58.138135Z"
    }
   },
   "outputs": [],
   "source": [
    "food =120.34\n",
    "rent = 500.4 \n",
    "utilities = 200.5\n"
   ]
  },
  {
   "cell_type": "code",
   "execution_count": 27,
   "id": "9e1212c5",
   "metadata": {
    "ExecuteTime": {
     "end_time": "2024-06-12T11:41:20.255716Z",
     "start_time": "2024-06-12T11:41:20.240513Z"
    }
   },
   "outputs": [
    {
     "data": {
      "text/plain": [
       "821.24"
      ]
     },
     "execution_count": 27,
     "metadata": {},
     "output_type": "execute_result"
    }
   ],
   "source": [
    "total = food + rent + utilities\n",
    "total "
   ]
  },
  {
   "cell_type": "code",
   "execution_count": 28,
   "id": "073559dd",
   "metadata": {
    "ExecuteTime": {
     "end_time": "2024-06-12T11:41:39.319738Z",
     "start_time": "2024-06-12T11:41:39.305541Z"
    }
   },
   "outputs": [
    {
     "data": {
      "text/plain": [
       "821"
      ]
     },
     "execution_count": 28,
     "metadata": {},
     "output_type": "execute_result"
    }
   ],
   "source": [
    "round(total)"
   ]
  },
  {
   "cell_type": "code",
   "execution_count": 29,
   "id": "892243e6",
   "metadata": {
    "ExecuteTime": {
     "end_time": "2024-06-12T11:42:27.578599Z",
     "start_time": "2024-06-12T11:42:27.568388Z"
    }
   },
   "outputs": [
    {
     "data": {
      "text/plain": [
       "1000"
      ]
     },
     "execution_count": 29,
     "metadata": {},
     "output_type": "execute_result"
    }
   ],
   "source": [
    "income = 10000\n",
    "expenses = 9000\n",
    "savings = income - expenses\n",
    "savings "
   ]
  },
  {
   "cell_type": "code",
   "execution_count": 30,
   "id": "69e563c7",
   "metadata": {
    "ExecuteTime": {
     "end_time": "2024-06-12T11:45:02.365834Z",
     "start_time": "2024-06-12T11:45:02.348736Z"
    }
   },
   "outputs": [
    {
     "data": {
      "text/plain": [
       "'101'"
      ]
     },
     "execution_count": 30,
     "metadata": {},
     "output_type": "execute_result"
    }
   ],
   "source": [
    "## binary representation of integers\n",
    "format(5,'b')"
   ]
  },
  {
   "cell_type": "code",
   "execution_count": 31,
   "id": "2b67255b",
   "metadata": {
    "ExecuteTime": {
     "end_time": "2024-06-12T11:45:15.795096Z",
     "start_time": "2024-06-12T11:45:15.786091Z"
    }
   },
   "outputs": [
    {
     "data": {
      "text/plain": [
       "'100'"
      ]
     },
     "execution_count": 31,
     "metadata": {},
     "output_type": "execute_result"
    }
   ],
   "source": [
    "format(4,'b')"
   ]
  },
  {
   "cell_type": "code",
   "execution_count": 32,
   "id": "c710d0b7",
   "metadata": {
    "ExecuteTime": {
     "end_time": "2024-06-12T11:49:27.196191Z",
     "start_time": "2024-06-12T11:49:27.176943Z"
    }
   },
   "outputs": [
    {
     "data": {
      "text/plain": [
       "'1001'"
      ]
     },
     "execution_count": 32,
     "metadata": {},
     "output_type": "execute_result"
    }
   ],
   "source": [
    "format(9,'b')"
   ]
  },
  {
   "cell_type": "code",
   "execution_count": null,
   "id": "e38d2b2b",
   "metadata": {},
   "outputs": [],
   "source": []
  }
 ],
 "metadata": {
  "kernelspec": {
   "display_name": "Python 3 (ipykernel)",
   "language": "python",
   "name": "python3"
  },
  "language_info": {
   "codemirror_mode": {
    "name": "ipython",
    "version": 3
   },
   "file_extension": ".py",
   "mimetype": "text/x-python",
   "name": "python",
   "nbconvert_exporter": "python",
   "pygments_lexer": "ipython3",
   "version": "3.8.10"
  },
  "toc": {
   "base_numbering": 1,
   "nav_menu": {},
   "number_sections": true,
   "sideBar": true,
   "skip_h1_title": false,
   "title_cell": "Table of Contents",
   "title_sidebar": "Contents",
   "toc_cell": false,
   "toc_position": {},
   "toc_section_display": true,
   "toc_window_display": false
  },
  "varInspector": {
   "cols": {
    "lenName": 16,
    "lenType": 16,
    "lenVar": 40
   },
   "kernels_config": {
    "python": {
     "delete_cmd_postfix": "",
     "delete_cmd_prefix": "del ",
     "library": "var_list.py",
     "varRefreshCmd": "print(var_dic_list())"
    },
    "r": {
     "delete_cmd_postfix": ") ",
     "delete_cmd_prefix": "rm(",
     "library": "var_list.r",
     "varRefreshCmd": "cat(var_dic_list()) "
    }
   },
   "types_to_exclude": [
    "module",
    "function",
    "builtin_function_or_method",
    "instance",
    "_Feature"
   ],
   "window_display": false
  }
 },
 "nbformat": 4,
 "nbformat_minor": 5
}
