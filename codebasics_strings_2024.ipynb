{
 "cells": [
  {
   "cell_type": "code",
   "execution_count": 2,
   "id": "1575c730",
   "metadata": {
    "ExecuteTime": {
     "end_time": "2024-06-12T12:13:13.322464Z",
     "start_time": "2024-06-12T12:13:13.312411Z"
    }
   },
   "outputs": [],
   "source": [
    "first = \"Mohan\"\n",
    "last = \"Sharma\""
   ]
  },
  {
   "cell_type": "code",
   "execution_count": 3,
   "id": "a823890a",
   "metadata": {
    "ExecuteTime": {
     "end_time": "2024-06-12T12:13:22.944816Z",
     "start_time": "2024-06-12T12:13:22.908112Z"
    }
   },
   "outputs": [
    {
     "data": {
      "text/plain": [
       "str"
      ]
     },
     "execution_count": 3,
     "metadata": {},
     "output_type": "execute_result"
    }
   ],
   "source": [
    "type(first)"
   ]
  },
  {
   "cell_type": "code",
   "execution_count": 4,
   "id": "5ae02b7e",
   "metadata": {
    "ExecuteTime": {
     "end_time": "2024-06-12T12:13:36.007792Z",
     "start_time": "2024-06-12T12:13:35.981238Z"
    }
   },
   "outputs": [
    {
     "data": {
      "text/plain": [
       "'MohanSharma'"
      ]
     },
     "execution_count": 4,
     "metadata": {},
     "output_type": "execute_result"
    }
   ],
   "source": [
    "name  = first + last \n",
    "name "
   ]
  },
  {
   "cell_type": "code",
   "execution_count": 5,
   "id": "368e47f8",
   "metadata": {
    "ExecuteTime": {
     "end_time": "2024-06-12T12:13:50.815653Z",
     "start_time": "2024-06-12T12:13:50.797129Z"
    }
   },
   "outputs": [
    {
     "data": {
      "text/plain": [
       "'Mohan Sharma'"
      ]
     },
     "execution_count": 5,
     "metadata": {},
     "output_type": "execute_result"
    }
   ],
   "source": [
    "name = first + \" \" + last \n",
    "name "
   ]
  },
  {
   "cell_type": "code",
   "execution_count": 7,
   "id": "05a367aa",
   "metadata": {
    "ExecuteTime": {
     "end_time": "2024-06-12T12:15:31.527378Z",
     "start_time": "2024-06-12T12:15:31.511979Z"
    }
   },
   "outputs": [
    {
     "data": {
      "text/plain": [
       "'Mohan Sharma is healthy'"
      ]
     },
     "execution_count": 7,
     "metadata": {},
     "output_type": "execute_result"
    }
   ],
   "source": [
    "name = f'{first} {last} is healthy'\n",
    "name "
   ]
  },
  {
   "cell_type": "code",
   "execution_count": 10,
   "id": "c6ce2af0",
   "metadata": {
    "ExecuteTime": {
     "end_time": "2024-06-12T12:21:35.800702Z",
     "start_time": "2024-06-12T12:21:35.788730Z"
    }
   },
   "outputs": [
    {
     "data": {
      "text/plain": [
       "23"
      ]
     },
     "execution_count": 10,
     "metadata": {},
     "output_type": "execute_result"
    }
   ],
   "source": [
    "# finding out length of the variable name\n",
    " \n",
    "len(name)"
   ]
  },
  {
   "cell_type": "code",
   "execution_count": 11,
   "id": "129e593c",
   "metadata": {
    "ExecuteTime": {
     "end_time": "2024-06-12T12:22:26.759731Z",
     "start_time": "2024-06-12T12:22:26.752336Z"
    }
   },
   "outputs": [
    {
     "data": {
      "text/plain": [
       "'Mohan'"
      ]
     },
     "execution_count": 11,
     "metadata": {},
     "output_type": "execute_result"
    }
   ],
   "source": [
    "name[:5]"
   ]
  },
  {
   "cell_type": "code",
   "execution_count": 12,
   "id": "00386eb8",
   "metadata": {
    "ExecuteTime": {
     "end_time": "2024-06-12T12:22:37.556786Z",
     "start_time": "2024-06-12T12:22:37.542606Z"
    }
   },
   "outputs": [
    {
     "data": {
      "text/plain": [
       "'Sharma is healthy'"
      ]
     },
     "execution_count": 12,
     "metadata": {},
     "output_type": "execute_result"
    }
   ],
   "source": [
    "name[6:]"
   ]
  },
  {
   "cell_type": "code",
   "execution_count": 15,
   "id": "0f397361",
   "metadata": {
    "ExecuteTime": {
     "end_time": "2024-06-12T12:24:02.034683Z",
     "start_time": "2024-06-12T12:24:02.020435Z"
    }
   },
   "outputs": [
    {
     "data": {
      "text/plain": [
       "'Sharma is healthy'"
      ]
     },
     "execution_count": 15,
     "metadata": {},
     "output_type": "execute_result"
    }
   ],
   "source": [
    "name[-17:]"
   ]
  },
  {
   "cell_type": "code",
   "execution_count": 16,
   "id": "73fcd51e",
   "metadata": {
    "ExecuteTime": {
     "end_time": "2024-06-12T12:25:34.662326Z",
     "start_time": "2024-06-12T12:25:34.650741Z"
    }
   },
   "outputs": [
    {
     "data": {
      "text/plain": [
       "'samosa, jalebi'"
      ]
     },
     "execution_count": 16,
     "metadata": {},
     "output_type": "execute_result"
    }
   ],
   "source": [
    "## Boolean data types\n",
    "\n",
    "my_foods = \"samosa, jalebi\"\n",
    "my_foods "
   ]
  },
  {
   "cell_type": "code",
   "execution_count": 17,
   "id": "299efbdd",
   "metadata": {
    "ExecuteTime": {
     "end_time": "2024-06-12T12:25:57.636331Z",
     "start_time": "2024-06-12T12:25:57.620235Z"
    }
   },
   "outputs": [
    {
     "data": {
      "text/plain": [
       "True"
      ]
     },
     "execution_count": 17,
     "metadata": {},
     "output_type": "execute_result"
    }
   ],
   "source": [
    "'samosa' in my_foods"
   ]
  },
  {
   "cell_type": "code",
   "execution_count": 18,
   "id": "038abd9b",
   "metadata": {
    "ExecuteTime": {
     "end_time": "2024-06-12T12:26:17.874827Z",
     "start_time": "2024-06-12T12:26:17.856470Z"
    }
   },
   "outputs": [
    {
     "data": {
      "text/plain": [
       "True"
      ]
     },
     "execution_count": 18,
     "metadata": {},
     "output_type": "execute_result"
    }
   ],
   "source": [
    "'jalebi' in my_foods"
   ]
  },
  {
   "cell_type": "code",
   "execution_count": 19,
   "id": "9f32cf60",
   "metadata": {
    "ExecuteTime": {
     "end_time": "2024-06-12T12:26:27.047113Z",
     "start_time": "2024-06-12T12:26:27.039098Z"
    }
   },
   "outputs": [
    {
     "data": {
      "text/plain": [
       "False"
      ]
     },
     "execution_count": 19,
     "metadata": {},
     "output_type": "execute_result"
    }
   ],
   "source": [
    "'salad' in my_foods "
   ]
  },
  {
   "cell_type": "code",
   "execution_count": 20,
   "id": "07005aa7",
   "metadata": {
    "ExecuteTime": {
     "end_time": "2024-06-12T12:27:28.320321Z",
     "start_time": "2024-06-12T12:27:28.307806Z"
    }
   },
   "outputs": [
    {
     "data": {
      "text/plain": [
       "True"
      ]
     },
     "execution_count": 20,
     "metadata": {},
     "output_type": "execute_result"
    }
   ],
   "source": [
    "'salad' not in my_foods"
   ]
  },
  {
   "cell_type": "code",
   "execution_count": 21,
   "id": "8a28779f",
   "metadata": {
    "ExecuteTime": {
     "end_time": "2024-06-12T12:27:48.003076Z",
     "start_time": "2024-06-12T12:27:47.995893Z"
    }
   },
   "outputs": [
    {
     "data": {
      "text/plain": [
       "False"
      ]
     },
     "execution_count": 21,
     "metadata": {},
     "output_type": "execute_result"
    }
   ],
   "source": [
    "'jalebi' not in my_foods"
   ]
  },
  {
   "cell_type": "code",
   "execution_count": 22,
   "id": "ea45e014",
   "metadata": {
    "ExecuteTime": {
     "end_time": "2024-06-12T12:35:23.039635Z",
     "start_time": "2024-06-12T12:35:23.026476Z"
    }
   },
   "outputs": [
    {
     "data": {
      "text/plain": [
       "'patient was charged $100 for lab test '"
      ]
     },
     "execution_count": 22,
     "metadata": {},
     "output_type": "execute_result"
    }
   ],
   "source": [
    "s = 'patient was charged $100 for lab test '\n",
    "s "
   ]
  },
  {
   "cell_type": "code",
   "execution_count": 28,
   "id": "57b316ef",
   "metadata": {
    "ExecuteTime": {
     "end_time": "2024-06-12T12:38:31.693509Z",
     "start_time": "2024-06-12T12:38:31.686032Z"
    }
   },
   "outputs": [
    {
     "data": {
      "text/plain": [
       "'patient was charged $50 for lab test '"
      ]
     },
     "execution_count": 28,
     "metadata": {},
     "output_type": "execute_result"
    }
   ],
   "source": [
    "s= s.replace(\"$100\",\"$50\")\n",
    "s "
   ]
  },
  {
   "cell_type": "code",
   "execution_count": 29,
   "id": "36bf6c83",
   "metadata": {
    "ExecuteTime": {
     "end_time": "2024-06-12T12:38:45.127678Z",
     "start_time": "2024-06-12T12:38:45.116679Z"
    }
   },
   "outputs": [
    {
     "data": {
      "text/plain": [
       "'Patient was charged $50 for lab test '"
      ]
     },
     "execution_count": 29,
     "metadata": {},
     "output_type": "execute_result"
    }
   ],
   "source": [
    "s.capitalize()"
   ]
  },
  {
   "cell_type": "code",
   "execution_count": 30,
   "id": "4aea5b33",
   "metadata": {
    "ExecuteTime": {
     "end_time": "2024-06-12T12:39:01.577234Z",
     "start_time": "2024-06-12T12:39:01.558222Z"
    }
   },
   "outputs": [
    {
     "data": {
      "text/plain": [
       "'PATIENT WAS CHARGED $50 FOR LAB TEST '"
      ]
     },
     "execution_count": 30,
     "metadata": {},
     "output_type": "execute_result"
    }
   ],
   "source": [
    "s.upper()"
   ]
  },
  {
   "cell_type": "code",
   "execution_count": 31,
   "id": "ac364c0c",
   "metadata": {
    "ExecuteTime": {
     "end_time": "2024-06-12T12:39:12.972264Z",
     "start_time": "2024-06-12T12:39:12.961263Z"
    }
   },
   "outputs": [
    {
     "data": {
      "text/plain": [
       "'patient was charged $50 for lab test '"
      ]
     },
     "execution_count": 31,
     "metadata": {},
     "output_type": "execute_result"
    }
   ],
   "source": [
    "s.lower()"
   ]
  },
  {
   "cell_type": "code",
   "execution_count": 32,
   "id": "992a7703",
   "metadata": {
    "ExecuteTime": {
     "end_time": "2024-06-12T12:40:57.338722Z",
     "start_time": "2024-06-12T12:40:57.321162Z"
    }
   },
   "outputs": [
    {
     "data": {
      "text/plain": [
       "'patient was charged $50 for lab test'"
      ]
     },
     "execution_count": 32,
     "metadata": {},
     "output_type": "execute_result"
    }
   ],
   "source": [
    "s.strip()"
   ]
  },
  {
   "cell_type": "code",
   "execution_count": 34,
   "id": "9102e930",
   "metadata": {
    "ExecuteTime": {
     "end_time": "2024-06-12T12:41:35.162307Z",
     "start_time": "2024-06-12T12:41:35.149013Z"
    }
   },
   "outputs": [
    {
     "data": {
      "text/plain": [
       "False"
      ]
     },
     "execution_count": 34,
     "metadata": {},
     "output_type": "execute_result"
    }
   ],
   "source": [
    "s.isdecimal()"
   ]
  },
  {
   "cell_type": "code",
   "execution_count": 36,
   "id": "4a0bb64d",
   "metadata": {
    "ExecuteTime": {
     "end_time": "2024-06-12T12:42:51.513081Z",
     "start_time": "2024-06-12T12:42:51.493150Z"
    }
   },
   "outputs": [
    {
     "data": {
      "text/plain": [
       "8"
      ]
     },
     "execution_count": 36,
     "metadata": {},
     "output_type": "execute_result"
    }
   ],
   "source": [
    "s.index('was')"
   ]
  },
  {
   "cell_type": "code",
   "execution_count": 37,
   "id": "c6248a57",
   "metadata": {
    "ExecuteTime": {
     "end_time": "2024-06-12T12:43:05.994393Z",
     "start_time": "2024-06-12T12:43:05.955036Z"
    }
   },
   "outputs": [
    {
     "ename": "ValueError",
     "evalue": "substring not found",
     "output_type": "error",
     "traceback": [
      "\u001b[1;31m---------------------------------------------------------------------------\u001b[0m",
      "\u001b[1;31mValueError\u001b[0m                                Traceback (most recent call last)",
      "Input \u001b[1;32mIn [37]\u001b[0m, in \u001b[0;36m<cell line: 1>\u001b[1;34m()\u001b[0m\n\u001b[1;32m----> 1\u001b[0m \u001b[43ms\u001b[49m\u001b[38;5;241;43m.\u001b[39;49m\u001b[43mindex\u001b[49m\u001b[43m(\u001b[49m\u001b[38;5;124;43m'\u001b[39;49m\u001b[38;5;124;43mhas\u001b[39;49m\u001b[38;5;124;43m'\u001b[39;49m\u001b[43m)\u001b[49m\n",
      "\u001b[1;31mValueError\u001b[0m: substring not found"
     ]
    }
   ],
   "source": [
    "s.index('has')"
   ]
  },
  {
   "cell_type": "code",
   "execution_count": 38,
   "id": "77f5f03f",
   "metadata": {
    "ExecuteTime": {
     "end_time": "2024-06-12T12:48:58.110545Z",
     "start_time": "2024-06-12T12:48:58.107546Z"
    }
   },
   "outputs": [],
   "source": [
    "string =\"CodeBasics\""
   ]
  },
  {
   "cell_type": "code",
   "execution_count": 39,
   "id": "e067b866",
   "metadata": {
    "ExecuteTime": {
     "end_time": "2024-06-12T12:49:43.429586Z",
     "start_time": "2024-06-12T12:49:43.410581Z"
    }
   },
   "outputs": [
    {
     "name": "stdout",
     "output_type": "stream",
     "text": [
      "Skill\n"
     ]
    }
   ],
   "source": [
    "print(string[:4].replace(\"Code\",\"Skill\"))"
   ]
  },
  {
   "cell_type": "code",
   "execution_count": 40,
   "id": "40aee7bf",
   "metadata": {
    "ExecuteTime": {
     "end_time": "2024-06-12T12:51:08.867103Z",
     "start_time": "2024-06-12T12:51:08.860105Z"
    }
   },
   "outputs": [],
   "source": [
    "s=\"hello python\"\n"
   ]
  },
  {
   "cell_type": "code",
   "execution_count": 41,
   "id": "84cc7d82",
   "metadata": {
    "ExecuteTime": {
     "end_time": "2024-06-12T12:51:17.329736Z",
     "start_time": "2024-06-12T12:51:17.323735Z"
    }
   },
   "outputs": [
    {
     "data": {
      "text/plain": [
       "'Hello Python'"
      ]
     },
     "execution_count": 41,
     "metadata": {},
     "output_type": "execute_result"
    }
   ],
   "source": [
    "s.title()"
   ]
  },
  {
   "cell_type": "markdown",
   "id": "9e7e9277",
   "metadata": {},
   "source": [
    "Open the Jupyter notebook and type this code help(str) in the code cell and press CTRL+enter. Now see what it returns? Go through these string methods and try to practice them"
   ]
  },
  {
   "cell_type": "code",
   "execution_count": 42,
   "id": "40be1642",
   "metadata": {
    "ExecuteTime": {
     "end_time": "2024-06-12T12:53:19.583388Z",
     "start_time": "2024-06-12T12:53:19.550851Z"
    }
   },
   "outputs": [
    {
     "name": "stdout",
     "output_type": "stream",
     "text": [
      "Help on class str in module builtins:\n",
      "\n",
      "class str(object)\n",
      " |  str(object='') -> str\n",
      " |  str(bytes_or_buffer[, encoding[, errors]]) -> str\n",
      " |  \n",
      " |  Create a new string object from the given object. If encoding or\n",
      " |  errors is specified, then the object must expose a data buffer\n",
      " |  that will be decoded using the given encoding and error handler.\n",
      " |  Otherwise, returns the result of object.__str__() (if defined)\n",
      " |  or repr(object).\n",
      " |  encoding defaults to sys.getdefaultencoding().\n",
      " |  errors defaults to 'strict'.\n",
      " |  \n",
      " |  Methods defined here:\n",
      " |  \n",
      " |  __add__(self, value, /)\n",
      " |      Return self+value.\n",
      " |  \n",
      " |  __contains__(self, key, /)\n",
      " |      Return key in self.\n",
      " |  \n",
      " |  __eq__(self, value, /)\n",
      " |      Return self==value.\n",
      " |  \n",
      " |  __format__(self, format_spec, /)\n",
      " |      Return a formatted version of the string as described by format_spec.\n",
      " |  \n",
      " |  __ge__(self, value, /)\n",
      " |      Return self>=value.\n",
      " |  \n",
      " |  __getattribute__(self, name, /)\n",
      " |      Return getattr(self, name).\n",
      " |  \n",
      " |  __getitem__(self, key, /)\n",
      " |      Return self[key].\n",
      " |  \n",
      " |  __getnewargs__(...)\n",
      " |  \n",
      " |  __gt__(self, value, /)\n",
      " |      Return self>value.\n",
      " |  \n",
      " |  __hash__(self, /)\n",
      " |      Return hash(self).\n",
      " |  \n",
      " |  __iter__(self, /)\n",
      " |      Implement iter(self).\n",
      " |  \n",
      " |  __le__(self, value, /)\n",
      " |      Return self<=value.\n",
      " |  \n",
      " |  __len__(self, /)\n",
      " |      Return len(self).\n",
      " |  \n",
      " |  __lt__(self, value, /)\n",
      " |      Return self<value.\n",
      " |  \n",
      " |  __mod__(self, value, /)\n",
      " |      Return self%value.\n",
      " |  \n",
      " |  __mul__(self, value, /)\n",
      " |      Return self*value.\n",
      " |  \n",
      " |  __ne__(self, value, /)\n",
      " |      Return self!=value.\n",
      " |  \n",
      " |  __repr__(self, /)\n",
      " |      Return repr(self).\n",
      " |  \n",
      " |  __rmod__(self, value, /)\n",
      " |      Return value%self.\n",
      " |  \n",
      " |  __rmul__(self, value, /)\n",
      " |      Return value*self.\n",
      " |  \n",
      " |  __sizeof__(self, /)\n",
      " |      Return the size of the string in memory, in bytes.\n",
      " |  \n",
      " |  __str__(self, /)\n",
      " |      Return str(self).\n",
      " |  \n",
      " |  capitalize(self, /)\n",
      " |      Return a capitalized version of the string.\n",
      " |      \n",
      " |      More specifically, make the first character have upper case and the rest lower\n",
      " |      case.\n",
      " |  \n",
      " |  casefold(self, /)\n",
      " |      Return a version of the string suitable for caseless comparisons.\n",
      " |  \n",
      " |  center(self, width, fillchar=' ', /)\n",
      " |      Return a centered string of length width.\n",
      " |      \n",
      " |      Padding is done using the specified fill character (default is a space).\n",
      " |  \n",
      " |  count(...)\n",
      " |      S.count(sub[, start[, end]]) -> int\n",
      " |      \n",
      " |      Return the number of non-overlapping occurrences of substring sub in\n",
      " |      string S[start:end].  Optional arguments start and end are\n",
      " |      interpreted as in slice notation.\n",
      " |  \n",
      " |  encode(self, /, encoding='utf-8', errors='strict')\n",
      " |      Encode the string using the codec registered for encoding.\n",
      " |      \n",
      " |      encoding\n",
      " |        The encoding in which to encode the string.\n",
      " |      errors\n",
      " |        The error handling scheme to use for encoding errors.\n",
      " |        The default is 'strict' meaning that encoding errors raise a\n",
      " |        UnicodeEncodeError.  Other possible values are 'ignore', 'replace' and\n",
      " |        'xmlcharrefreplace' as well as any other name registered with\n",
      " |        codecs.register_error that can handle UnicodeEncodeErrors.\n",
      " |  \n",
      " |  endswith(...)\n",
      " |      S.endswith(suffix[, start[, end]]) -> bool\n",
      " |      \n",
      " |      Return True if S ends with the specified suffix, False otherwise.\n",
      " |      With optional start, test S beginning at that position.\n",
      " |      With optional end, stop comparing S at that position.\n",
      " |      suffix can also be a tuple of strings to try.\n",
      " |  \n",
      " |  expandtabs(self, /, tabsize=8)\n",
      " |      Return a copy where all tab characters are expanded using spaces.\n",
      " |      \n",
      " |      If tabsize is not given, a tab size of 8 characters is assumed.\n",
      " |  \n",
      " |  find(...)\n",
      " |      S.find(sub[, start[, end]]) -> int\n",
      " |      \n",
      " |      Return the lowest index in S where substring sub is found,\n",
      " |      such that sub is contained within S[start:end].  Optional\n",
      " |      arguments start and end are interpreted as in slice notation.\n",
      " |      \n",
      " |      Return -1 on failure.\n",
      " |  \n",
      " |  format(...)\n",
      " |      S.format(*args, **kwargs) -> str\n",
      " |      \n",
      " |      Return a formatted version of S, using substitutions from args and kwargs.\n",
      " |      The substitutions are identified by braces ('{' and '}').\n",
      " |  \n",
      " |  format_map(...)\n",
      " |      S.format_map(mapping) -> str\n",
      " |      \n",
      " |      Return a formatted version of S, using substitutions from mapping.\n",
      " |      The substitutions are identified by braces ('{' and '}').\n",
      " |  \n",
      " |  index(...)\n",
      " |      S.index(sub[, start[, end]]) -> int\n",
      " |      \n",
      " |      Return the lowest index in S where substring sub is found,\n",
      " |      such that sub is contained within S[start:end].  Optional\n",
      " |      arguments start and end are interpreted as in slice notation.\n",
      " |      \n",
      " |      Raises ValueError when the substring is not found.\n",
      " |  \n",
      " |  isalnum(self, /)\n",
      " |      Return True if the string is an alpha-numeric string, False otherwise.\n",
      " |      \n",
      " |      A string is alpha-numeric if all characters in the string are alpha-numeric and\n",
      " |      there is at least one character in the string.\n",
      " |  \n",
      " |  isalpha(self, /)\n",
      " |      Return True if the string is an alphabetic string, False otherwise.\n",
      " |      \n",
      " |      A string is alphabetic if all characters in the string are alphabetic and there\n",
      " |      is at least one character in the string.\n",
      " |  \n",
      " |  isascii(self, /)\n",
      " |      Return True if all characters in the string are ASCII, False otherwise.\n",
      " |      \n",
      " |      ASCII characters have code points in the range U+0000-U+007F.\n",
      " |      Empty string is ASCII too.\n",
      " |  \n",
      " |  isdecimal(self, /)\n",
      " |      Return True if the string is a decimal string, False otherwise.\n",
      " |      \n",
      " |      A string is a decimal string if all characters in the string are decimal and\n",
      " |      there is at least one character in the string.\n",
      " |  \n",
      " |  isdigit(self, /)\n",
      " |      Return True if the string is a digit string, False otherwise.\n",
      " |      \n",
      " |      A string is a digit string if all characters in the string are digits and there\n",
      " |      is at least one character in the string.\n",
      " |  \n",
      " |  isidentifier(self, /)\n",
      " |      Return True if the string is a valid Python identifier, False otherwise.\n",
      " |      \n",
      " |      Call keyword.iskeyword(s) to test whether string s is a reserved identifier,\n",
      " |      such as \"def\" or \"class\".\n",
      " |  \n",
      " |  islower(self, /)\n",
      " |      Return True if the string is a lowercase string, False otherwise.\n",
      " |      \n",
      " |      A string is lowercase if all cased characters in the string are lowercase and\n",
      " |      there is at least one cased character in the string.\n",
      " |  \n",
      " |  isnumeric(self, /)\n",
      " |      Return True if the string is a numeric string, False otherwise.\n",
      " |      \n",
      " |      A string is numeric if all characters in the string are numeric and there is at\n",
      " |      least one character in the string.\n",
      " |  \n",
      " |  isprintable(self, /)\n",
      " |      Return True if the string is printable, False otherwise.\n",
      " |      \n",
      " |      A string is printable if all of its characters are considered printable in\n",
      " |      repr() or if it is empty.\n",
      " |  \n",
      " |  isspace(self, /)\n",
      " |      Return True if the string is a whitespace string, False otherwise.\n",
      " |      \n",
      " |      A string is whitespace if all characters in the string are whitespace and there\n",
      " |      is at least one character in the string.\n",
      " |  \n",
      " |  istitle(self, /)\n",
      " |      Return True if the string is a title-cased string, False otherwise.\n",
      " |      \n",
      " |      In a title-cased string, upper- and title-case characters may only\n",
      " |      follow uncased characters and lowercase characters only cased ones.\n",
      " |  \n",
      " |  isupper(self, /)\n",
      " |      Return True if the string is an uppercase string, False otherwise.\n",
      " |      \n",
      " |      A string is uppercase if all cased characters in the string are uppercase and\n",
      " |      there is at least one cased character in the string.\n",
      " |  \n",
      " |  join(self, iterable, /)\n",
      " |      Concatenate any number of strings.\n",
      " |      \n",
      " |      The string whose method is called is inserted in between each given string.\n",
      " |      The result is returned as a new string.\n",
      " |      \n",
      " |      Example: '.'.join(['ab', 'pq', 'rs']) -> 'ab.pq.rs'\n",
      " |  \n",
      " |  ljust(self, width, fillchar=' ', /)\n",
      " |      Return a left-justified string of length width.\n",
      " |      \n",
      " |      Padding is done using the specified fill character (default is a space).\n",
      " |  \n",
      " |  lower(self, /)\n",
      " |      Return a copy of the string converted to lowercase.\n",
      " |  \n",
      " |  lstrip(self, chars=None, /)\n",
      " |      Return a copy of the string with leading whitespace removed.\n",
      " |      \n",
      " |      If chars is given and not None, remove characters in chars instead.\n",
      " |  \n",
      " |  partition(self, sep, /)\n",
      " |      Partition the string into three parts using the given separator.\n",
      " |      \n",
      " |      This will search for the separator in the string.  If the separator is found,\n",
      " |      returns a 3-tuple containing the part before the separator, the separator\n",
      " |      itself, and the part after it.\n",
      " |      \n",
      " |      If the separator is not found, returns a 3-tuple containing the original string\n",
      " |      and two empty strings.\n",
      " |  \n",
      " |  replace(self, old, new, count=-1, /)\n",
      " |      Return a copy with all occurrences of substring old replaced by new.\n",
      " |      \n",
      " |        count\n",
      " |          Maximum number of occurrences to replace.\n",
      " |          -1 (the default value) means replace all occurrences.\n",
      " |      \n",
      " |      If the optional argument count is given, only the first count occurrences are\n",
      " |      replaced.\n",
      " |  \n",
      " |  rfind(...)\n",
      " |      S.rfind(sub[, start[, end]]) -> int\n",
      " |      \n",
      " |      Return the highest index in S where substring sub is found,\n",
      " |      such that sub is contained within S[start:end].  Optional\n",
      " |      arguments start and end are interpreted as in slice notation.\n",
      " |      \n",
      " |      Return -1 on failure.\n",
      " |  \n",
      " |  rindex(...)\n",
      " |      S.rindex(sub[, start[, end]]) -> int\n",
      " |      \n",
      " |      Return the highest index in S where substring sub is found,\n",
      " |      such that sub is contained within S[start:end].  Optional\n",
      " |      arguments start and end are interpreted as in slice notation.\n",
      " |      \n",
      " |      Raises ValueError when the substring is not found.\n",
      " |  \n",
      " |  rjust(self, width, fillchar=' ', /)\n",
      " |      Return a right-justified string of length width.\n",
      " |      \n",
      " |      Padding is done using the specified fill character (default is a space).\n",
      " |  \n",
      " |  rpartition(self, sep, /)\n",
      " |      Partition the string into three parts using the given separator.\n",
      " |      \n",
      " |      This will search for the separator in the string, starting at the end. If\n",
      " |      the separator is found, returns a 3-tuple containing the part before the\n",
      " |      separator, the separator itself, and the part after it.\n",
      " |      \n",
      " |      If the separator is not found, returns a 3-tuple containing two empty strings\n",
      " |      and the original string.\n",
      " |  \n",
      " |  rsplit(self, /, sep=None, maxsplit=-1)\n",
      " |      Return a list of the words in the string, using sep as the delimiter string.\n",
      " |      \n",
      " |        sep\n",
      " |          The delimiter according which to split the string.\n",
      " |          None (the default value) means split according to any whitespace,\n",
      " |          and discard empty strings from the result.\n",
      " |        maxsplit\n",
      " |          Maximum number of splits to do.\n",
      " |          -1 (the default value) means no limit.\n",
      " |      \n",
      " |      Splits are done starting at the end of the string and working to the front.\n",
      " |  \n",
      " |  rstrip(self, chars=None, /)\n",
      " |      Return a copy of the string with trailing whitespace removed.\n",
      " |      \n",
      " |      If chars is given and not None, remove characters in chars instead.\n",
      " |  \n",
      " |  split(self, /, sep=None, maxsplit=-1)\n",
      " |      Return a list of the words in the string, using sep as the delimiter string.\n",
      " |      \n",
      " |      sep\n",
      " |        The delimiter according which to split the string.\n",
      " |        None (the default value) means split according to any whitespace,\n",
      " |        and discard empty strings from the result.\n",
      " |      maxsplit\n",
      " |        Maximum number of splits to do.\n",
      " |        -1 (the default value) means no limit.\n",
      " |  \n",
      " |  splitlines(self, /, keepends=False)\n",
      " |      Return a list of the lines in the string, breaking at line boundaries.\n",
      " |      \n",
      " |      Line breaks are not included in the resulting list unless keepends is given and\n",
      " |      true.\n",
      " |  \n",
      " |  startswith(...)\n",
      " |      S.startswith(prefix[, start[, end]]) -> bool\n",
      " |      \n",
      " |      Return True if S starts with the specified prefix, False otherwise.\n",
      " |      With optional start, test S beginning at that position.\n",
      " |      With optional end, stop comparing S at that position.\n",
      " |      prefix can also be a tuple of strings to try.\n",
      " |  \n",
      " |  strip(self, chars=None, /)\n",
      " |      Return a copy of the string with leading and trailing whitespace removed.\n",
      " |      \n",
      " |      If chars is given and not None, remove characters in chars instead.\n",
      " |  \n",
      " |  swapcase(self, /)\n",
      " |      Convert uppercase characters to lowercase and lowercase characters to uppercase.\n",
      " |  \n",
      " |  title(self, /)\n",
      " |      Return a version of the string where each word is titlecased.\n",
      " |      \n",
      " |      More specifically, words start with uppercased characters and all remaining\n",
      " |      cased characters have lower case.\n",
      " |  \n",
      " |  translate(self, table, /)\n",
      " |      Replace each character in the string using the given translation table.\n",
      " |      \n",
      " |        table\n",
      " |          Translation table, which must be a mapping of Unicode ordinals to\n",
      " |          Unicode ordinals, strings, or None.\n",
      " |      \n",
      " |      The table must implement lookup/indexing via __getitem__, for instance a\n",
      " |      dictionary or list.  If this operation raises LookupError, the character is\n",
      " |      left untouched.  Characters mapped to None are deleted.\n",
      " |  \n",
      " |  upper(self, /)\n",
      " |      Return a copy of the string converted to uppercase.\n",
      " |  \n",
      " |  zfill(self, width, /)\n",
      " |      Pad a numeric string with zeros on the left, to fill a field of the given width.\n",
      " |      \n",
      " |      The string is never truncated.\n",
      " |  \n",
      " |  ----------------------------------------------------------------------\n",
      " |  Static methods defined here:\n",
      " |  \n",
      " |  __new__(*args, **kwargs) from builtins.type\n",
      " |      Create and return a new object.  See help(type) for accurate signature.\n",
      " |  \n",
      " |  maketrans(...)\n",
      " |      Return a translation table usable for str.translate().\n",
      " |      \n",
      " |      If there is only one argument, it must be a dictionary mapping Unicode\n",
      " |      ordinals (integers) or characters to Unicode ordinals, strings or None.\n",
      " |      Character keys will be then converted to ordinals.\n",
      " |      If there are two arguments, they must be strings of equal length, and\n",
      " |      in the resulting dictionary, each character in x will be mapped to the\n",
      " |      character at the same position in y. If there is a third argument, it\n",
      " |      must be a string, whose characters will be mapped to None in the result.\n",
      "\n"
     ]
    }
   ],
   "source": [
    "help(str)"
   ]
  },
  {
   "cell_type": "code",
   "execution_count": 1,
   "id": "0fd0aeb8",
   "metadata": {
    "ExecuteTime": {
     "end_time": "2024-06-13T06:00:26.465844Z",
     "start_time": "2024-06-13T06:00:26.426268Z"
    }
   },
   "outputs": [
    {
     "data": {
      "text/plain": [
       "True"
      ]
     },
     "execution_count": 1,
     "metadata": {},
     "output_type": "execute_result"
    }
   ],
   "source": [
    "'456'.isdigit()"
   ]
  },
  {
   "cell_type": "code",
   "execution_count": 2,
   "id": "d899d529",
   "metadata": {
    "ExecuteTime": {
     "end_time": "2024-06-13T06:00:43.853430Z",
     "start_time": "2024-06-13T06:00:43.836081Z"
    }
   },
   "outputs": [
    {
     "data": {
      "text/plain": [
       "False"
      ]
     },
     "execution_count": 2,
     "metadata": {},
     "output_type": "execute_result"
    }
   ],
   "source": [
    "'456nmnnnjjh'.isdigit()"
   ]
  },
  {
   "cell_type": "code",
   "execution_count": 3,
   "id": "afa2231e",
   "metadata": {
    "ExecuteTime": {
     "end_time": "2024-06-13T06:01:01.863354Z",
     "start_time": "2024-06-13T06:01:01.844227Z"
    }
   },
   "outputs": [
    {
     "data": {
      "text/plain": [
       "False"
      ]
     },
     "execution_count": 3,
     "metadata": {},
     "output_type": "execute_result"
    }
   ],
   "source": [
    "'4445666ghktpr'.isnumeric()"
   ]
  },
  {
   "cell_type": "code",
   "execution_count": 4,
   "id": "8f7107a1",
   "metadata": {
    "ExecuteTime": {
     "end_time": "2024-06-13T06:01:54.896763Z",
     "start_time": "2024-06-13T06:01:54.880503Z"
    }
   },
   "outputs": [
    {
     "data": {
      "text/plain": [
       "True"
      ]
     },
     "execution_count": 4,
     "metadata": {},
     "output_type": "execute_result"
    }
   ],
   "source": [
    "'54554'.isnumeric()"
   ]
  },
  {
   "cell_type": "code",
   "execution_count": 6,
   "id": "6fa18a9f",
   "metadata": {
    "ExecuteTime": {
     "end_time": "2024-06-13T06:02:34.968210Z",
     "start_time": "2024-06-13T06:02:34.943187Z"
    }
   },
   "outputs": [
    {
     "data": {
      "text/plain": [
       "True"
      ]
     },
     "execution_count": 6,
     "metadata": {},
     "output_type": "execute_result"
    }
   ],
   "source": [
    "'45555'.isdecimal()"
   ]
  },
  {
   "cell_type": "code",
   "execution_count": 7,
   "id": "870db3cd",
   "metadata": {
    "ExecuteTime": {
     "end_time": "2024-06-13T06:02:59.376753Z",
     "start_time": "2024-06-13T06:02:59.360712Z"
    }
   },
   "outputs": [
    {
     "data": {
      "text/plain": [
       "False"
      ]
     },
     "execution_count": 7,
     "metadata": {},
     "output_type": "execute_result"
    }
   ],
   "source": [
    "'abc123'.isalpha()"
   ]
  },
  {
   "cell_type": "code",
   "execution_count": 8,
   "id": "ec29f7b4",
   "metadata": {
    "ExecuteTime": {
     "end_time": "2024-06-13T06:03:28.738960Z",
     "start_time": "2024-06-13T06:03:28.723018Z"
    }
   },
   "outputs": [
    {
     "data": {
      "text/plain": [
       "True"
      ]
     },
     "execution_count": 8,
     "metadata": {},
     "output_type": "execute_result"
    }
   ],
   "source": [
    "'abcd456'.isalnum()"
   ]
  },
  {
   "cell_type": "code",
   "execution_count": 9,
   "id": "6358aa93",
   "metadata": {
    "ExecuteTime": {
     "end_time": "2024-06-13T06:05:34.619177Z",
     "start_time": "2024-06-13T06:05:34.606143Z"
    }
   },
   "outputs": [],
   "source": [
    "text = \"my age is :\"\n",
    "age = 45"
   ]
  },
  {
   "cell_type": "code",
   "execution_count": 10,
   "id": "8dfe1273",
   "metadata": {
    "ExecuteTime": {
     "end_time": "2024-06-13T06:05:40.312514Z",
     "start_time": "2024-06-13T06:05:39.342347Z"
    }
   },
   "outputs": [
    {
     "ename": "TypeError",
     "evalue": "can only concatenate str (not \"int\") to str",
     "output_type": "error",
     "traceback": [
      "\u001b[1;31m---------------------------------------------------------------------------\u001b[0m",
      "\u001b[1;31mTypeError\u001b[0m                                 Traceback (most recent call last)",
      "Input \u001b[1;32mIn [10]\u001b[0m, in \u001b[0;36m<cell line: 1>\u001b[1;34m()\u001b[0m\n\u001b[1;32m----> 1\u001b[0m \u001b[43mtext\u001b[49m\u001b[43m \u001b[49m\u001b[38;5;241;43m+\u001b[39;49m\u001b[43m \u001b[49m\u001b[43mage\u001b[49m\n",
      "\u001b[1;31mTypeError\u001b[0m: can only concatenate str (not \"int\") to str"
     ]
    }
   ],
   "source": [
    "text + age "
   ]
  },
  {
   "cell_type": "markdown",
   "id": "fba009d6",
   "metadata": {},
   "source": [
    "# Conclusion: we can concatenate same data type"
   ]
  },
  {
   "cell_type": "code",
   "execution_count": 12,
   "id": "ea4b6709",
   "metadata": {
    "ExecuteTime": {
     "end_time": "2024-06-13T06:07:43.936591Z",
     "start_time": "2024-06-13T06:07:43.921265Z"
    }
   },
   "outputs": [
    {
     "data": {
      "text/plain": [
       "'my age is :45 years'"
      ]
     },
     "execution_count": 12,
     "metadata": {},
     "output_type": "execute_result"
    }
   ],
   "source": [
    "text + str(age)+' years'"
   ]
  },
  {
   "cell_type": "code",
   "execution_count": 13,
   "id": "bf7845e9",
   "metadata": {
    "ExecuteTime": {
     "end_time": "2024-06-13T06:08:16.880497Z",
     "start_time": "2024-06-13T06:08:16.857720Z"
    }
   },
   "outputs": [
    {
     "data": {
      "text/plain": [
       "'my age is 45 years'"
      ]
     },
     "execution_count": 13,
     "metadata": {},
     "output_type": "execute_result"
    }
   ],
   "source": [
    "f'my age is {age} years'"
   ]
  },
  {
   "cell_type": "code",
   "execution_count": 14,
   "id": "29a80d70",
   "metadata": {
    "ExecuteTime": {
     "end_time": "2024-06-13T06:08:48.609510Z",
     "start_time": "2024-06-13T06:08:48.601299Z"
    }
   },
   "outputs": [],
   "source": [
    "height = 65\n",
    "weight = 50"
   ]
  },
  {
   "cell_type": "code",
   "execution_count": 27,
   "id": "8e0fd5da",
   "metadata": {
    "ExecuteTime": {
     "end_time": "2024-06-13T06:16:33.707686Z",
     "start_time": "2024-06-13T06:16:33.693933Z"
    }
   },
   "outputs": [
    {
     "name": "stdout",
     "output_type": "stream",
     "text": [
      "height:65cm \n",
      "weight:50kg\n"
     ]
    }
   ],
   "source": [
    "patient_information = f'height:{height}cm \\nweight:{weight}kg'\n",
    "print(patient_information)"
   ]
  },
  {
   "cell_type": "code",
   "execution_count": 16,
   "id": "98155a80",
   "metadata": {
    "ExecuteTime": {
     "end_time": "2024-06-13T06:10:44.660497Z",
     "start_time": "2024-06-13T06:10:44.644638Z"
    }
   },
   "outputs": [
    {
     "data": {
      "text/plain": [
       "'height: 65 \\n weight: 50'"
      ]
     },
     "execution_count": 16,
     "metadata": {},
     "output_type": "execute_result"
    }
   ],
   "source": [
    "patient_information"
   ]
  },
  {
   "cell_type": "markdown",
   "id": "e304631e",
   "metadata": {},
   "source": [
    "# string exercises"
   ]
  },
  {
   "cell_type": "markdown",
   "id": "9b50460a",
   "metadata": {},
   "source": [
    "Create two variables to store how many fruits and vegetables you eat in a day. Now Print \"I eat x vegetables and y fruits daily\" where x and y present vegetables and fruits that you eat every day. Use python f string for this."
   ]
  },
  {
   "cell_type": "code",
   "execution_count": 28,
   "id": "bd7b398e",
   "metadata": {
    "ExecuteTime": {
     "end_time": "2024-06-13T06:21:28.563567Z",
     "start_time": "2024-06-13T06:21:28.552942Z"
    }
   },
   "outputs": [],
   "source": [
    "x= 2 \n",
    "y=3 "
   ]
  },
  {
   "cell_type": "code",
   "execution_count": 29,
   "id": "7e09e70d",
   "metadata": {
    "ExecuteTime": {
     "end_time": "2024-06-13T06:22:11.037897Z",
     "start_time": "2024-06-13T06:22:11.027659Z"
    }
   },
   "outputs": [
    {
     "name": "stdout",
     "output_type": "stream",
     "text": [
      "I eat 2 vegetables and 3 fruits daily\n"
     ]
    }
   ],
   "source": [
    "print(f'I eat {x} vegetables and {y} fruits daily')"
   ]
  },
  {
   "cell_type": "markdown",
   "id": "babfbc6e",
   "metadata": {},
   "source": [
    "Create a variable and store the string “The Himalayas are one of the youngest mountain ranges on the planet.”\n",
    "\n",
    "1.Print ‘The Himalayas’ using slice operator\n",
    "\n",
    "2.Print “mountain range” using a negative index\n",
    "\n",
    "3.Print “The Himalayas on the planet” using slice as well as f-string\n"
   ]
  },
  {
   "cell_type": "code",
   "execution_count": 30,
   "id": "7f499f57",
   "metadata": {
    "ExecuteTime": {
     "end_time": "2024-06-13T06:24:20.983897Z",
     "start_time": "2024-06-13T06:24:20.970012Z"
    }
   },
   "outputs": [],
   "source": [
    "# store the string in s variable\n",
    "s= \"The Himalayas are one of the youngest mountain ranges on the planet.\""
   ]
  },
  {
   "cell_type": "code",
   "execution_count": 32,
   "id": "64c40b80",
   "metadata": {
    "ExecuteTime": {
     "end_time": "2024-06-13T06:26:06.977863Z",
     "start_time": "2024-06-13T06:26:06.962631Z"
    }
   },
   "outputs": [
    {
     "data": {
      "text/plain": [
       "4"
      ]
     },
     "execution_count": 32,
     "metadata": {},
     "output_type": "execute_result"
    }
   ],
   "source": [
    "s.index('Himalayas')"
   ]
  },
  {
   "cell_type": "code",
   "execution_count": 34,
   "id": "caf13cf5",
   "metadata": {
    "ExecuteTime": {
     "end_time": "2024-06-13T06:27:39.168333Z",
     "start_time": "2024-06-13T06:27:39.154986Z"
    }
   },
   "outputs": [
    {
     "data": {
      "text/plain": [
       "'The Himalayas'"
      ]
     },
     "execution_count": 34,
     "metadata": {},
     "output_type": "execute_result"
    }
   ],
   "source": [
    "# using slice operator print required string\n",
    "s[:13]"
   ]
  },
  {
   "cell_type": "code",
   "execution_count": 44,
   "id": "e8e7c7b7",
   "metadata": {
    "ExecuteTime": {
     "end_time": "2024-06-13T06:33:29.752477Z",
     "start_time": "2024-06-13T06:33:29.724193Z"
    }
   },
   "outputs": [
    {
     "data": {
      "text/plain": [
       "'mountain ranges'"
      ]
     },
     "execution_count": 44,
     "metadata": {},
     "output_type": "execute_result"
    }
   ],
   "source": [
    "# using negative index of slicing to print required string\n",
    "s[-30:-15]"
   ]
  },
  {
   "cell_type": "code",
   "execution_count": 47,
   "id": "08eece14",
   "metadata": {
    "ExecuteTime": {
     "end_time": "2024-06-13T06:36:43.822097Z",
     "start_time": "2024-06-13T06:36:43.808624Z"
    }
   },
   "outputs": [
    {
     "name": "stdout",
     "output_type": "stream",
     "text": [
      "The Himalayas on the planet.\n"
     ]
    }
   ],
   "source": [
    "# 3.Print “The Himalayas on the planet” using slice as well as f-string\n",
    "\n",
    "print(f'{s[:13]} {s[-14:]}')"
   ]
  },
  {
   "cell_type": "markdown",
   "id": "3d1929a7",
   "metadata": {},
   "source": [
    "Q.3. You have created a string variable called string= ”There are 9 planets in the solar system”. After some time, you have realized that your sentence is incorrect and there are only 8 planets, now correct your sentence by replacing the incorrect words. (Bonus: Try to do it in one line)\n",
    "\n"
   ]
  },
  {
   "cell_type": "code",
   "execution_count": 48,
   "id": "f8ae9d17",
   "metadata": {
    "ExecuteTime": {
     "end_time": "2024-06-13T06:39:09.705919Z",
     "start_time": "2024-06-13T06:39:09.689699Z"
    }
   },
   "outputs": [],
   "source": [
    "st1 = \"There are 9 planets in the solar system\""
   ]
  },
  {
   "cell_type": "code",
   "execution_count": 49,
   "id": "d096eb8d",
   "metadata": {
    "ExecuteTime": {
     "end_time": "2024-06-13T06:40:35.359665Z",
     "start_time": "2024-06-13T06:40:35.345556Z"
    }
   },
   "outputs": [
    {
     "name": "stdout",
     "output_type": "stream",
     "text": [
      "There are 8 planets in the solar system\n"
     ]
    }
   ],
   "source": [
    "st1 = print(st1.replace(\"9\",\"8\"))"
   ]
  },
  {
   "cell_type": "code",
   "execution_count": null,
   "id": "a63f80aa",
   "metadata": {},
   "outputs": [],
   "source": []
  }
 ],
 "metadata": {
  "kernelspec": {
   "display_name": "Python 3 (ipykernel)",
   "language": "python",
   "name": "python3"
  },
  "language_info": {
   "codemirror_mode": {
    "name": "ipython",
    "version": 3
   },
   "file_extension": ".py",
   "mimetype": "text/x-python",
   "name": "python",
   "nbconvert_exporter": "python",
   "pygments_lexer": "ipython3",
   "version": "3.8.10"
  },
  "toc": {
   "base_numbering": 1,
   "nav_menu": {},
   "number_sections": true,
   "sideBar": true,
   "skip_h1_title": false,
   "title_cell": "Table of Contents",
   "title_sidebar": "Contents",
   "toc_cell": false,
   "toc_position": {},
   "toc_section_display": true,
   "toc_window_display": false
  },
  "varInspector": {
   "cols": {
    "lenName": 16,
    "lenType": 16,
    "lenVar": 40
   },
   "kernels_config": {
    "python": {
     "delete_cmd_postfix": "",
     "delete_cmd_prefix": "del ",
     "library": "var_list.py",
     "varRefreshCmd": "print(var_dic_list())"
    },
    "r": {
     "delete_cmd_postfix": ") ",
     "delete_cmd_prefix": "rm(",
     "library": "var_list.r",
     "varRefreshCmd": "cat(var_dic_list()) "
    }
   },
   "types_to_exclude": [
    "module",
    "function",
    "builtin_function_or_method",
    "instance",
    "_Feature"
   ],
   "window_display": false
  }
 },
 "nbformat": 4,
 "nbformat_minor": 5
}
