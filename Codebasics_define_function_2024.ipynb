{
 "cells": [
  {
   "cell_type": "markdown",
   "id": "943e483e",
   "metadata": {},
   "source": [
    "Q.1 Write a python function to check if any given number is a prime number and odd number?"
   ]
  },
  {
   "cell_type": "code",
   "execution_count": 3,
   "id": "a5d1a7ab",
   "metadata": {
    "ExecuteTime": {
     "end_time": "2024-06-24T13:15:30.470760Z",
     "start_time": "2024-06-24T13:15:30.456431Z"
    }
   },
   "outputs": [],
   "source": [
    "def find_number(num):\n",
    "    if num% num ==0:\n",
    "        print(\"It is a prime number\")\n",
    "    elif num != 0:\n",
    "        print(\"It is an odd number\")\n",
    "    return find_number"
   ]
  },
  {
   "cell_type": "code",
   "execution_count": 9,
   "id": "c3d89956",
   "metadata": {
    "ExecuteTime": {
     "end_time": "2024-06-24T13:18:07.150765Z",
     "start_time": "2024-06-24T13:18:00.958361Z"
    }
   },
   "outputs": [
    {
     "name": "stdout",
     "output_type": "stream",
     "text": [
      "Enter a number:15\n",
      "It is a prime number\n"
     ]
    },
    {
     "data": {
      "text/plain": [
       "<function __main__.find_number(num)>"
      ]
     },
     "execution_count": 9,
     "metadata": {},
     "output_type": "execute_result"
    }
   ],
   "source": [
    "n= int(input(\"Enter a number:\"))\n",
    "find_number(n)"
   ]
  },
  {
   "cell_type": "code",
   "execution_count": null,
   "id": "ab0b7a81",
   "metadata": {},
   "outputs": [],
   "source": []
  }
 ],
 "metadata": {
  "kernelspec": {
   "display_name": "Python 3 (ipykernel)",
   "language": "python",
   "name": "python3"
  },
  "language_info": {
   "codemirror_mode": {
    "name": "ipython",
    "version": 3
   },
   "file_extension": ".py",
   "mimetype": "text/x-python",
   "name": "python",
   "nbconvert_exporter": "python",
   "pygments_lexer": "ipython3",
   "version": "3.8.10"
  },
  "toc": {
   "base_numbering": 1,
   "nav_menu": {},
   "number_sections": true,
   "sideBar": true,
   "skip_h1_title": false,
   "title_cell": "Table of Contents",
   "title_sidebar": "Contents",
   "toc_cell": false,
   "toc_position": {},
   "toc_section_display": true,
   "toc_window_display": false
  },
  "varInspector": {
   "cols": {
    "lenName": 16,
    "lenType": 16,
    "lenVar": 40
   },
   "kernels_config": {
    "python": {
     "delete_cmd_postfix": "",
     "delete_cmd_prefix": "del ",
     "library": "var_list.py",
     "varRefreshCmd": "print(var_dic_list())"
    },
    "r": {
     "delete_cmd_postfix": ") ",
     "delete_cmd_prefix": "rm(",
     "library": "var_list.r",
     "varRefreshCmd": "cat(var_dic_list()) "
    }
   },
   "types_to_exclude": [
    "module",
    "function",
    "builtin_function_or_method",
    "instance",
    "_Feature"
   ],
   "window_display": false
  }
 },
 "nbformat": 4,
 "nbformat_minor": 5
}
