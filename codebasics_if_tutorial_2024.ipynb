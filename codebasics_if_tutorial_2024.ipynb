{
 "cells": [
  {
   "cell_type": "code",
   "execution_count": 21,
   "id": "3afc0e63",
   "metadata": {
    "ExecuteTime": {
     "end_time": "2024-06-13T11:05:12.575141Z",
     "start_time": "2024-06-13T11:05:08.925564Z"
    }
   },
   "outputs": [
    {
     "name": "stdout",
     "output_type": "stream",
     "text": [
      "enter a number:7\n",
      "7\n"
     ]
    }
   ],
   "source": [
    "n=input (\"enter a number:\")\n",
    "print (n)"
   ]
  },
  {
   "cell_type": "code",
   "execution_count": 22,
   "id": "b960d3f1",
   "metadata": {
    "ExecuteTime": {
     "end_time": "2024-06-13T11:05:15.135192Z",
     "start_time": "2024-06-13T11:05:15.112931Z"
    }
   },
   "outputs": [
    {
     "data": {
      "text/plain": [
       "str"
      ]
     },
     "execution_count": 22,
     "metadata": {},
     "output_type": "execute_result"
    }
   ],
   "source": [
    "type(n)"
   ]
  },
  {
   "cell_type": "code",
   "execution_count": 23,
   "id": "ca91520b",
   "metadata": {
    "ExecuteTime": {
     "end_time": "2024-06-13T11:05:18.697056Z",
     "start_time": "2024-06-13T11:05:18.665632Z"
    }
   },
   "outputs": [
    {
     "data": {
      "text/plain": [
       "7"
      ]
     },
     "execution_count": 23,
     "metadata": {},
     "output_type": "execute_result"
    }
   ],
   "source": [
    "n= int(n)\n",
    "n "
   ]
  },
  {
   "cell_type": "code",
   "execution_count": 10,
   "id": "26e1e4dc",
   "metadata": {
    "ExecuteTime": {
     "end_time": "2024-06-13T10:20:18.627326Z",
     "start_time": "2024-06-13T10:20:18.615167Z"
    }
   },
   "outputs": [
    {
     "data": {
      "text/plain": [
       "int"
      ]
     },
     "execution_count": 10,
     "metadata": {},
     "output_type": "execute_result"
    }
   ],
   "source": [
    "type(n)"
   ]
  },
  {
   "cell_type": "code",
   "execution_count": 11,
   "id": "07ced97f",
   "metadata": {
    "ExecuteTime": {
     "end_time": "2024-06-13T10:20:24.110624Z",
     "start_time": "2024-06-13T10:20:24.091225Z"
    }
   },
   "outputs": [
    {
     "name": "stdout",
     "output_type": "stream",
     "text": [
      "given number is an Even\n"
     ]
    }
   ],
   "source": [
    "if n%2==0:\n",
    "    print(\"given number is an Even\")\n",
    "else:\n",
    "    print(\"given number is an odd\")"
   ]
  },
  {
   "cell_type": "code",
   "execution_count": 12,
   "id": "7a499897",
   "metadata": {
    "ExecuteTime": {
     "end_time": "2024-06-13T10:20:39.998785Z",
     "start_time": "2024-06-13T10:20:39.974983Z"
    }
   },
   "outputs": [
    {
     "data": {
      "text/plain": [
       "True"
      ]
     },
     "execution_count": 12,
     "metadata": {},
     "output_type": "execute_result"
    }
   ],
   "source": [
    "4==4 "
   ]
  },
  {
   "cell_type": "code",
   "execution_count": 13,
   "id": "51c93e39",
   "metadata": {
    "ExecuteTime": {
     "end_time": "2024-06-13T10:20:46.874374Z",
     "start_time": "2024-06-13T10:20:46.858724Z"
    }
   },
   "outputs": [
    {
     "data": {
      "text/plain": [
       "True"
      ]
     },
     "execution_count": 13,
     "metadata": {},
     "output_type": "execute_result"
    }
   ],
   "source": [
    "4!=5"
   ]
  },
  {
   "cell_type": "code",
   "execution_count": 14,
   "id": "5cddbc7a",
   "metadata": {
    "ExecuteTime": {
     "end_time": "2024-06-13T10:20:57.898605Z",
     "start_time": "2024-06-13T10:20:57.875192Z"
    }
   },
   "outputs": [
    {
     "data": {
      "text/plain": [
       "False"
      ]
     },
     "execution_count": 14,
     "metadata": {},
     "output_type": "execute_result"
    }
   ],
   "source": [
    "4==5 "
   ]
  },
  {
   "cell_type": "code",
   "execution_count": 15,
   "id": "d2474340",
   "metadata": {
    "ExecuteTime": {
     "end_time": "2024-06-13T10:21:10.467907Z",
     "start_time": "2024-06-13T10:21:10.445398Z"
    }
   },
   "outputs": [
    {
     "data": {
      "text/plain": [
       "True"
      ]
     },
     "execution_count": 15,
     "metadata": {},
     "output_type": "execute_result"
    }
   ],
   "source": [
    "2 > 1 "
   ]
  },
  {
   "cell_type": "code",
   "execution_count": 16,
   "id": "1760b02f",
   "metadata": {
    "ExecuteTime": {
     "end_time": "2024-06-13T10:21:20.344869Z",
     "start_time": "2024-06-13T10:21:20.322671Z"
    }
   },
   "outputs": [
    {
     "data": {
      "text/plain": [
       "False"
      ]
     },
     "execution_count": 16,
     "metadata": {},
     "output_type": "execute_result"
    }
   ],
   "source": [
    "2>=3 "
   ]
  },
  {
   "cell_type": "code",
   "execution_count": 17,
   "id": "164c7541",
   "metadata": {
    "ExecuteTime": {
     "end_time": "2024-06-13T10:22:12.912945Z",
     "start_time": "2024-06-13T10:22:12.880038Z"
    }
   },
   "outputs": [
    {
     "data": {
      "text/plain": [
       "True"
      ]
     },
     "execution_count": 17,
     "metadata": {},
     "output_type": "execute_result"
    }
   ],
   "source": [
    "2>1 & 4 <5 "
   ]
  },
  {
   "cell_type": "code",
   "execution_count": 18,
   "id": "02c1e61b",
   "metadata": {
    "ExecuteTime": {
     "end_time": "2024-06-13T10:22:35.161468Z",
     "start_time": "2024-06-13T10:22:35.151051Z"
    }
   },
   "outputs": [
    {
     "data": {
      "text/plain": [
       "False"
      ]
     },
     "execution_count": 18,
     "metadata": {},
     "output_type": "execute_result"
    }
   ],
   "source": [
    "4<5 & 2>4 "
   ]
  },
  {
   "cell_type": "code",
   "execution_count": 19,
   "id": "e5a6ce76",
   "metadata": {
    "ExecuteTime": {
     "end_time": "2024-06-13T10:23:42.773132Z",
     "start_time": "2024-06-13T10:23:42.759794Z"
    }
   },
   "outputs": [
    {
     "data": {
      "text/plain": [
       "False"
      ]
     },
     "execution_count": 19,
     "metadata": {},
     "output_type": "execute_result"
    }
   ],
   "source": [
    "not True "
   ]
  },
  {
   "cell_type": "markdown",
   "id": "bc5e602f",
   "metadata": {},
   "source": [
    "# turnery condition"
   ]
  },
  {
   "cell_type": "code",
   "execution_count": 24,
   "id": "45e201b4",
   "metadata": {
    "ExecuteTime": {
     "end_time": "2024-06-13T11:05:24.076419Z",
     "start_time": "2024-06-13T11:05:24.051607Z"
    }
   },
   "outputs": [
    {
     "data": {
      "text/plain": [
       "'number is odd'"
      ]
     },
     "execution_count": 24,
     "metadata": {},
     "output_type": "execute_result"
    }
   ],
   "source": [
    "print(\"it is an even number\") if n%2==0 else \"number is odd\""
   ]
  },
  {
   "cell_type": "code",
   "execution_count": 28,
   "id": "919916a2",
   "metadata": {
    "ExecuteTime": {
     "end_time": "2024-06-13T11:10:31.989239Z",
     "start_time": "2024-06-13T11:10:28.592957Z"
    }
   },
   "outputs": [
    {
     "name": "stdout",
     "output_type": "stream",
     "text": [
      "Enter a dish name : dosa\n",
      "I don't know which cusine is this\n"
     ]
    }
   ],
   "source": [
    "indian = ['samosa','daal','naan']\n",
    "chinese = ['egg role','pot sticker','fried rice']\n",
    "italian = ['pizza','pasta','risotto']\n",
    "\n",
    "dish = input(\"Enter a dish name : \")\n",
    "\n",
    "if dish in indian:\n",
    "    print(\"It is an indian dish\")\n",
    "elif dish in chinese:\n",
    "    print(\"it is a chinese dish\")\n",
    "elif dish in italian:\n",
    "    print(\"it is an italian dish\")\n",
    "else:\n",
    "    print(\"I don't know which cusine is this\")"
   ]
  },
  {
   "cell_type": "markdown",
   "id": "fd74b969",
   "metadata": {},
   "source": [
    "# if_else_exercise"
   ]
  },
  {
   "cell_type": "markdown",
   "id": "6279afa2",
   "metadata": {},
   "source": [
    "Write a program that can tell you your BMI Category.\n",
    "\n",
    "Ask user to enter height in Meter\n",
    "\n",
    "Ask user to enter weight in KG\n",
    "\n",
    "Calculate the BMI(Body Mass Index) = weight /(height)**2 and store it in a variable\n",
    "\n",
    "If the BMI is 30 or greater, print “Obesity”\n",
    "\n",
    "If the BMI is in between 25 and 29, print “Overweight”\n",
    "\n",
    "If the BMI is in between 18.5 and 25, print “Normal”\n",
    "\n",
    "If the BMI is less than 18.5, print “Underweight”\n",
    "\n"
   ]
  },
  {
   "cell_type": "code",
   "execution_count": 1,
   "id": "b6e412b9",
   "metadata": {
    "ExecuteTime": {
     "end_time": "2024-06-13T12:33:57.746412Z",
     "start_time": "2024-06-13T12:33:51.264025Z"
    }
   },
   "outputs": [
    {
     "name": "stdout",
     "output_type": "stream",
     "text": [
      "Enter a height in Meter :151\n",
      "Enter a weight in kg :54\n",
      "Body Mass Index is :24.0\n"
     ]
    }
   ],
   "source": [
    "height = eval(input (\"Enter a height in Meter :\"))\n",
    "weight = eval(input(\"Enter a weight in kg :\"))\n",
    "\n",
    "\n",
    "bmi =float((weight/(height)**2)*100)\n",
    "\n",
    "approx_bmi= round(bmi,2)*100\n",
    "\n",
    "print (f'Body Mass Index is :{approx_bmi}')\n"
   ]
  },
  {
   "cell_type": "code",
   "execution_count": 2,
   "id": "fa35c138",
   "metadata": {
    "ExecuteTime": {
     "end_time": "2024-06-13T12:34:06.102643Z",
     "start_time": "2024-06-13T12:34:06.078877Z"
    }
   },
   "outputs": [
    {
     "name": "stdout",
     "output_type": "stream",
     "text": [
      "Normal\n"
     ]
    }
   ],
   "source": [
    "if approx_bmi >= 30:\n",
    "    print(\"Obesity\")\n",
    "elif 25 <= approx_bmi <= 29:\n",
    "    print(\"Overweight\")\n",
    "elif 18.5 <= approx_bmi <= 24.9:\n",
    "    print(\"Normal\")\n",
    "else:\n",
    "    print(\"Underweight\")"
   ]
  },
  {
   "cell_type": "markdown",
   "id": "7b753c50",
   "metadata": {},
   "source": [
    "Using the following list of cities per country,\n",
    "\n",
    " ​​​​​​India = [\"Mumbai\", \"Bangalore\", \"Chennai\", \"Delhi\"]\n",
    " \n",
    " USA = [\"New York\",\"Chicago\",\"Las Vegas\", \"San Francisco\"]\n",
    " \n",
    " UK = [\"London\", \"Manchester\", \"Liverpool\", \"Nottingham\"]\n",
    " \n",
    "Write a program that asks the user to enter a city name, and it should tell which country the city belongs to\n",
    "\n",
    "Write a program that asks users to enter two cities, and it tells you if they both are in the same country or nor />\n",
    "For example:\n",
    "If I enter Mumbai and Chennai, it will print \"Both cities are in India\" but if I enter Mumbai and New York it should print \"They don't belong to the same country\""
   ]
  },
  {
   "cell_type": "code",
   "execution_count": 50,
   "id": "d44ad6a4",
   "metadata": {
    "ExecuteTime": {
     "end_time": "2024-06-13T11:59:21.747542Z",
     "start_time": "2024-06-13T11:59:21.723471Z"
    }
   },
   "outputs": [],
   "source": [
    "india =  [\"Mumbai\", \"Bangalore\", \"Chennai\", \"Delhi\"]\n",
    "usa = [\"New York\",\"Chicago\",\"Las Vegas\", \"San Francisco\"]\n",
    "uk = [\"London\", \"Manchester\", \"Liverpool\", \"Nottingham\"]"
   ]
  },
  {
   "cell_type": "code",
   "execution_count": 57,
   "id": "05330be0",
   "metadata": {
    "ExecuteTime": {
     "end_time": "2024-06-13T12:05:04.207432Z",
     "start_time": "2024-06-13T12:04:54.533866Z"
    }
   },
   "outputs": [
    {
     "name": "stdout",
     "output_type": "stream",
     "text": [
      "Enter a city name: mp\n"
     ]
    }
   ],
   "source": [
    "city_name = input('Enter a city name: ')"
   ]
  },
  {
   "cell_type": "code",
   "execution_count": 58,
   "id": "764af811",
   "metadata": {
    "ExecuteTime": {
     "end_time": "2024-06-13T12:05:07.810037Z",
     "start_time": "2024-06-13T12:05:07.798515Z"
    }
   },
   "outputs": [
    {
     "name": "stdout",
     "output_type": "stream",
     "text": [
      "I don't know the exact location\n"
     ]
    }
   ],
   "source": [
    "if city_name in india:\n",
    "    print(f'{city_name} is belongs to India')\n",
    "elif city_name in usa:\n",
    "    print(f'{city_name} is belongs to usa')\n",
    "elif city_name in uk:\n",
    "    print(f'{city_name} is belongs to uk')\n",
    "else:\n",
    "    print(\"I don't know the exact location\")\n",
    "    "
   ]
  },
  {
   "cell_type": "code",
   "execution_count": 59,
   "id": "f074508e",
   "metadata": {
    "ExecuteTime": {
     "end_time": "2024-06-13T12:10:44.730772Z",
     "start_time": "2024-06-13T12:10:44.713208Z"
    }
   },
   "outputs": [],
   "source": [
    "india =  [\"Mumbai\", \"Bangalore\", \"Chennai\", \"Delhi\"]\n",
    "usa = [\"New York\",\"Chicago\",\"Las Vegas\", \"San Francisco\"]\n",
    "uk = [\"London\", \"Manchester\", \"Liverpool\", \"Nottingham\"]"
   ]
  },
  {
   "cell_type": "code",
   "execution_count": 69,
   "id": "521a2802",
   "metadata": {
    "ExecuteTime": {
     "end_time": "2024-06-13T12:23:10.115550Z",
     "start_time": "2024-06-13T12:23:01.900932Z"
    }
   },
   "outputs": [
    {
     "name": "stdout",
     "output_type": "stream",
     "text": [
      "Enter 1st city :Mumbai\n",
      "Enter 2nd city :Delhi\n"
     ]
    }
   ],
   "source": [
    "city1 = input(\"Enter 1st city :\")\n",
    "city2 = input(\"Enter 2nd city :\")\n"
   ]
  },
  {
   "cell_type": "code",
   "execution_count": 70,
   "id": "001c7359",
   "metadata": {
    "ExecuteTime": {
     "end_time": "2024-06-13T12:23:14.699713Z",
     "start_time": "2024-06-13T12:23:14.671157Z"
    }
   },
   "outputs": [
    {
     "name": "stdout",
     "output_type": "stream",
     "text": [
      "both cities are in India\n"
     ]
    }
   ],
   "source": [
    "if city1 and city2 in india:\n",
    "    print(\"both cities are in India\")\n",
    "elif city1 in india and city2 not in india:\n",
    "    print(\"They don't belong to same country\")\n",
    "elif city1 and city2 in usa:\n",
    "    print(\"both cities are in usa\")\n",
    "elif city1 in usa and city2 not in usa:\n",
    "    print(\"both cities don't belongs to same country\")\n",
    "elif city1 in uk and city2 in uk:\n",
    "    print(\"both cities are in uk\")\n",
    "elif city1 in uk and city2 not in uk:\n",
    "    print(\"They don't belong to same country\")\n",
    "else:\n",
    "    print(\"Given cities are out of scope\")"
   ]
  },
  {
   "cell_type": "code",
   "execution_count": null,
   "id": "4c5adb4e",
   "metadata": {},
   "outputs": [],
   "source": []
  }
 ],
 "metadata": {
  "kernelspec": {
   "display_name": "Python 3 (ipykernel)",
   "language": "python",
   "name": "python3"
  },
  "language_info": {
   "codemirror_mode": {
    "name": "ipython",
    "version": 3
   },
   "file_extension": ".py",
   "mimetype": "text/x-python",
   "name": "python",
   "nbconvert_exporter": "python",
   "pygments_lexer": "ipython3",
   "version": "3.8.10"
  },
  "toc": {
   "base_numbering": 1,
   "nav_menu": {},
   "number_sections": true,
   "sideBar": true,
   "skip_h1_title": false,
   "title_cell": "Table of Contents",
   "title_sidebar": "Contents",
   "toc_cell": false,
   "toc_position": {},
   "toc_section_display": true,
   "toc_window_display": false
  },
  "varInspector": {
   "cols": {
    "lenName": 16,
    "lenType": 16,
    "lenVar": 40
   },
   "kernels_config": {
    "python": {
     "delete_cmd_postfix": "",
     "delete_cmd_prefix": "del ",
     "library": "var_list.py",
     "varRefreshCmd": "print(var_dic_list())"
    },
    "r": {
     "delete_cmd_postfix": ") ",
     "delete_cmd_prefix": "rm(",
     "library": "var_list.r",
     "varRefreshCmd": "cat(var_dic_list()) "
    }
   },
   "types_to_exclude": [
    "module",
    "function",
    "builtin_function_or_method",
    "instance",
    "_Feature"
   ],
   "window_display": false
  }
 },
 "nbformat": 4,
 "nbformat_minor": 5
}
