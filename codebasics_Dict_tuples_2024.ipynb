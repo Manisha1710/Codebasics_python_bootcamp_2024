{
 "cells": [
  {
   "cell_type": "code",
   "execution_count": 1,
   "id": "77333dae",
   "metadata": {
    "ExecuteTime": {
     "end_time": "2024-06-26T08:15:10.636066Z",
     "start_time": "2024-06-26T08:15:10.616932Z"
    }
   },
   "outputs": [],
   "source": [
    "expenses=[1200,1400,1700]"
   ]
  },
  {
   "cell_type": "code",
   "execution_count": 2,
   "id": "44f76830",
   "metadata": {
    "ExecuteTime": {
     "end_time": "2024-06-26T08:15:40.578031Z",
     "start_time": "2024-06-26T08:15:40.571088Z"
    }
   },
   "outputs": [],
   "source": [
    "point= (5,6,9,10,67)"
   ]
  },
  {
   "cell_type": "code",
   "execution_count": 3,
   "id": "f637eade",
   "metadata": {
    "ExecuteTime": {
     "end_time": "2024-06-26T08:15:50.019541Z",
     "start_time": "2024-06-26T08:15:49.985185Z"
    }
   },
   "outputs": [
    {
     "data": {
      "text/plain": [
       "list"
      ]
     },
     "execution_count": 3,
     "metadata": {},
     "output_type": "execute_result"
    }
   ],
   "source": [
    "type(expenses)"
   ]
  },
  {
   "cell_type": "code",
   "execution_count": 4,
   "id": "5b9622ad",
   "metadata": {
    "ExecuteTime": {
     "end_time": "2024-06-26T08:16:03.154261Z",
     "start_time": "2024-06-26T08:16:03.140796Z"
    }
   },
   "outputs": [
    {
     "data": {
      "text/plain": [
       "tuple"
      ]
     },
     "execution_count": 4,
     "metadata": {},
     "output_type": "execute_result"
    }
   ],
   "source": [
    "type(point)"
   ]
  },
  {
   "cell_type": "code",
   "execution_count": 5,
   "id": "abfef1b4",
   "metadata": {
    "ExecuteTime": {
     "end_time": "2024-06-26T08:18:39.135541Z",
     "start_time": "2024-06-26T08:18:39.120025Z"
    }
   },
   "outputs": [],
   "source": [
    "def find_pe_and_pb(price,eps,book_value):\n",
    "    pe = price/eps \n",
    "    pb = price/book_value\n",
    "    return pe, pb "
   ]
  },
  {
   "cell_type": "code",
   "execution_count": 6,
   "id": "e22349b2",
   "metadata": {
    "ExecuteTime": {
     "end_time": "2024-06-26T08:19:22.571204Z",
     "start_time": "2024-06-26T08:19:22.553231Z"
    }
   },
   "outputs": [],
   "source": [
    "pe_ratio,pb_ratio = find_pe_and_pb(100,2,4)"
   ]
  },
  {
   "cell_type": "code",
   "execution_count": 7,
   "id": "25a1bcff",
   "metadata": {
    "ExecuteTime": {
     "end_time": "2024-06-26T08:19:26.001761Z",
     "start_time": "2024-06-26T08:19:25.978582Z"
    }
   },
   "outputs": [
    {
     "data": {
      "text/plain": [
       "50.0"
      ]
     },
     "execution_count": 7,
     "metadata": {},
     "output_type": "execute_result"
    }
   ],
   "source": [
    "pe_ratio "
   ]
  },
  {
   "cell_type": "code",
   "execution_count": 8,
   "id": "11c91d00",
   "metadata": {
    "ExecuteTime": {
     "end_time": "2024-06-26T08:19:29.722949Z",
     "start_time": "2024-06-26T08:19:29.699154Z"
    }
   },
   "outputs": [
    {
     "data": {
      "text/plain": [
       "25.0"
      ]
     },
     "execution_count": 8,
     "metadata": {},
     "output_type": "execute_result"
    }
   ],
   "source": [
    "pb_ratio"
   ]
  },
  {
   "cell_type": "code",
   "execution_count": 9,
   "id": "5bdf8fe4",
   "metadata": {
    "ExecuteTime": {
     "end_time": "2024-06-26T08:24:54.526132Z",
     "start_time": "2024-06-26T08:24:54.502152Z"
    }
   },
   "outputs": [],
   "source": [
    "Contacts = [('rachel',8887771111),('monica',9195675555),('joey',3332229999)]"
   ]
  },
  {
   "cell_type": "code",
   "execution_count": 10,
   "id": "8eaec044",
   "metadata": {
    "ExecuteTime": {
     "end_time": "2024-06-26T08:25:06.578654Z",
     "start_time": "2024-06-26T08:25:06.562119Z"
    }
   },
   "outputs": [
    {
     "data": {
      "text/plain": [
       "list"
      ]
     },
     "execution_count": 10,
     "metadata": {},
     "output_type": "execute_result"
    }
   ],
   "source": [
    "type(Contacts)"
   ]
  },
  {
   "cell_type": "code",
   "execution_count": 14,
   "id": "f969d323",
   "metadata": {
    "ExecuteTime": {
     "end_time": "2024-06-26T08:28:38.059602Z",
     "start_time": "2024-06-26T08:28:38.043299Z"
    }
   },
   "outputs": [
    {
     "name": "stdout",
     "output_type": "stream",
     "text": [
      "9195675555\n"
     ]
    }
   ],
   "source": [
    "for contact in Contacts:\n",
    "    if contact[0]=='monica':\n",
    "        print(contact[1])"
   ]
  },
  {
   "cell_type": "code",
   "execution_count": 16,
   "id": "739f76de",
   "metadata": {
    "ExecuteTime": {
     "end_time": "2024-06-26T08:32:02.128495Z",
     "start_time": "2024-06-26T08:32:02.095587Z"
    }
   },
   "outputs": [
    {
     "data": {
      "text/plain": [
       "{'rachel': 8887771111, 'monica': 9195675555, 'joey': 3332229999}"
      ]
     },
     "execution_count": 16,
     "metadata": {},
     "output_type": "execute_result"
    }
   ],
   "source": [
    "d = {\n",
    "    'rachel':8887771111,\n",
    "    'monica':9195675555,\n",
    "    'joey': 3332229999\n",
    "    \n",
    "}\n",
    "d "
   ]
  },
  {
   "cell_type": "code",
   "execution_count": 18,
   "id": "d3d68e2f",
   "metadata": {
    "ExecuteTime": {
     "end_time": "2024-06-26T08:32:29.778302Z",
     "start_time": "2024-06-26T08:32:29.762314Z"
    }
   },
   "outputs": [
    {
     "data": {
      "text/plain": [
       "8887771111"
      ]
     },
     "execution_count": 18,
     "metadata": {},
     "output_type": "execute_result"
    }
   ],
   "source": [
    "d['rachel'] "
   ]
  },
  {
   "cell_type": "code",
   "execution_count": 19,
   "id": "b571edba",
   "metadata": {
    "ExecuteTime": {
     "end_time": "2024-06-26T08:32:39.789435Z",
     "start_time": "2024-06-26T08:32:39.762879Z"
    }
   },
   "outputs": [
    {
     "data": {
      "text/plain": [
       "dict"
      ]
     },
     "execution_count": 19,
     "metadata": {},
     "output_type": "execute_result"
    }
   ],
   "source": [
    "type(d)"
   ]
  },
  {
   "cell_type": "code",
   "execution_count": 20,
   "id": "20257f78",
   "metadata": {
    "ExecuteTime": {
     "end_time": "2024-06-26T08:46:12.326797Z",
     "start_time": "2024-06-26T08:46:12.316255Z"
    }
   },
   "outputs": [
    {
     "data": {
      "text/plain": [
       "0"
      ]
     },
     "execution_count": 20,
     "metadata": {},
     "output_type": "execute_result"
    }
   ],
   "source": [
    "d.get('joy',0)"
   ]
  },
  {
   "cell_type": "code",
   "execution_count": 21,
   "id": "5544f4a2",
   "metadata": {
    "ExecuteTime": {
     "end_time": "2024-06-26T08:46:34.234197Z",
     "start_time": "2024-06-26T08:46:34.213352Z"
    }
   },
   "outputs": [
    {
     "data": {
      "text/plain": [
       "9195675555"
      ]
     },
     "execution_count": 21,
     "metadata": {},
     "output_type": "execute_result"
    }
   ],
   "source": [
    "d.get('monica',0)"
   ]
  },
  {
   "cell_type": "code",
   "execution_count": 22,
   "id": "3dd53727",
   "metadata": {
    "ExecuteTime": {
     "end_time": "2024-06-26T08:48:14.295036Z",
     "start_time": "2024-06-26T08:48:14.274302Z"
    }
   },
   "outputs": [
    {
     "data": {
      "text/plain": [
       "{'rachel': 8887771111,\n",
       " 'monica': 9195675555,\n",
       " 'joey': 3332229999,\n",
       " 'satya': 2228764555}"
      ]
     },
     "execution_count": 22,
     "metadata": {},
     "output_type": "execute_result"
    }
   ],
   "source": [
    "d['satya'] = 2228764555 \n",
    "d "
   ]
  },
  {
   "cell_type": "code",
   "execution_count": 23,
   "id": "b6325744",
   "metadata": {
    "ExecuteTime": {
     "end_time": "2024-06-26T08:48:29.475730Z",
     "start_time": "2024-06-26T08:48:29.468729Z"
    }
   },
   "outputs": [],
   "source": [
    "del d['satya']"
   ]
  },
  {
   "cell_type": "code",
   "execution_count": 24,
   "id": "a6a8435f",
   "metadata": {
    "ExecuteTime": {
     "end_time": "2024-06-26T08:48:31.799500Z",
     "start_time": "2024-06-26T08:48:31.791213Z"
    }
   },
   "outputs": [
    {
     "data": {
      "text/plain": [
       "{'rachel': 8887771111, 'monica': 9195675555, 'joey': 3332229999}"
      ]
     },
     "execution_count": 24,
     "metadata": {},
     "output_type": "execute_result"
    }
   ],
   "source": [
    "d "
   ]
  },
  {
   "cell_type": "code",
   "execution_count": 25,
   "id": "6ab31156",
   "metadata": {
    "ExecuteTime": {
     "end_time": "2024-06-26T08:48:46.947389Z",
     "start_time": "2024-06-26T08:48:46.934725Z"
    }
   },
   "outputs": [
    {
     "data": {
      "text/plain": [
       "False"
      ]
     },
     "execution_count": 25,
     "metadata": {},
     "output_type": "execute_result"
    }
   ],
   "source": [
    "'abdul' in d "
   ]
  },
  {
   "cell_type": "code",
   "execution_count": 26,
   "id": "ac90bb9e",
   "metadata": {
    "ExecuteTime": {
     "end_time": "2024-06-26T08:48:58.206687Z",
     "start_time": "2024-06-26T08:48:58.184304Z"
    }
   },
   "outputs": [
    {
     "data": {
      "text/plain": [
       "True"
      ]
     },
     "execution_count": 26,
     "metadata": {},
     "output_type": "execute_result"
    }
   ],
   "source": [
    "'monica' in d "
   ]
  },
  {
   "cell_type": "code",
   "execution_count": 27,
   "id": "dbcfe467",
   "metadata": {
    "ExecuteTime": {
     "end_time": "2024-06-26T08:58:50.171350Z",
     "start_time": "2024-06-26T08:58:50.156813Z"
    }
   },
   "outputs": [
    {
     "data": {
      "text/plain": [
       "{'rachel': {'phone': 1234, 'address': '1 blue st'},\n",
       " 'joey': {'phone': 9999, 'address': '7 newton blvd'}}"
      ]
     },
     "execution_count": 27,
     "metadata": {},
     "output_type": "execute_result"
    }
   ],
   "source": [
    "d = {\n",
    "    'rachel':{'phone':1234 ,'address': '1 blue st'},\n",
    "    'joey': {'phone':9999,'address':'7 newton blvd'}\n",
    "}\n",
    "d "
   ]
  },
  {
   "cell_type": "code",
   "execution_count": 28,
   "id": "a061e687",
   "metadata": {
    "ExecuteTime": {
     "end_time": "2024-06-26T08:59:07.755670Z",
     "start_time": "2024-06-26T08:59:07.724010Z"
    }
   },
   "outputs": [
    {
     "data": {
      "text/plain": [
       "'1 blue st'"
      ]
     },
     "execution_count": 28,
     "metadata": {},
     "output_type": "execute_result"
    }
   ],
   "source": [
    "d['rachel']['address']"
   ]
  },
  {
   "cell_type": "code",
   "execution_count": 29,
   "id": "45091ace",
   "metadata": {
    "ExecuteTime": {
     "end_time": "2024-06-26T08:59:19.236484Z",
     "start_time": "2024-06-26T08:59:19.223964Z"
    }
   },
   "outputs": [
    {
     "data": {
      "text/plain": [
       "{'phone': 9999, 'address': '7 newton blvd'}"
      ]
     },
     "execution_count": 29,
     "metadata": {},
     "output_type": "execute_result"
    }
   ],
   "source": [
    "d['joey']"
   ]
  },
  {
   "cell_type": "code",
   "execution_count": 30,
   "id": "995ddee3",
   "metadata": {
    "ExecuteTime": {
     "end_time": "2024-06-26T08:59:58.345706Z",
     "start_time": "2024-06-26T08:59:58.336917Z"
    }
   },
   "outputs": [],
   "source": [
    "d = {\n",
    "    'rachel':8887771111,\n",
    "    'monica':9195675555,\n",
    "    'joey': 3332229999\n",
    "    \n",
    "}"
   ]
  },
  {
   "cell_type": "code",
   "execution_count": 32,
   "id": "01641b9d",
   "metadata": {
    "ExecuteTime": {
     "end_time": "2024-06-26T09:00:54.464540Z",
     "start_time": "2024-06-26T09:00:54.451655Z"
    }
   },
   "outputs": [
    {
     "name": "stdout",
     "output_type": "stream",
     "text": [
      "rachel 8887771111\n",
      "monica 9195675555\n",
      "joey 3332229999\n"
     ]
    }
   ],
   "source": [
    "for name in d:\n",
    "    print(name,d[name])"
   ]
  },
  {
   "cell_type": "code",
   "execution_count": 33,
   "id": "383c1ba3",
   "metadata": {
    "ExecuteTime": {
     "end_time": "2024-06-26T09:01:42.918984Z",
     "start_time": "2024-06-26T09:01:42.902598Z"
    }
   },
   "outputs": [
    {
     "name": "stdout",
     "output_type": "stream",
     "text": [
      "rachel 8887771111\n",
      "monica 9195675555\n",
      "joey 3332229999\n"
     ]
    }
   ],
   "source": [
    "for name , number in d.items():\n",
    "    print(name,number)"
   ]
  },
  {
   "cell_type": "code",
   "execution_count": 34,
   "id": "167c7db6",
   "metadata": {
    "ExecuteTime": {
     "end_time": "2024-06-26T09:02:12.792201Z",
     "start_time": "2024-06-26T09:02:12.784727Z"
    }
   },
   "outputs": [
    {
     "data": {
      "text/plain": [
       "['__class__',\n",
       " '__contains__',\n",
       " '__delattr__',\n",
       " '__delitem__',\n",
       " '__dir__',\n",
       " '__doc__',\n",
       " '__eq__',\n",
       " '__format__',\n",
       " '__ge__',\n",
       " '__getattribute__',\n",
       " '__getitem__',\n",
       " '__gt__',\n",
       " '__hash__',\n",
       " '__init__',\n",
       " '__init_subclass__',\n",
       " '__iter__',\n",
       " '__le__',\n",
       " '__len__',\n",
       " '__lt__',\n",
       " '__ne__',\n",
       " '__new__',\n",
       " '__reduce__',\n",
       " '__reduce_ex__',\n",
       " '__repr__',\n",
       " '__reversed__',\n",
       " '__setattr__',\n",
       " '__setitem__',\n",
       " '__sizeof__',\n",
       " '__str__',\n",
       " '__subclasshook__',\n",
       " 'clear',\n",
       " 'copy',\n",
       " 'fromkeys',\n",
       " 'get',\n",
       " 'items',\n",
       " 'keys',\n",
       " 'pop',\n",
       " 'popitem',\n",
       " 'setdefault',\n",
       " 'update',\n",
       " 'values']"
      ]
     },
     "execution_count": 34,
     "metadata": {},
     "output_type": "execute_result"
    }
   ],
   "source": [
    "dir(d)"
   ]
  },
  {
   "cell_type": "code",
   "execution_count": 35,
   "id": "afd63ff7",
   "metadata": {
    "ExecuteTime": {
     "end_time": "2024-06-26T09:02:38.553586Z",
     "start_time": "2024-06-26T09:02:38.544922Z"
    }
   },
   "outputs": [
    {
     "data": {
      "text/plain": [
       "{'rachel': 8887771111, 'monica': 9195675555, 'joey': 3332229999}"
      ]
     },
     "execution_count": 35,
     "metadata": {},
     "output_type": "execute_result"
    }
   ],
   "source": [
    "d.copy()"
   ]
  },
  {
   "cell_type": "code",
   "execution_count": 36,
   "id": "3f4e8a69",
   "metadata": {
    "ExecuteTime": {
     "end_time": "2024-06-26T09:02:44.176437Z",
     "start_time": "2024-06-26T09:02:44.164982Z"
    }
   },
   "outputs": [
    {
     "data": {
      "text/plain": [
       "{'rachel': 8887771111, 'monica': 9195675555, 'joey': 3332229999}"
      ]
     },
     "execution_count": 36,
     "metadata": {},
     "output_type": "execute_result"
    }
   ],
   "source": [
    "d "
   ]
  },
  {
   "cell_type": "code",
   "execution_count": 38,
   "id": "91b0703a",
   "metadata": {
    "ExecuteTime": {
     "end_time": "2024-06-26T09:03:22.365614Z",
     "start_time": "2024-06-26T09:03:22.354784Z"
    }
   },
   "outputs": [
    {
     "data": {
      "text/plain": [
       "{'j': None, 'e': None, 's': None, 'i': None, 'c': None, 'a': None}"
      ]
     },
     "execution_count": 38,
     "metadata": {},
     "output_type": "execute_result"
    }
   ],
   "source": [
    "d.fromkeys('jessica')"
   ]
  },
  {
   "cell_type": "code",
   "execution_count": 39,
   "id": "dc15c5d4",
   "metadata": {
    "ExecuteTime": {
     "end_time": "2024-06-26T09:04:05.606585Z",
     "start_time": "2024-06-26T09:04:05.594396Z"
    }
   },
   "outputs": [
    {
     "name": "stdout",
     "output_type": "stream",
     "text": [
      "Help on built-in function fromkeys:\n",
      "\n",
      "fromkeys(iterable, value=None, /) method of builtins.type instance\n",
      "    Create a new dictionary with keys from iterable and values set to value.\n",
      "\n"
     ]
    }
   ],
   "source": [
    "help(d.fromkeys)"
   ]
  },
  {
   "cell_type": "code",
   "execution_count": 40,
   "id": "6f07281e",
   "metadata": {
    "ExecuteTime": {
     "end_time": "2024-06-26T09:04:17.525454Z",
     "start_time": "2024-06-26T09:04:17.514456Z"
    }
   },
   "outputs": [
    {
     "data": {
      "text/plain": [
       "{'rachel': 8887771111, 'monica': 9195675555, 'joey': 3332229999}"
      ]
     },
     "execution_count": 40,
     "metadata": {},
     "output_type": "execute_result"
    }
   ],
   "source": [
    "d "
   ]
  },
  {
   "cell_type": "code",
   "execution_count": 42,
   "id": "e5de50eb",
   "metadata": {
    "ExecuteTime": {
     "end_time": "2024-06-26T09:04:53.760002Z",
     "start_time": "2024-06-26T09:04:53.748606Z"
    }
   },
   "outputs": [
    {
     "data": {
      "text/plain": [
       "8887771111"
      ]
     },
     "execution_count": 42,
     "metadata": {},
     "output_type": "execute_result"
    }
   ],
   "source": [
    "d.setdefault('rachel')"
   ]
  },
  {
   "cell_type": "code",
   "execution_count": 43,
   "id": "7ffe8bc9",
   "metadata": {
    "ExecuteTime": {
     "end_time": "2024-06-26T09:05:56.151512Z",
     "start_time": "2024-06-26T09:05:56.127034Z"
    }
   },
   "outputs": [
    {
     "data": {
      "text/plain": [
       "dict_keys(['rachel', 'monica', 'joey'])"
      ]
     },
     "execution_count": 43,
     "metadata": {},
     "output_type": "execute_result"
    }
   ],
   "source": [
    "d.keys()"
   ]
  },
  {
   "cell_type": "code",
   "execution_count": 44,
   "id": "34dc4d60",
   "metadata": {
    "ExecuteTime": {
     "end_time": "2024-06-26T09:06:03.626166Z",
     "start_time": "2024-06-26T09:06:03.609054Z"
    }
   },
   "outputs": [
    {
     "data": {
      "text/plain": [
       "dict_values([8887771111, 9195675555, 3332229999])"
      ]
     },
     "execution_count": 44,
     "metadata": {},
     "output_type": "execute_result"
    }
   ],
   "source": [
    "d.values()"
   ]
  },
  {
   "cell_type": "code",
   "execution_count": 45,
   "id": "ac3494f0",
   "metadata": {
    "ExecuteTime": {
     "end_time": "2024-06-26T09:08:00.352705Z",
     "start_time": "2024-06-26T09:08:00.340705Z"
    }
   },
   "outputs": [
    {
     "data": {
      "text/plain": [
       "dict_items([('rachel', 8887771111), ('monica', 9195675555), ('joey', 3332229999)])"
      ]
     },
     "execution_count": 45,
     "metadata": {},
     "output_type": "execute_result"
    }
   ],
   "source": [
    "d.items()"
   ]
  },
  {
   "cell_type": "code",
   "execution_count": 47,
   "id": "dccb194d",
   "metadata": {
    "ExecuteTime": {
     "end_time": "2024-06-26T09:10:56.212589Z",
     "start_time": "2024-06-26T09:10:56.183604Z"
    }
   },
   "outputs": [
    {
     "ename": "TypeError",
     "evalue": "unhashable type: 'slice'",
     "output_type": "error",
     "traceback": [
      "\u001b[1;31m---------------------------------------------------------------------------\u001b[0m",
      "\u001b[1;31mTypeError\u001b[0m                                 Traceback (most recent call last)",
      "Input \u001b[1;32mIn [47]\u001b[0m, in \u001b[0;36m<cell line: 2>\u001b[1;34m()\u001b[0m\n\u001b[0;32m      1\u001b[0m d \u001b[38;5;241m=\u001b[39m {\u001b[38;5;124m'\u001b[39m\u001b[38;5;124mLuke\u001b[39m\u001b[38;5;124m'\u001b[39m: \u001b[38;5;241m1994\u001b[39m, \u001b[38;5;124m'\u001b[39m\u001b[38;5;124mBoba\u001b[39m\u001b[38;5;124m'\u001b[39m: \u001b[38;5;241m1989\u001b[39m, \u001b[38;5;124m'\u001b[39m\u001b[38;5;124mKyle\u001b[39m\u001b[38;5;124m'\u001b[39m: \u001b[38;5;241m1998\u001b[39m, \u001b[38;5;124m'\u001b[39m\u001b[38;5;124mHann\u001b[39m\u001b[38;5;124m'\u001b[39m: \u001b[38;5;241m1993\u001b[39m}\n\u001b[1;32m----> 2\u001b[0m \u001b[38;5;28mprint\u001b[39m(\u001b[43md\u001b[49m\u001b[43m[\u001b[49m\u001b[38;5;124;43m'\u001b[39;49m\u001b[38;5;124;43mBoba\u001b[39;49m\u001b[38;5;124;43m'\u001b[39;49m\u001b[43m \u001b[49m\u001b[43m:\u001b[49m\u001b[43m \u001b[49m\u001b[38;5;124;43m'\u001b[39;49m\u001b[38;5;124;43mKyle\u001b[39;49m\u001b[38;5;124;43m'\u001b[39;49m\u001b[43m]\u001b[49m)\n",
      "\u001b[1;31mTypeError\u001b[0m: unhashable type: 'slice'"
     ]
    }
   ],
   "source": [
    "d = {'Luke': 1994, 'Boba': 1989, 'Kyle': 1998, 'Hann': 1993}\n",
    "print(d['Boba' : 'Kyle'])"
   ]
  },
  {
   "cell_type": "markdown",
   "id": "8a6eac55",
   "metadata": {},
   "source": [
    "### exercises \n",
    "\n",
    "Create a list of your friends' names and now create a list of tuples. The tuple should contain the friend’s name and the length of the name. For Example: if someone’s name is Aditya, the tuple would be: (‘Aditya’, 6)"
   ]
  },
  {
   "cell_type": "code",
   "execution_count": 48,
   "id": "ae4b314c",
   "metadata": {
    "ExecuteTime": {
     "end_time": "2024-06-26T09:25:30.997856Z",
     "start_time": "2024-06-26T09:25:30.979077Z"
    }
   },
   "outputs": [],
   "source": [
    "l=['priyanka','jkg','shilpa','vini']"
   ]
  },
  {
   "cell_type": "code",
   "execution_count": 52,
   "id": "cb40bd14",
   "metadata": {
    "ExecuteTime": {
     "end_time": "2024-06-26T09:31:41.853444Z",
     "start_time": "2024-06-26T09:31:41.841918Z"
    }
   },
   "outputs": [],
   "source": [
    "L=('priyanka',len(l[0]),'jkg',len(l[1]),'shilpa',len(l[2]),'vini',len(l[3]))"
   ]
  },
  {
   "cell_type": "code",
   "execution_count": 53,
   "id": "1652a352",
   "metadata": {
    "ExecuteTime": {
     "end_time": "2024-06-26T09:31:45.350865Z",
     "start_time": "2024-06-26T09:31:45.338872Z"
    }
   },
   "outputs": [
    {
     "data": {
      "text/plain": [
       "('priyanka', 8, 'jkg', 3, 'shilpa', 6, 'vini', 4)"
      ]
     },
     "execution_count": 53,
     "metadata": {},
     "output_type": "execute_result"
    }
   ],
   "source": [
    " L "
   ]
  },
  {
   "cell_type": "code",
   "execution_count": 54,
   "id": "20531669",
   "metadata": {
    "ExecuteTime": {
     "end_time": "2024-06-26T09:32:13.119358Z",
     "start_time": "2024-06-26T09:32:13.102665Z"
    }
   },
   "outputs": [
    {
     "data": {
      "text/plain": [
       "tuple"
      ]
     },
     "execution_count": 54,
     "metadata": {},
     "output_type": "execute_result"
    }
   ],
   "source": [
    "type(L)"
   ]
  },
  {
   "cell_type": "code",
   "execution_count": 55,
   "id": "797e06f8",
   "metadata": {
    "ExecuteTime": {
     "end_time": "2024-06-26T09:32:21.129609Z",
     "start_time": "2024-06-26T09:32:21.121944Z"
    }
   },
   "outputs": [
    {
     "data": {
      "text/plain": [
       "list"
      ]
     },
     "execution_count": 55,
     "metadata": {},
     "output_type": "execute_result"
    }
   ],
   "source": [
    "type(l)"
   ]
  },
  {
   "cell_type": "markdown",
   "id": "2568c7d7",
   "metadata": {},
   "source": [
    "Q.2. You and your wife argued about expenses last night. You both want to know who is spending more in a month. Now you both go to the Little Yoda he is a good python programmer. He suggested that both of you add an entry in a dictionary next time you spend money. So that you can have a clear picture of your expenses and plan to reduce them. Both dictionaries are as below-\n",
    "Your expenses -\n",
    "\n",
    "Clothes - 1100\n",
    "\n",
    "Shoes - 1000\n",
    "\n",
    "Watch - 900\n",
    "\n",
    "Mobile Recharge - 699\n",
    "\n",
    "Petrol - 1980\n",
    "\n",
    "Your Wife’s expenses -\n",
    "\n",
    "Mobile Recharge - 799\n",
    "\n",
    "DTH recharge - 999\n",
    "\n",
    "Clothes - 2310\n",
    "\n",
    "Makeup - 3670\n",
    "\n",
    "Shoes - 999\n",
    "\n",
    "Find out the total expenses for each of you.\n",
    "\n",
    "Find out who spending more\n",
    "\n",
    "Find out which thing you and your wife spending more\n",
    "\n"
   ]
  },
  {
   "cell_type": "code",
   "execution_count": 57,
   "id": "73aedc79",
   "metadata": {
    "ExecuteTime": {
     "end_time": "2024-06-26T09:40:02.163865Z",
     "start_time": "2024-06-26T09:40:02.149861Z"
    }
   },
   "outputs": [],
   "source": [
    "husband_expenses={\n",
    "    'Clothes': 1100,\n",
    "    'Shoes' : 1000,\n",
    "    'Watch' : 900,\n",
    "    'Mobile Recharge': 699,\n",
    "    'Petrol': 1980\n",
    "}"
   ]
  },
  {
   "cell_type": "code",
   "execution_count": 58,
   "id": "8599d681",
   "metadata": {
    "ExecuteTime": {
     "end_time": "2024-06-26T09:43:20.613440Z",
     "start_time": "2024-06-26T09:43:20.592498Z"
    }
   },
   "outputs": [],
   "source": [
    "wife_expenses = {\n",
    "    'Mobile Recharge': 799,\n",
    "    'DTH recharge': 999,\n",
    "    'Clothes': 2310,\n",
    "    'Makeup': 3670,\n",
    "    'Shoes' : 999\n",
    "}"
   ]
  },
  {
   "cell_type": "code",
   "execution_count": 66,
   "id": "4b0f520a",
   "metadata": {
    "ExecuteTime": {
     "end_time": "2024-06-26T10:31:35.918746Z",
     "start_time": "2024-06-26T10:31:35.910759Z"
    }
   },
   "outputs": [
    {
     "data": {
      "text/plain": [
       "5679"
      ]
     },
     "execution_count": 66,
     "metadata": {},
     "output_type": "execute_result"
    }
   ],
   "source": [
    "#Q.1 find total expenses by each of you--> Husband expenses\n",
    "total_expense_h =sum(husband_expenses.values())\n",
    "total_expense_h "
   ]
  },
  {
   "cell_type": "code",
   "execution_count": 67,
   "id": "6587193c",
   "metadata": {
    "ExecuteTime": {
     "end_time": "2024-06-26T10:32:04.854042Z",
     "start_time": "2024-06-26T10:32:04.835622Z"
    }
   },
   "outputs": [
    {
     "data": {
      "text/plain": [
       "8777"
      ]
     },
     "execution_count": 67,
     "metadata": {},
     "output_type": "execute_result"
    }
   ],
   "source": [
    "# Q1. find out total expenses by each of you ---> wife expenses\n",
    "total_expense_w = sum(wife_expenses.values())\n",
    "total_expense_w "
   ]
  },
  {
   "cell_type": "code",
   "execution_count": 69,
   "id": "ad5bd5ed",
   "metadata": {
    "ExecuteTime": {
     "end_time": "2024-06-26T10:35:42.801982Z",
     "start_time": "2024-06-26T10:35:42.796979Z"
    }
   },
   "outputs": [
    {
     "name": "stdout",
     "output_type": "stream",
     "text": [
      "Wife's expenses are more\n"
     ]
    }
   ],
   "source": [
    "#Q.2. find out who is spending more\n",
    "if total_expense_h>total_expense_w:\n",
    "    print(\"Husband's expenses are more\")\n",
    "else:\n",
    "    print(\"Wife's expenses are more\")\n",
    "    \n",
    "# Conclusion: wife's expenses are more"
   ]
  },
  {
   "cell_type": "code",
   "execution_count": 80,
   "id": "6a1e3f87",
   "metadata": {
    "ExecuteTime": {
     "end_time": "2024-06-26T10:44:35.410999Z",
     "start_time": "2024-06-26T10:44:35.395998Z"
    }
   },
   "outputs": [
    {
     "name": "stdout",
     "output_type": "stream",
     "text": [
      "Highest Expense Category: Petrol\n",
      "Amount: 1980\n"
     ]
    }
   ],
   "source": [
    "#Q3.Find out which thing you and your wife spending more\n",
    "\n",
    "# first calculating max expenses by Husband \n",
    "max_expense_category = max(husband_expenses, key=husband_expenses.get)\n",
    "max_expense_amount = husband_expenses[max_expense_category]\n",
    "\n",
    "# Print the category and the amount\n",
    "print(\"Highest Expense Category by Husband:\", max_expense_category)\n",
    "print(\"Amount:\", max_expense_amount)\n",
    " \n"
   ]
  },
  {
   "cell_type": "code",
   "execution_count": 81,
   "id": "1d5e9c11",
   "metadata": {
    "ExecuteTime": {
     "end_time": "2024-06-26T10:46:05.186368Z",
     "start_time": "2024-06-26T10:46:05.169896Z"
    }
   },
   "outputs": [
    {
     "name": "stdout",
     "output_type": "stream",
     "text": [
      "Highest Expense Category by wife: Makeup\n",
      "Amount: 3670\n"
     ]
    }
   ],
   "source": [
    "# first calculating max expenses by wife \n",
    "max_expense_category = max(wife_expenses, key=wife_expenses.get)\n",
    "max_expense_amount = wife_expenses[max_expense_category]\n",
    "\n",
    "# Print the category and the amount\n",
    "print(\"Highest Expense Category by wife:\", max_expense_category)\n",
    "print(\"Amount:\", max_expense_amount)\n",
    " "
   ]
  },
  {
   "cell_type": "code",
   "execution_count": null,
   "id": "61e75f7e",
   "metadata": {},
   "outputs": [],
   "source": []
  }
 ],
 "metadata": {
  "kernelspec": {
   "display_name": "Python 3 (ipykernel)",
   "language": "python",
   "name": "python3"
  },
  "language_info": {
   "codemirror_mode": {
    "name": "ipython",
    "version": 3
   },
   "file_extension": ".py",
   "mimetype": "text/x-python",
   "name": "python",
   "nbconvert_exporter": "python",
   "pygments_lexer": "ipython3",
   "version": "3.8.10"
  },
  "toc": {
   "base_numbering": 1,
   "nav_menu": {},
   "number_sections": true,
   "sideBar": true,
   "skip_h1_title": false,
   "title_cell": "Table of Contents",
   "title_sidebar": "Contents",
   "toc_cell": false,
   "toc_position": {},
   "toc_section_display": true,
   "toc_window_display": false
  },
  "varInspector": {
   "cols": {
    "lenName": 16,
    "lenType": 16,
    "lenVar": 40
   },
   "kernels_config": {
    "python": {
     "delete_cmd_postfix": "",
     "delete_cmd_prefix": "del ",
     "library": "var_list.py",
     "varRefreshCmd": "print(var_dic_list())"
    },
    "r": {
     "delete_cmd_postfix": ") ",
     "delete_cmd_prefix": "rm(",
     "library": "var_list.r",
     "varRefreshCmd": "cat(var_dic_list()) "
    }
   },
   "types_to_exclude": [
    "module",
    "function",
    "builtin_function_or_method",
    "instance",
    "_Feature"
   ],
   "window_display": false
  }
 },
 "nbformat": 4,
 "nbformat_minor": 5
}
