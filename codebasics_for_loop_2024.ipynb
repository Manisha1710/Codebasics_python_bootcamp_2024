{
 "cells": [
  {
   "cell_type": "code",
   "execution_count": 1,
   "id": "2edf555f",
   "metadata": {
    "ExecuteTime": {
     "end_time": "2024-06-24T10:21:13.404197Z",
     "start_time": "2024-06-24T10:21:13.341118Z"
    }
   },
   "outputs": [],
   "source": [
    "expenses = [1200,1900,2100,1700,2300]"
   ]
  },
  {
   "cell_type": "code",
   "execution_count": 2,
   "id": "222e5b64",
   "metadata": {
    "ExecuteTime": {
     "end_time": "2024-06-24T10:21:13.419808Z",
     "start_time": "2024-06-24T10:21:13.404197Z"
    }
   },
   "outputs": [],
   "source": [
    "total = expenses[0]+expenses[1]+expenses[2]+expenses[3]+expenses[4]"
   ]
  },
  {
   "cell_type": "code",
   "execution_count": 3,
   "id": "993d74c3",
   "metadata": {
    "ExecuteTime": {
     "end_time": "2024-06-24T10:21:13.467195Z",
     "start_time": "2024-06-24T10:21:13.419808Z"
    }
   },
   "outputs": [
    {
     "data": {
      "text/plain": [
       "9200"
      ]
     },
     "execution_count": 3,
     "metadata": {},
     "output_type": "execute_result"
    }
   ],
   "source": [
    "total "
   ]
  },
  {
   "cell_type": "markdown",
   "id": "f4d818be",
   "metadata": {},
   "source": [
    "## Here we have small list of values so we can add them indivdually by their index. what if it has big list \n",
    "\n",
    "## Introduce for loop to perform such type of operations "
   ]
  },
  {
   "cell_type": "code",
   "execution_count": 4,
   "id": "8dabf3be",
   "metadata": {
    "ExecuteTime": {
     "end_time": "2024-06-24T10:21:13.498459Z",
     "start_time": "2024-06-24T10:21:13.467195Z"
    }
   },
   "outputs": [
    {
     "name": "stdout",
     "output_type": "stream",
     "text": [
      "1200\n",
      "1900\n",
      "2100\n",
      "1700\n",
      "2300\n"
     ]
    }
   ],
   "source": [
    "for Expenses in expenses:\n",
    "    print(Expenses)"
   ]
  },
  {
   "cell_type": "code",
   "execution_count": 5,
   "id": "fc35d697",
   "metadata": {
    "ExecuteTime": {
     "end_time": "2024-06-24T10:21:13.514089Z",
     "start_time": "2024-06-24T10:21:13.498459Z"
    }
   },
   "outputs": [
    {
     "name": "stdout",
     "output_type": "stream",
     "text": [
      "9200\n"
     ]
    }
   ],
   "source": [
    "total_expenses =0\n",
    "\n",
    "for Expenses in expenses:\n",
    "    total_expenses = total_expenses + Expenses\n",
    "\n",
    "print(total_expenses)"
   ]
  },
  {
   "cell_type": "markdown",
   "id": "44acffe0",
   "metadata": {},
   "source": [
    "## Range function is used to get series for given numbers"
   ]
  },
  {
   "cell_type": "code",
   "execution_count": 6,
   "id": "1b379723",
   "metadata": {
    "ExecuteTime": {
     "end_time": "2024-06-24T10:21:13.545383Z",
     "start_time": "2024-06-24T10:21:13.514089Z"
    }
   },
   "outputs": [
    {
     "name": "stdout",
     "output_type": "stream",
     "text": [
      "0\n",
      "2\n",
      "4\n",
      "6\n",
      "8\n",
      "10\n",
      "12\n",
      "14\n",
      "16\n",
      "18\n",
      "20\n",
      "22\n",
      "24\n",
      "26\n",
      "28\n",
      "30\n",
      "32\n",
      "34\n",
      "36\n",
      "38\n",
      "40\n"
     ]
    }
   ],
   "source": [
    "for i in range(0,21):\n",
    "    print(i*2)"
   ]
  },
  {
   "cell_type": "code",
   "execution_count": 7,
   "id": "a16d5ac8",
   "metadata": {
    "ExecuteTime": {
     "end_time": "2024-06-24T10:21:13.577063Z",
     "start_time": "2024-06-24T10:21:13.545383Z"
    }
   },
   "outputs": [
    {
     "data": {
      "text/plain": [
       "[0, 1, 2, 3, 4]"
      ]
     },
     "execution_count": 7,
     "metadata": {},
     "output_type": "execute_result"
    }
   ],
   "source": [
    "range(0,5)\n",
    "list(range(0,5))\n"
   ]
  },
  {
   "cell_type": "code",
   "execution_count": 8,
   "id": "48b87aaa",
   "metadata": {
    "ExecuteTime": {
     "end_time": "2024-06-24T10:21:13.608321Z",
     "start_time": "2024-06-24T10:21:13.577063Z"
    }
   },
   "outputs": [
    {
     "name": "stdout",
     "output_type": "stream",
     "text": [
      "0\n",
      "1200\n",
      "1\n",
      "1900\n",
      "2\n",
      "2100\n",
      "3\n",
      "1700\n",
      "4\n",
      "2300\n"
     ]
    }
   ],
   "source": [
    "for i in range(len(expenses)):\n",
    "    print(i)\n",
    "    print(expenses[i])"
   ]
  },
  {
   "cell_type": "code",
   "execution_count": 9,
   "id": "23cf7e63",
   "metadata": {
    "ExecuteTime": {
     "end_time": "2024-06-24T10:21:13.639583Z",
     "start_time": "2024-06-24T10:21:13.608321Z"
    }
   },
   "outputs": [
    {
     "name": "stdout",
     "output_type": "stream",
     "text": [
      "Month1,Expenses:1200\n",
      "Month2,Expenses:1900\n",
      "Month3,Expenses:2100\n",
      "Month4,Expenses:1700\n",
      "Month5,Expenses:2300\n",
      "total expenses:  9200\n"
     ]
    }
   ],
   "source": [
    "total_expenses=0\n",
    "\n",
    "for i in range(len(expenses)):\n",
    "    expense = expenses[i]\n",
    "    print(f'Month{i+1},Expenses:{expense}')\n",
    "    total_expenses+= expense\n",
    "\n",
    "\n",
    "print(\"total expenses: \", total_expenses)"
   ]
  },
  {
   "cell_type": "markdown",
   "id": "24f2ec88",
   "metadata": {},
   "source": [
    "## using enumerate function (same like range function)"
   ]
  },
  {
   "cell_type": "code",
   "execution_count": 10,
   "id": "639142e2",
   "metadata": {
    "ExecuteTime": {
     "end_time": "2024-06-24T10:21:13.671252Z",
     "start_time": "2024-06-24T10:21:13.639583Z"
    }
   },
   "outputs": [
    {
     "name": "stdout",
     "output_type": "stream",
     "text": [
      "Month1, Expenses:1200\n",
      "Month2, Expenses:1900\n",
      "Month3, Expenses:2100\n",
      "Month4, Expenses:1700\n",
      "Month5, Expenses:2300\n",
      "total expenses: 9200\n"
     ]
    }
   ],
   "source": [
    "total_expenses = 0\n",
    "\n",
    "for i,exp in enumerate(expenses):\n",
    "    print(f'Month{i+1}, Expenses:{exp}')\n",
    "    total_expenses += exp \n",
    "    \n",
    "print(\"total expenses:\",total_expenses)"
   ]
  },
  {
   "cell_type": "markdown",
   "id": "d733e72b",
   "metadata": {},
   "source": [
    "## finding the month where expenses are more than 2000 "
   ]
  },
  {
   "cell_type": "code",
   "execution_count": 11,
   "id": "b3db001c",
   "metadata": {
    "ExecuteTime": {
     "end_time": "2024-06-24T10:21:13.718157Z",
     "start_time": "2024-06-24T10:21:13.686893Z"
    }
   },
   "outputs": [
    {
     "name": "stdout",
     "output_type": "stream",
     "text": [
      "month3 has expense >2000\n",
      "month5 has expense >2000\n"
     ]
    }
   ],
   "source": [
    "for i, exp in enumerate(expenses):\n",
    "    if exp > 2000:\n",
    "        print(f'month{i+1} has expense >2000')"
   ]
  },
  {
   "cell_type": "markdown",
   "id": "c2f6a161",
   "metadata": {},
   "source": [
    "## Break function to stop the for loop and display the output \n",
    "\n",
    "@@ we are looking for the first month only where expenses more than 2000 and then stop the searching"
   ]
  },
  {
   "cell_type": "code",
   "execution_count": 12,
   "id": "8b5ec56b",
   "metadata": {
    "ExecuteTime": {
     "end_time": "2024-06-24T10:21:13.781140Z",
     "start_time": "2024-06-24T10:21:13.759488Z"
    }
   },
   "outputs": [
    {
     "name": "stdout",
     "output_type": "stream",
     "text": [
      "month3 has expense >2000\n"
     ]
    }
   ],
   "source": [
    "for i, exp in enumerate(expenses):\n",
    "    if exp > 2000:\n",
    "        print(f'month{i+1} has expense >2000')\n",
    "        break"
   ]
  },
  {
   "cell_type": "raw",
   "id": "02386826",
   "metadata": {},
   "source": [
    "### Looking for other examples"
   ]
  },
  {
   "cell_type": "code",
   "execution_count": 13,
   "id": "d430b0e4",
   "metadata": {
    "ExecuteTime": {
     "end_time": "2024-06-24T10:21:13.828326Z",
     "start_time": "2024-06-24T10:21:13.796768Z"
    }
   },
   "outputs": [
    {
     "name": "stdout",
     "output_type": "stream",
     "text": [
      "key is not found at sofa\n",
      "key is not found at garage\n",
      "key is found at  chair\n"
     ]
    }
   ],
   "source": [
    "locations = [\"sofa\",\"garage\",\"chair\",\"table\",\"closet\"]\n",
    "\n",
    "key_location = \"chair\"\n",
    "\n",
    "for location in locations:\n",
    "    if location== key_location:\n",
    "        print(\"key is found at \", location)\n",
    "        break\n",
    "    else:\n",
    "        print(\"key is not found at\",location)\n",
    "    "
   ]
  },
  {
   "cell_type": "code",
   "execution_count": 14,
   "id": "66f90cf2",
   "metadata": {
    "ExecuteTime": {
     "end_time": "2024-06-24T10:21:13.843655Z",
     "start_time": "2024-06-24T10:21:13.828326Z"
    }
   },
   "outputs": [
    {
     "name": "stdout",
     "output_type": "stream",
     "text": [
      "1\n",
      "2\n",
      "3\n",
      "4\n",
      "5\n",
      "6\n",
      "7\n",
      "8\n",
      "9\n",
      "10\n"
     ]
    }
   ],
   "source": [
    "for i in range(1,11):\n",
    "    print(i)"
   ]
  },
  {
   "cell_type": "markdown",
   "id": "21144f31",
   "metadata": {},
   "source": [
    "## printing odd number\n"
   ]
  },
  {
   "cell_type": "code",
   "execution_count": 15,
   "id": "d9e4ac75",
   "metadata": {
    "ExecuteTime": {
     "end_time": "2024-06-24T10:21:13.906919Z",
     "start_time": "2024-06-24T10:21:13.891336Z"
    }
   },
   "outputs": [
    {
     "name": "stdout",
     "output_type": "stream",
     "text": [
      "1\n",
      "3\n",
      "5\n",
      "7\n",
      "9\n"
     ]
    }
   ],
   "source": [
    "for i in range(1,11):\n",
    "    if i%2 ==1:\n",
    "        print(i)"
   ]
  },
  {
   "cell_type": "markdown",
   "id": "85bc67b5",
   "metadata": {},
   "source": [
    "## continue function: when we use continue in the for loop it won't perform whatever after continue statment"
   ]
  },
  {
   "cell_type": "code",
   "execution_count": 16,
   "id": "79fc06e3",
   "metadata": {
    "ExecuteTime": {
     "end_time": "2024-06-24T10:21:13.969894Z",
     "start_time": "2024-06-24T10:21:13.938212Z"
    }
   },
   "outputs": [
    {
     "name": "stdout",
     "output_type": "stream",
     "text": [
      "1\n",
      "3\n",
      "5\n",
      "7\n",
      "9\n"
     ]
    }
   ],
   "source": [
    "for i in range(1,11):\n",
    "    if i %2== 0:\n",
    "        continue\n",
    "    print(i)"
   ]
  },
  {
   "cell_type": "markdown",
   "id": "ca390e97",
   "metadata": {},
   "source": [
    "# while loop"
   ]
  },
  {
   "cell_type": "code",
   "execution_count": 17,
   "id": "b5e8851a",
   "metadata": {
    "ExecuteTime": {
     "end_time": "2024-06-24T10:21:14.032419Z",
     "start_time": "2024-06-24T10:21:14.016810Z"
    }
   },
   "outputs": [
    {
     "name": "stdout",
     "output_type": "stream",
     "text": [
      "0\n",
      "1\n",
      "2\n",
      "3\n",
      "4\n",
      "5\n",
      "6\n",
      "7\n",
      "8\n",
      "9\n",
      "10\n"
     ]
    }
   ],
   "source": [
    "n=0\n",
    "\n",
    "while(n<=10):\n",
    "    print(n)\n",
    "    n +=1 ## this should be must to stop iteriations"
   ]
  },
  {
   "cell_type": "code",
   "execution_count": 18,
   "id": "74c55987",
   "metadata": {
    "ExecuteTime": {
     "end_time": "2024-06-24T10:21:14.064099Z",
     "start_time": "2024-06-24T10:21:14.032419Z"
    }
   },
   "outputs": [
    {
     "name": "stdout",
     "output_type": "stream",
     "text": [
      "2\n",
      "4\n",
      "6\n",
      "8\n",
      "10\n"
     ]
    }
   ],
   "source": [
    "n=1\n",
    "\n",
    "while n in range(1,11):\n",
    "    if n%2==0:\n",
    "        print(n)\n",
    "    n+=1"
   ]
  },
  {
   "cell_type": "code",
   "execution_count": 19,
   "id": "bb41e402",
   "metadata": {
    "ExecuteTime": {
     "end_time": "2024-06-24T10:21:14.079739Z",
     "start_time": "2024-06-24T10:21:14.064099Z"
    }
   },
   "outputs": [
    {
     "name": "stdout",
     "output_type": "stream",
     "text": [
      "skllBascs"
     ]
    }
   ],
   "source": [
    "for l in 'skillBasics':\n",
    "    if l =='i':\n",
    "        continue\n",
    "    print(l,end='')"
   ]
  },
  {
   "cell_type": "code",
   "execution_count": 20,
   "id": "59ccae58",
   "metadata": {
    "ExecuteTime": {
     "end_time": "2024-06-24T10:21:14.095366Z",
     "start_time": "2024-06-24T10:21:14.079739Z"
    }
   },
   "outputs": [
    {
     "name": "stdout",
     "output_type": "stream",
     "text": [
      "1, -1, -3, -5, "
     ]
    }
   ],
   "source": [
    "for n in range(1,-6,-2):\n",
    "    print(n,end=', ')"
   ]
  },
  {
   "cell_type": "code",
   "execution_count": 21,
   "id": "69f048a1",
   "metadata": {
    "ExecuteTime": {
     "end_time": "2024-06-24T10:21:14.126627Z",
     "start_time": "2024-06-24T10:21:14.095366Z"
    }
   },
   "outputs": [
    {
     "name": "stdout",
     "output_type": "stream",
     "text": [
      "101\n"
     ]
    }
   ],
   "source": [
    "X=-1\n",
    "\n",
    "while X <=99:\n",
    "   X +=2\n",
    "print(X)\n",
    "    "
   ]
  },
  {
   "cell_type": "markdown",
   "id": "35f733e7",
   "metadata": {},
   "source": [
    "## for_while_loop_Exercises"
   ]
  },
  {
   "cell_type": "markdown",
   "id": "bfffced5",
   "metadata": {},
   "source": [
    "\n",
    "Write a Python program to print the following pattern.\n",
    "\n",
    "1 2 3 4 5\n",
    "\n",
    "1 2 3 4 \n",
    "\n",
    "1 2 3\n",
    "\n",
    "1 2\n",
    "\n",
    "1"
   ]
  },
  {
   "cell_type": "code",
   "execution_count": 22,
   "id": "afad705e",
   "metadata": {
    "ExecuteTime": {
     "end_time": "2024-06-24T10:21:14.221121Z",
     "start_time": "2024-06-24T10:21:14.205499Z"
    }
   },
   "outputs": [
    {
     "name": "stdout",
     "output_type": "stream",
     "text": [
      "1 2 3 4 5 \n",
      "1 2 3 4 \n",
      "1 2 3 \n",
      "1 2 \n",
      "1 \n"
     ]
    }
   ],
   "source": [
    "for i in range (5,0,-1):\n",
    "    for j in range(1,i+1):\n",
    "        print(j,end=\" \")\n",
    "    print()"
   ]
  },
  {
   "cell_type": "markdown",
   "id": "7d36ad8c",
   "metadata": {},
   "source": [
    "## using while loop to get above output"
   ]
  },
  {
   "cell_type": "code",
   "execution_count": 23,
   "id": "05967dd6",
   "metadata": {
    "ExecuteTime": {
     "end_time": "2024-06-24T10:21:14.331007Z",
     "start_time": "2024-06-24T10:21:14.299752Z"
    }
   },
   "outputs": [
    {
     "name": "stdout",
     "output_type": "stream",
     "text": [
      "1 2 3 4 5 \n",
      "1 2 3 4 \n",
      "1 2 3 \n",
      "1 2 \n",
      "1 \n"
     ]
    }
   ],
   "source": [
    "i=5 \n",
    "while i>0:\n",
    "    j=1\n",
    "    while j<=i:\n",
    "        print(j,end=\" \")\n",
    "        j +=1 \n",
    "    print()\n",
    "    i -=1"
   ]
  },
  {
   "cell_type": "markdown",
   "id": "4675e66a",
   "metadata": {},
   "source": [
    "Q.2. Write a Python program to find the sum of all the numbers except odd numbers between 1 and 20 using a loop. Can you also do this using a while loop?"
   ]
  },
  {
   "cell_type": "markdown",
   "id": "5311d004",
   "metadata": {},
   "source": [
    "# using for_loop"
   ]
  },
  {
   "cell_type": "code",
   "execution_count": 36,
   "id": "fc98a4ff",
   "metadata": {
    "ExecuteTime": {
     "end_time": "2024-06-24T10:40:17.784913Z",
     "start_time": "2024-06-24T10:40:17.775202Z"
    }
   },
   "outputs": [
    {
     "name": "stdout",
     "output_type": "stream",
     "text": [
      "The sum of all even numbers between 1 and 20 is: 110\n"
     ]
    }
   ],
   "source": [
    "# Initialize the sum\n",
    "total_sum = 0\n",
    "\n",
    "# Loop through numbers from 1 to 20\n",
    "for num in range(1, 21):\n",
    "    # Check if the number is even\n",
    "    if num % 2 == 0:\n",
    "        # Add the even number to the total sum\n",
    "        total_sum += num\n",
    "\n",
    "print(\"The sum of all even numbers between 1 and 20 is:\", total_sum)    "
   ]
  },
  {
   "cell_type": "code",
   "execution_count": 57,
   "id": "7c58deed",
   "metadata": {
    "ExecuteTime": {
     "end_time": "2024-06-24T12:31:23.005160Z",
     "start_time": "2024-06-24T12:31:22.994366Z"
    }
   },
   "outputs": [],
   "source": [
    "# using for loop\n",
    "\n",
    "sum_ = 0\n",
    "for num in range(1, 21):\n",
    "    if num % 2 != 0:\n",
    "        continue\n",
    "    else:\n",
    "        sum_ = sum_ + num "
   ]
  },
  {
   "cell_type": "code",
   "execution_count": 58,
   "id": "d3fb3b91",
   "metadata": {
    "ExecuteTime": {
     "end_time": "2024-06-24T12:31:49.626539Z",
     "start_time": "2024-06-24T12:31:49.607603Z"
    }
   },
   "outputs": [
    {
     "name": "stdout",
     "output_type": "stream",
     "text": [
      "110\n"
     ]
    }
   ],
   "source": [
    "print(sum_)"
   ]
  },
  {
   "cell_type": "markdown",
   "id": "af7748c1",
   "metadata": {},
   "source": [
    "# using while_loop "
   ]
  },
  {
   "cell_type": "code",
   "execution_count": 37,
   "id": "f7bc850a",
   "metadata": {
    "ExecuteTime": {
     "end_time": "2024-06-24T10:41:54.036392Z",
     "start_time": "2024-06-24T10:41:54.017744Z"
    }
   },
   "outputs": [
    {
     "name": "stdout",
     "output_type": "stream",
     "text": [
      "The sum of all even numbers between 1 and 20 is: 110\n"
     ]
    }
   ],
   "source": [
    "\n",
    "# Initialize the sum\n",
    "total_sum = 0\n",
    "\n",
    "# Initialize the starting number\n",
    "num = 1\n",
    "\n",
    "# Loop while the number is less than or equal to 20\n",
    "while num <= 20:\n",
    "    # Check if the number is even\n",
    "    if num % 2 == 0:\n",
    "        # Add the even number to the total sum\n",
    "        total_sum += num\n",
    "    # Move to the next number\n",
    "    num += 1\n",
    "\n",
    "print(\"The sum of all even numbers between 1 and 20 is:\", total_sum)"
   ]
  },
  {
   "cell_type": "markdown",
   "id": "0e11cd83",
   "metadata": {},
   "source": [
    "Q.3 After throwing the dice several times, you got this result,\n",
    "\n",
    "dice_result  = [5,6,4,2,5,4,4,5,3,3,2,6,1,2,1,1,6,5]\n",
    "Using a for loop find out the followings:\n",
    "\n",
    "\n",
    "How many times have you got 6s\n",
    "\n",
    "\n",
    "How many times have you got 1s\n",
    "\n",
    "\n",
    "How many times have you got 6s two times in a row\n"
   ]
  },
  {
   "cell_type": "code",
   "execution_count": 38,
   "id": "f35dfcdc",
   "metadata": {
    "ExecuteTime": {
     "end_time": "2024-06-24T10:43:42.475477Z",
     "start_time": "2024-06-24T10:43:42.451909Z"
    }
   },
   "outputs": [],
   "source": [
    "dice_result = [5,6,4,2,5,4,4,5,3,3,2,6,1,2,1,1,6,5]"
   ]
  },
  {
   "cell_type": "code",
   "execution_count": 39,
   "id": "cf9378a1",
   "metadata": {
    "ExecuteTime": {
     "end_time": "2024-06-24T10:43:49.624908Z",
     "start_time": "2024-06-24T10:43:49.606735Z"
    }
   },
   "outputs": [
    {
     "data": {
      "text/plain": [
       "[5, 6, 4, 2, 5, 4, 4, 5, 3, 3, 2, 6, 1, 2, 1, 1, 6, 5]"
      ]
     },
     "execution_count": 39,
     "metadata": {},
     "output_type": "execute_result"
    }
   ],
   "source": [
    "dice_result "
   ]
  },
  {
   "cell_type": "code",
   "execution_count": 42,
   "id": "1460b8b6",
   "metadata": {
    "ExecuteTime": {
     "end_time": "2024-06-24T10:49:03.285629Z",
     "start_time": "2024-06-24T10:49:03.270006Z"
    }
   },
   "outputs": [
    {
     "data": {
      "text/plain": [
       "list"
      ]
     },
     "execution_count": 42,
     "metadata": {},
     "output_type": "execute_result"
    }
   ],
   "source": [
    "type(dice_result)"
   ]
  },
  {
   "cell_type": "code",
   "execution_count": 59,
   "id": "7b8be30c",
   "metadata": {
    "ExecuteTime": {
     "end_time": "2024-06-24T12:33:31.439404Z",
     "start_time": "2024-06-24T12:33:31.421825Z"
    }
   },
   "outputs": [
    {
     "name": "stdout",
     "output_type": "stream",
     "text": [
      "3\n"
     ]
    }
   ],
   "source": [
    "sixes = 0\n",
    "for n in dice_result:\n",
    "    if n==6:\n",
    "        sixes += 1\n",
    "\n",
    "print(sixes)"
   ]
  },
  {
   "cell_type": "code",
   "execution_count": 44,
   "id": "5209099e",
   "metadata": {
    "ExecuteTime": {
     "end_time": "2024-06-24T10:58:32.497598Z",
     "start_time": "2024-06-24T10:58:32.484382Z"
    }
   },
   "outputs": [
    {
     "name": "stdout",
     "output_type": "stream",
     "text": [
      "The element 6 is found at positions: [1, 11, 16]\n"
     ]
    }
   ],
   "source": [
    "# How many times have you got 6s >> Specifying index of 6 in the dice_Result\n",
    "# Element to find\n",
    "element_to_find = 6 \n",
    "\n",
    "# List to store the index positions\n",
    "index_positions = []\n",
    "\n",
    "# Loop through the list\n",
    "for index in range(len(dice_result)):\n",
    "    if dice_result[index] == element_to_find:\n",
    "        index_positions.append(index)\n",
    "\n",
    "print(f\"The element {element_to_find} is found at positions: {index_positions}\")"
   ]
  },
  {
   "cell_type": "code",
   "execution_count": 46,
   "id": "04093696",
   "metadata": {
    "ExecuteTime": {
     "end_time": "2024-06-24T11:03:15.456565Z",
     "start_time": "2024-06-24T11:03:15.428373Z"
    }
   },
   "outputs": [
    {
     "name": "stdout",
     "output_type": "stream",
     "text": [
      "The element 6 occurs 3 times in the list.\n"
     ]
    }
   ],
   "source": [
    "# How many times have you got 6s\n",
    "\n",
    "\n",
    "# Element to find\n",
    "element_to_find = 6 \n",
    "\n",
    "# Counter for occurrences\n",
    "count = 0\n",
    "\n",
    "# Loop through the list\n",
    "for element in dice_result:\n",
    "    if element == element_to_find:\n",
    "        count += 1\n",
    "\n",
    "print(f\"The element {element_to_find} occurs {count} times in the list.\")"
   ]
  },
  {
   "cell_type": "markdown",
   "id": "f02c5268",
   "metadata": {},
   "source": [
    "How many times have you got 1s"
   ]
  },
  {
   "cell_type": "code",
   "execution_count": 60,
   "id": "4c5ce1ac",
   "metadata": {
    "ExecuteTime": {
     "end_time": "2024-06-24T12:34:15.039055Z",
     "start_time": "2024-06-24T12:34:15.022574Z"
    }
   },
   "outputs": [
    {
     "name": "stdout",
     "output_type": "stream",
     "text": [
      "3\n"
     ]
    }
   ],
   "source": [
    "ones = 0\n",
    "for n in dice_result:\n",
    "    if n==1:\n",
    "        ones += 1\n",
    "\n",
    "print(ones)"
   ]
  },
  {
   "cell_type": "code",
   "execution_count": 47,
   "id": "0ab9ef57",
   "metadata": {
    "ExecuteTime": {
     "end_time": "2024-06-24T11:04:26.378139Z",
     "start_time": "2024-06-24T11:04:26.363826Z"
    }
   },
   "outputs": [
    {
     "name": "stdout",
     "output_type": "stream",
     "text": [
      "The element 1 occurs 3 times in the list.\n"
     ]
    }
   ],
   "source": [
    "# Element to find\n",
    "element_to_find = 1 \n",
    "\n",
    "# Counter for occurrences\n",
    "count = 0\n",
    "\n",
    "# Loop through the list\n",
    "for element in dice_result:\n",
    "    if element == element_to_find:\n",
    "        count += 1\n",
    "\n",
    "print(f\"The element {element_to_find} occurs {count} times in the list.\")"
   ]
  },
  {
   "cell_type": "markdown",
   "id": "debb2547",
   "metadata": {},
   "source": [
    "How many times have you got 6s two times in a row"
   ]
  },
  {
   "cell_type": "code",
   "execution_count": 61,
   "id": "ce2a6b78",
   "metadata": {
    "ExecuteTime": {
     "end_time": "2024-06-24T12:35:03.978276Z",
     "start_time": "2024-06-24T12:35:03.960203Z"
    }
   },
   "outputs": [
    {
     "name": "stdout",
     "output_type": "stream",
     "text": [
      "0\n"
     ]
    }
   ],
   "source": [
    "two_6s = 0\n",
    "l = len(dice_result)\n",
    "\n",
    "for i in range(l - 1):\n",
    "    if dice_result[i] == 6 and dice_result[i+1] == 6:\n",
    "        two_6s += 1\n",
    "\n",
    "print(two_6s)"
   ]
  },
  {
   "cell_type": "code",
   "execution_count": 48,
   "id": "5f9b944a",
   "metadata": {
    "ExecuteTime": {
     "end_time": "2024-06-24T11:06:24.786650Z",
     "start_time": "2024-06-24T11:06:24.769291Z"
    }
   },
   "outputs": [
    {
     "name": "stdout",
     "output_type": "stream",
     "text": [
      "The element [6, 6] occurs 0 times in the list.\n"
     ]
    }
   ],
   "source": [
    "# Element to find\n",
    "element_to_find = [6,6]\n",
    "\n",
    "# Counter for occurrences\n",
    "count = 0\n",
    "\n",
    "# Loop through the list\n",
    "for element in dice_result:\n",
    "    if element == element_to_find:\n",
    "        count += 1\n",
    "\n",
    "print(f\"The element {element_to_find} occurs {count} times in the list.\")"
   ]
  },
  {
   "cell_type": "markdown",
   "id": "c8e8be53",
   "metadata": {},
   "source": [
    "Q.4.Let's say you are doing push-ups and you have to complete 50 push-ups daily, write a program that,\n",
    "\n",
    "\n",
    "Upon completing 10 push-ups in a go, asks you, “Are you tired?”\n",
    "\n",
    "\n",
    "If you reply “yes” or “y” then it should break and print “You did total push-ups.”\n",
    "\n",
    "\n",
    "For example: If you did only 30  push-ups and answered “yes” to your program. It will break the loop and print “You did a total of 30 push-ups**”**\n",
    "\n",
    "\n",
    "If you reply “no” or “n” then it should continue and display how many push-ups are remaining  now after that ask you again “Are you tired?”\n",
    "\n",
    "\n",
    "For Example: if you answered “no” then it should display that 20 push-ups are remaining and ask you again “Are you tired?”\n",
    "\n",
    "\n",
    "If you complete all 50 push-ups, then it should print the “Congratulations! You made it” and stopped the program.\n",
    " "
   ]
  },
  {
   "cell_type": "code",
   "execution_count": 56,
   "id": "dacb476e",
   "metadata": {
    "ExecuteTime": {
     "end_time": "2024-06-24T12:28:43.020241Z",
     "start_time": "2024-06-24T12:28:23.214906Z"
    }
   },
   "outputs": [
    {
     "name": "stdout",
     "output_type": "stream",
     "text": [
      "You have done 10 push-ups.\n",
      "Are you tired? (yes/no) no\n",
      "40 push-ups are remaining.\n",
      "You have done 20 push-ups.\n",
      "Are you tired? (yes/no) no\n",
      "30 push-ups are remaining.\n",
      "You have done 30 push-ups.\n",
      "Are you tired? (yes/no) no\n",
      "20 push-ups are remaining.\n",
      "You have done 40 push-ups.\n",
      "Are you tired? (yes/no) no\n",
      "10 push-ups are remaining.\n",
      "You have done 50 push-ups.\n",
      "Congratulations! You made it.\n"
     ]
    }
   ],
   "source": [
    "# Initialize the total number of push-ups to complete\n",
    "total_push_ups = 50\n",
    "\n",
    "# Initialize the count of completed push-ups\n",
    "completed_push_ups = 0\n",
    "\n",
    "while completed_push_ups < total_push_ups:\n",
    "    # Increment push-ups by 10 in each iteration\n",
    "    completed_push_ups += 10\n",
    "    print(f\"You have done {completed_push_ups} push-ups.\")\n",
    "\n",
    "    # Check if the current count of push-ups is a multiple of 10\n",
    "    if completed_push_ups % 10 == 0 and completed_push_ups < total_push_ups:\n",
    "        n = input(\"Are you tired? (yes/no) \").strip().lower()\n",
    "        if n in ['yes', 'y']:\n",
    "            break\n",
    "        elif n in ['no', 'n']:\n",
    "            remaining_push_ups = total_push_ups - completed_push_ups\n",
    "            print(f\"{remaining_push_ups} push-ups are remaining.\")\n",
    "        else:\n",
    "            print(\"Invalid input. Please answer with 'yes' or 'no'.\")\n",
    "\n",
    "# Check if all push-ups are completed\n",
    "if completed_push_ups >= total_push_ups:\n",
    "    print(\"Congratulations! You made it.\")\n",
    "else:\n",
    "    print(f\"You did a total of {completed_push_ups} push-ups.\")\n"
   ]
  },
  {
   "cell_type": "code",
   "execution_count": 62,
   "id": "bbe730ac",
   "metadata": {
    "ExecuteTime": {
     "end_time": "2024-06-24T12:36:11.859293Z",
     "start_time": "2024-06-24T12:35:56.887693Z"
    }
   },
   "outputs": [
    {
     "name": "stdout",
     "output_type": "stream",
     "text": [
      "Doing push up.\n",
      "Doing push up.\n",
      "Doing push up.\n",
      "Doing push up.\n",
      "Doing push up.\n",
      "Doing push up.\n",
      "Doing push up.\n",
      "Doing push up.\n",
      "Doing push up.\n",
      "Doing push up.\n",
      "Are you tired? (yes/no)no\n",
      "40 push-ups are remaining today.\n",
      "Doing push up.\n",
      "Doing push up.\n",
      "Doing push up.\n",
      "Doing push up.\n",
      "Doing push up.\n",
      "Doing push up.\n",
      "Doing push up.\n",
      "Doing push up.\n",
      "Doing push up.\n",
      "Doing push up.\n",
      "Are you tired? (yes/no)no\n",
      "30 push-ups are remaining today.\n",
      "Doing push up.\n",
      "Doing push up.\n",
      "Doing push up.\n",
      "Doing push up.\n",
      "Doing push up.\n",
      "Doing push up.\n",
      "Doing push up.\n",
      "Doing push up.\n",
      "Doing push up.\n",
      "Doing push up.\n",
      "Are you tired? (yes/no)yes\n",
      "You did total 30 Push-ups today.\n"
     ]
    }
   ],
   "source": [
    "pushups = 0\n",
    "answer = \"\"\n",
    "while True:\n",
    "    print(\"Doing push up.\")\n",
    "    pushups += 1\n",
    "    if pushups == 50:\n",
    "        print(\"Congratulations! You made it\")\n",
    "        break\n",
    "\n",
    "    elif pushups%10 ==0:\n",
    "        answer = input(\"Are you tired? (yes/no)\")\n",
    "        if answer[0].lower() == 'y':\n",
    "            break\n",
    "        else:\n",
    "            print(f\"{50-pushups} push-ups are remaining today.\")\n",
    "\n",
    "\n",
    "\n",
    "print(f\"You did total {pushups} Push-ups today.\")"
   ]
  },
  {
   "cell_type": "code",
   "execution_count": null,
   "id": "25d85b6a",
   "metadata": {},
   "outputs": [],
   "source": []
  }
 ],
 "metadata": {
  "kernelspec": {
   "display_name": "Python 3 (ipykernel)",
   "language": "python",
   "name": "python3"
  },
  "language_info": {
   "codemirror_mode": {
    "name": "ipython",
    "version": 3
   },
   "file_extension": ".py",
   "mimetype": "text/x-python",
   "name": "python",
   "nbconvert_exporter": "python",
   "pygments_lexer": "ipython3",
   "version": "3.8.10"
  },
  "toc": {
   "base_numbering": 1,
   "nav_menu": {},
   "number_sections": true,
   "sideBar": true,
   "skip_h1_title": false,
   "title_cell": "Table of Contents",
   "title_sidebar": "Contents",
   "toc_cell": false,
   "toc_position": {},
   "toc_section_display": true,
   "toc_window_display": false
  },
  "varInspector": {
   "cols": {
    "lenName": 16,
    "lenType": 16,
    "lenVar": 40
   },
   "kernels_config": {
    "python": {
     "delete_cmd_postfix": "",
     "delete_cmd_prefix": "del ",
     "library": "var_list.py",
     "varRefreshCmd": "print(var_dic_list())"
    },
    "r": {
     "delete_cmd_postfix": ") ",
     "delete_cmd_prefix": "rm(",
     "library": "var_list.r",
     "varRefreshCmd": "cat(var_dic_list()) "
    }
   },
   "types_to_exclude": [
    "module",
    "function",
    "builtin_function_or_method",
    "instance",
    "_Feature"
   ],
   "window_display": false
  }
 },
 "nbformat": 4,
 "nbformat_minor": 5
}
