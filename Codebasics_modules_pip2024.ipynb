{
 "cells": [
  {
   "cell_type": "code",
   "execution_count": 1,
   "id": "fcfb61bc",
   "metadata": {
    "ExecuteTime": {
     "end_time": "2024-06-27T07:47:08.082979Z",
     "start_time": "2024-06-27T07:47:08.059820Z"
    }
   },
   "outputs": [],
   "source": [
    "import math "
   ]
  },
  {
   "cell_type": "code",
   "execution_count": 2,
   "id": "410bac7d",
   "metadata": {
    "ExecuteTime": {
     "end_time": "2024-06-27T07:49:00.126281Z",
     "start_time": "2024-06-27T07:49:00.073140Z"
    }
   },
   "outputs": [
    {
     "data": {
      "text/plain": [
       "['__doc__',\n",
       " '__loader__',\n",
       " '__name__',\n",
       " '__package__',\n",
       " '__spec__',\n",
       " 'acos',\n",
       " 'acosh',\n",
       " 'asin',\n",
       " 'asinh',\n",
       " 'atan',\n",
       " 'atan2',\n",
       " 'atanh',\n",
       " 'ceil',\n",
       " 'comb',\n",
       " 'copysign',\n",
       " 'cos',\n",
       " 'cosh',\n",
       " 'degrees',\n",
       " 'dist',\n",
       " 'e',\n",
       " 'erf',\n",
       " 'erfc',\n",
       " 'exp',\n",
       " 'expm1',\n",
       " 'fabs',\n",
       " 'factorial',\n",
       " 'floor',\n",
       " 'fmod',\n",
       " 'frexp',\n",
       " 'fsum',\n",
       " 'gamma',\n",
       " 'gcd',\n",
       " 'hypot',\n",
       " 'inf',\n",
       " 'isclose',\n",
       " 'isfinite',\n",
       " 'isinf',\n",
       " 'isnan',\n",
       " 'isqrt',\n",
       " 'ldexp',\n",
       " 'lgamma',\n",
       " 'log',\n",
       " 'log10',\n",
       " 'log1p',\n",
       " 'log2',\n",
       " 'modf',\n",
       " 'nan',\n",
       " 'perm',\n",
       " 'pi',\n",
       " 'pow',\n",
       " 'prod',\n",
       " 'radians',\n",
       " 'remainder',\n",
       " 'sin',\n",
       " 'sinh',\n",
       " 'sqrt',\n",
       " 'tan',\n",
       " 'tanh',\n",
       " 'tau',\n",
       " 'trunc']"
      ]
     },
     "execution_count": 2,
     "metadata": {},
     "output_type": "execute_result"
    }
   ],
   "source": [
    "dir(math)"
   ]
  },
  {
   "cell_type": "code",
   "execution_count": 3,
   "id": "4a08d590",
   "metadata": {
    "ExecuteTime": {
     "end_time": "2024-06-27T07:50:01.190758Z",
     "start_time": "2024-06-27T07:50:01.167540Z"
    }
   },
   "outputs": [
    {
     "data": {
      "text/plain": [
       "18.027756377319946"
      ]
     },
     "execution_count": 3,
     "metadata": {},
     "output_type": "execute_result"
    }
   ],
   "source": [
    "math.sqrt(325)"
   ]
  },
  {
   "cell_type": "code",
   "execution_count": 6,
   "id": "fb9e0e48",
   "metadata": {
    "ExecuteTime": {
     "end_time": "2024-06-27T07:50:38.261130Z",
     "start_time": "2024-06-27T07:50:38.237142Z"
    }
   },
   "outputs": [
    {
     "data": {
      "text/plain": [
       "3.141592653589793"
      ]
     },
     "execution_count": 6,
     "metadata": {},
     "output_type": "execute_result"
    }
   ],
   "source": [
    "math.pi "
   ]
  },
  {
   "cell_type": "code",
   "execution_count": 5,
   "id": "1fcc35e5",
   "metadata": {
    "ExecuteTime": {
     "end_time": "2024-06-27T07:50:25.682755Z",
     "start_time": "2024-06-27T07:50:25.658825Z"
    }
   },
   "outputs": [
    {
     "data": {
      "text/plain": [
       "-6.405331196646276"
      ]
     },
     "execution_count": 5,
     "metadata": {},
     "output_type": "execute_result"
    }
   ],
   "source": [
    "math.tan(30)"
   ]
  },
  {
   "cell_type": "code",
   "execution_count": 10,
   "id": "8c146482",
   "metadata": {
    "ExecuteTime": {
     "end_time": "2024-06-27T07:55:06.007606Z",
     "start_time": "2024-06-27T07:55:05.994277Z"
    }
   },
   "outputs": [
    {
     "data": {
      "text/plain": [
       "1012888800"
      ]
     },
     "execution_count": 10,
     "metadata": {},
     "output_type": "execute_result"
    }
   ],
   "source": [
    "numbers = [15,11,12,45,116,98]\n",
    "math.prod(numbers)"
   ]
  },
  {
   "cell_type": "code",
   "execution_count": 11,
   "id": "88c75d4a",
   "metadata": {
    "ExecuteTime": {
     "end_time": "2024-06-27T07:56:10.606109Z",
     "start_time": "2024-06-27T07:56:10.573328Z"
    }
   },
   "outputs": [
    {
     "data": {
      "text/plain": [
       "4096.0"
      ]
     },
     "execution_count": 11,
     "metadata": {},
     "output_type": "execute_result"
    }
   ],
   "source": [
    "math.pow(8,4)"
   ]
  },
  {
   "cell_type": "code",
   "execution_count": 12,
   "id": "6c6901e0",
   "metadata": {
    "ExecuteTime": {
     "end_time": "2024-06-27T07:56:23.612229Z",
     "start_time": "2024-06-27T07:56:23.595686Z"
    }
   },
   "outputs": [
    {
     "data": {
      "text/plain": [
       "125.0"
      ]
     },
     "execution_count": 12,
     "metadata": {},
     "output_type": "execute_result"
    }
   ],
   "source": [
    "math.pow(5,3)"
   ]
  },
  {
   "cell_type": "code",
   "execution_count": 13,
   "id": "851170e5",
   "metadata": {
    "ExecuteTime": {
     "end_time": "2024-06-27T07:56:43.994600Z",
     "start_time": "2024-06-27T07:56:43.981803Z"
    }
   },
   "outputs": [
    {
     "data": {
      "text/plain": [
       "2.302585092994046"
      ]
     },
     "execution_count": 13,
     "metadata": {},
     "output_type": "execute_result"
    }
   ],
   "source": [
    "math.log(10)"
   ]
  },
  {
   "cell_type": "code",
   "execution_count": 14,
   "id": "4fba8525",
   "metadata": {
    "ExecuteTime": {
     "end_time": "2024-06-27T07:58:21.733332Z",
     "start_time": "2024-06-27T07:58:21.711696Z"
    }
   },
   "outputs": [
    {
     "data": {
      "text/plain": [
       "3.0"
      ]
     },
     "execution_count": 14,
     "metadata": {},
     "output_type": "execute_result"
    }
   ],
   "source": [
    "math.log10(1000)"
   ]
  },
  {
   "cell_type": "code",
   "execution_count": 15,
   "id": "e82fb36e",
   "metadata": {
    "ExecuteTime": {
     "end_time": "2024-06-27T07:58:42.173055Z",
     "start_time": "2024-06-27T07:58:42.163264Z"
    }
   },
   "outputs": [],
   "source": [
    "import calendar"
   ]
  },
  {
   "cell_type": "code",
   "execution_count": 16,
   "id": "d7e462dc",
   "metadata": {
    "ExecuteTime": {
     "end_time": "2024-06-27T07:58:55.558929Z",
     "start_time": "2024-06-27T07:58:55.534596Z"
    }
   },
   "outputs": [
    {
     "data": {
      "text/plain": [
       "['Calendar',\n",
       " 'EPOCH',\n",
       " 'FRIDAY',\n",
       " 'February',\n",
       " 'HTMLCalendar',\n",
       " 'IllegalMonthError',\n",
       " 'IllegalWeekdayError',\n",
       " 'January',\n",
       " 'LocaleHTMLCalendar',\n",
       " 'LocaleTextCalendar',\n",
       " 'MONDAY',\n",
       " 'SATURDAY',\n",
       " 'SUNDAY',\n",
       " 'THURSDAY',\n",
       " 'TUESDAY',\n",
       " 'TextCalendar',\n",
       " 'WEDNESDAY',\n",
       " '_EPOCH_ORD',\n",
       " '__all__',\n",
       " '__builtins__',\n",
       " '__cached__',\n",
       " '__doc__',\n",
       " '__file__',\n",
       " '__loader__',\n",
       " '__name__',\n",
       " '__package__',\n",
       " '__spec__',\n",
       " '_colwidth',\n",
       " '_locale',\n",
       " '_localized_day',\n",
       " '_localized_month',\n",
       " '_monthlen',\n",
       " '_nextmonth',\n",
       " '_prevmonth',\n",
       " '_spacing',\n",
       " 'c',\n",
       " 'calendar',\n",
       " 'datetime',\n",
       " 'day_abbr',\n",
       " 'day_name',\n",
       " 'different_locale',\n",
       " 'error',\n",
       " 'firstweekday',\n",
       " 'format',\n",
       " 'formatstring',\n",
       " 'isleap',\n",
       " 'leapdays',\n",
       " 'main',\n",
       " 'mdays',\n",
       " 'month',\n",
       " 'month_abbr',\n",
       " 'month_name',\n",
       " 'monthcalendar',\n",
       " 'monthrange',\n",
       " 'prcal',\n",
       " 'prmonth',\n",
       " 'prweek',\n",
       " 'repeat',\n",
       " 'setfirstweekday',\n",
       " 'sys',\n",
       " 'timegm',\n",
       " 'week',\n",
       " 'weekday',\n",
       " 'weekheader']"
      ]
     },
     "execution_count": 16,
     "metadata": {},
     "output_type": "execute_result"
    }
   ],
   "source": [
    "dir(calendar)"
   ]
  },
  {
   "cell_type": "code",
   "execution_count": 19,
   "id": "9317cec8",
   "metadata": {
    "ExecuteTime": {
     "end_time": "2024-06-27T08:01:29.844410Z",
     "start_time": "2024-06-27T08:01:29.820379Z"
    }
   },
   "outputs": [],
   "source": [
    "july= calendar.month(2024,7)"
   ]
  },
  {
   "cell_type": "code",
   "execution_count": 20,
   "id": "a8a7a37d",
   "metadata": {
    "ExecuteTime": {
     "end_time": "2024-06-27T08:01:37.325843Z",
     "start_time": "2024-06-27T08:01:37.302407Z"
    }
   },
   "outputs": [
    {
     "name": "stdout",
     "output_type": "stream",
     "text": [
      "     July 2024\n",
      "Mo Tu We Th Fr Sa Su\n",
      " 1  2  3  4  5  6  7\n",
      " 8  9 10 11 12 13 14\n",
      "15 16 17 18 19 20 21\n",
      "22 23 24 25 26 27 28\n",
      "29 30 31\n",
      "\n"
     ]
    }
   ],
   "source": [
    "print(july)"
   ]
  },
  {
   "cell_type": "code",
   "execution_count": 21,
   "id": "07e3eaf7",
   "metadata": {
    "ExecuteTime": {
     "end_time": "2024-06-27T08:03:15.128866Z",
     "start_time": "2024-06-27T08:03:15.121220Z"
    }
   },
   "outputs": [],
   "source": [
    "Jan=calendar.month(2025,1)"
   ]
  },
  {
   "cell_type": "code",
   "execution_count": 22,
   "id": "47da5975",
   "metadata": {
    "ExecuteTime": {
     "end_time": "2024-06-27T08:03:21.538842Z",
     "start_time": "2024-06-27T08:03:21.517751Z"
    }
   },
   "outputs": [
    {
     "name": "stdout",
     "output_type": "stream",
     "text": [
      "    January 2025\n",
      "Mo Tu We Th Fr Sa Su\n",
      "       1  2  3  4  5\n",
      " 6  7  8  9 10 11 12\n",
      "13 14 15 16 17 18 19\n",
      "20 21 22 23 24 25 26\n",
      "27 28 29 30 31\n",
      "\n"
     ]
    }
   ],
   "source": [
    "print(Jan)"
   ]
  },
  {
   "cell_type": "code",
   "execution_count": 26,
   "id": "44c3c569",
   "metadata": {
    "ExecuteTime": {
     "end_time": "2024-06-27T08:04:36.075499Z",
     "start_time": "2024-06-27T08:04:36.051507Z"
    }
   },
   "outputs": [
    {
     "data": {
      "text/plain": [
       "<calendar._localized_day at 0x28964023220>"
      ]
     },
     "execution_count": 26,
     "metadata": {},
     "output_type": "execute_result"
    }
   ],
   "source": [
    "calendar.day_name"
   ]
  },
  {
   "cell_type": "code",
   "execution_count": 25,
   "id": "93ec0478",
   "metadata": {
    "ExecuteTime": {
     "end_time": "2024-06-27T08:04:24.442820Z",
     "start_time": "2024-06-27T08:04:24.436145Z"
    }
   },
   "outputs": [
    {
     "name": "stdout",
     "output_type": "stream",
     "text": [
      "<calendar._localized_day object at 0x0000028964023220>\n"
     ]
    }
   ],
   "source": [
    "print(w)"
   ]
  },
  {
   "cell_type": "code",
   "execution_count": 27,
   "id": "e96e2ef2",
   "metadata": {
    "ExecuteTime": {
     "end_time": "2024-06-27T08:06:27.519106Z",
     "start_time": "2024-06-27T08:06:27.503431Z"
    }
   },
   "outputs": [
    {
     "data": {
      "text/plain": [
       "False"
      ]
     },
     "execution_count": 27,
     "metadata": {},
     "output_type": "execute_result"
    }
   ],
   "source": [
    "calendar.isleap(2026)"
   ]
  },
  {
   "cell_type": "code",
   "execution_count": 28,
   "id": "a41e5f28",
   "metadata": {
    "ExecuteTime": {
     "end_time": "2024-06-27T08:06:37.763164Z",
     "start_time": "2024-06-27T08:06:37.740106Z"
    }
   },
   "outputs": [
    {
     "data": {
      "text/plain": [
       "False"
      ]
     },
     "execution_count": 28,
     "metadata": {},
     "output_type": "execute_result"
    }
   ],
   "source": [
    "calendar.isleap(2025)"
   ]
  },
  {
   "cell_type": "code",
   "execution_count": 30,
   "id": "d4eac31d",
   "metadata": {
    "ExecuteTime": {
     "end_time": "2024-06-27T08:24:42.913899Z",
     "start_time": "2024-06-27T08:24:42.881324Z"
    }
   },
   "outputs": [],
   "source": [
    "import pyroids"
   ]
  },
  {
   "cell_type": "code",
   "execution_count": 31,
   "id": "f8096217",
   "metadata": {
    "ExecuteTime": {
     "end_time": "2024-06-27T08:25:55.096810Z",
     "start_time": "2024-06-27T08:25:55.076090Z"
    }
   },
   "outputs": [
    {
     "data": {
      "text/plain": [
       "['CONFIG_PATH',\n",
       " 'List',\n",
       " 'Optional',\n",
       " 'Path',\n",
       " '__author__',\n",
       " '__builtins__',\n",
       " '__cached__',\n",
       " '__doc__',\n",
       " '__email__',\n",
       " '__file__',\n",
       " '__loader__',\n",
       " '__name__',\n",
       " '__package__',\n",
       " '__path__',\n",
       " '__spec__',\n",
       " '_config_import',\n",
       " '_set_config_path',\n",
       " 'dir_path',\n",
       " 'importlib',\n",
       " 'launch',\n",
       " 'os',\n",
       " 'pyglet']"
      ]
     },
     "execution_count": 31,
     "metadata": {},
     "output_type": "execute_result"
    }
   ],
   "source": [
    "dir(pyroids)"
   ]
  },
  {
   "cell_type": "code",
   "execution_count": 32,
   "id": "7f35d0c7",
   "metadata": {
    "ExecuteTime": {
     "end_time": "2024-06-27T08:26:14.156280Z",
     "start_time": "2024-06-27T08:26:09.161252Z"
    }
   },
   "outputs": [
    {
     "name": "stderr",
     "output_type": "stream",
     "text": [
      "C:\\Users\\MANISHA\\AppData\\Local\\Programs\\Python\\Python38\\lib\\site-packages\\pyroids\\labels.py:395: SyntaxWarning: \"is\" with a literal. Did you mean \"==\"?\n",
      "  sep = '' if i is 0 else ', '\n",
      "C:\\Users\\MANISHA\\AppData\\Local\\Programs\\Python\\Python38\\lib\\site-packages\\pyroids\\labels.py:683: SyntaxWarning: \"is\" with a literal. Did you mean \"==\"?\n",
      "  if stock is 0:\n",
      "C:\\Users\\MANISHA\\AppData\\Local\\Programs\\Python\\Python38\\lib\\site-packages\\pyroids\\labels.py:774: SyntaxWarning: \"is not\" with a literal. Did you mean \"!=\"?\n",
      "  if sep is not 0:\n",
      "C:\\Users\\MANISHA\\AppData\\Local\\Programs\\Python\\Python38\\lib\\site-packages\\pyroids\\labels.py:395: SyntaxWarning: \"is\" with a literal. Did you mean \"==\"?\n",
      "  sep = '' if i is 0 else ', '\n",
      "C:\\Users\\MANISHA\\AppData\\Local\\Programs\\Python\\Python38\\lib\\site-packages\\pyroids\\labels.py:683: SyntaxWarning: \"is\" with a literal. Did you mean \"==\"?\n",
      "  if stock is 0:\n",
      "C:\\Users\\MANISHA\\AppData\\Local\\Programs\\Python\\Python38\\lib\\site-packages\\pyroids\\labels.py:774: SyntaxWarning: \"is not\" with a literal. Did you mean \"!=\"?\n",
      "  if sep is not 0:\n",
      "C:\\Users\\MANISHA\\AppData\\Local\\Programs\\Python\\Python38\\lib\\site-packages\\pyroids\\labels.py:395: SyntaxWarning: \"is\" with a literal. Did you mean \"==\"?\n",
      "  sep = '' if i is 0 else ', '\n",
      "C:\\Users\\MANISHA\\AppData\\Local\\Programs\\Python\\Python38\\lib\\site-packages\\pyroids\\labels.py:683: SyntaxWarning: \"is\" with a literal. Did you mean \"==\"?\n",
      "  if stock is 0:\n",
      "C:\\Users\\MANISHA\\AppData\\Local\\Programs\\Python\\Python38\\lib\\site-packages\\pyroids\\labels.py:774: SyntaxWarning: \"is not\" with a literal. Did you mean \"!=\"?\n",
      "  if sep is not 0:\n",
      "C:\\Users\\MANISHA\\AppData\\Local\\Programs\\Python\\Python38\\lib\\site-packages\\pyroids\\labels.py:395: SyntaxWarning: \"is\" with a literal. Did you mean \"==\"?\n",
      "  sep = '' if i is 0 else ', '\n",
      "C:\\Users\\MANISHA\\AppData\\Local\\Programs\\Python\\Python38\\lib\\site-packages\\pyroids\\labels.py:683: SyntaxWarning: \"is\" with a literal. Did you mean \"==\"?\n",
      "  if stock is 0:\n",
      "C:\\Users\\MANISHA\\AppData\\Local\\Programs\\Python\\Python38\\lib\\site-packages\\pyroids\\labels.py:774: SyntaxWarning: \"is not\" with a literal. Did you mean \"!=\"?\n",
      "  if sep is not 0:\n"
     ]
    },
    {
     "ename": "AttributeError",
     "evalue": "module 'pyglet.graphics' has no attribute 'OrderedGroup'",
     "output_type": "error",
     "traceback": [
      "\u001b[1;31m---------------------------------------------------------------------------\u001b[0m",
      "\u001b[1;31mAttributeError\u001b[0m                            Traceback (most recent call last)",
      "Input \u001b[1;32mIn [32]\u001b[0m, in \u001b[0;36m<cell line: 1>\u001b[1;34m()\u001b[0m\n\u001b[1;32m----> 1\u001b[0m \u001b[43mpyroids\u001b[49m\u001b[38;5;241;43m.\u001b[39;49m\u001b[43mlaunch\u001b[49m\u001b[43m(\u001b[49m\u001b[43m)\u001b[49m\n",
      "File \u001b[1;32m~\\AppData\\Local\\Programs\\Python\\Python38\\lib\\site-packages\\pyroids\\__init__.py:95\u001b[0m, in \u001b[0;36mlaunch\u001b[1;34m(config_file)\u001b[0m\n\u001b[0;32m     84\u001b[0m \u001b[38;5;124;03m\"\"\"Launch application.\u001b[39;00m\n\u001b[0;32m     85\u001b[0m \u001b[38;5;124;03m\u001b[39;00m\n\u001b[0;32m     86\u001b[0m \u001b[38;5;124;03m+config_file+  Name of configuration file to apply (configuration file \u001b[39;00m\n\u001b[1;32m   (...)\u001b[0m\n\u001b[0;32m     92\u001b[0m \u001b[38;5;124;03mfiles.\u001b[39;00m\n\u001b[0;32m     93\u001b[0m \u001b[38;5;124;03m\"\"\"\u001b[39;00m\n\u001b[0;32m     94\u001b[0m _set_config_path(config_file)\n\u001b[1;32m---> 95\u001b[0m \u001b[38;5;28;01mfrom\u001b[39;00m \u001b[38;5;21;01mpyroids\u001b[39;00m \u001b[38;5;28;01mimport\u001b[39;00m game\n\u001b[0;32m     96\u001b[0m game_window \u001b[38;5;241m=\u001b[39m game\u001b[38;5;241m.\u001b[39mGame()\n\u001b[0;32m     97\u001b[0m \u001b[38;5;28;01mreturn\u001b[39;00m pyglet\u001b[38;5;241m.\u001b[39mapp\u001b[38;5;241m.\u001b[39mrun()\n",
      "File \u001b[1;32m~\\AppData\\Local\\Programs\\Python\\Python38\\lib\\site-packages\\pyroids\\game.py:48\u001b[0m, in \u001b[0;36m<module>\u001b[1;34m\u001b[0m\n\u001b[0;32m     45\u001b[0m \u001b[38;5;28;01mfrom\u001b[39;00m \u001b[38;5;21;01m.\u001b[39;00m\u001b[38;5;21;01mlib\u001b[39;00m\u001b[38;5;21;01m.\u001b[39;00m\u001b[38;5;21;01mpyglet_lib\u001b[39;00m\u001b[38;5;21;01m.\u001b[39;00m\u001b[38;5;21;01msprite_ext\u001b[39;00m \u001b[38;5;28;01mimport\u001b[39;00m (PhysicalSprite, SpriteAdv, \n\u001b[0;32m     46\u001b[0m                                         AvoidRect, InRect, load_image)\n\u001b[0;32m     47\u001b[0m \u001b[38;5;28;01mfrom\u001b[39;00m \u001b[38;5;21;01m.\u001b[39;00m\u001b[38;5;21;01mlib\u001b[39;00m\u001b[38;5;21;01m.\u001b[39;00m\u001b[38;5;21;01mpyglet_lib\u001b[39;00m\u001b[38;5;21;01m.\u001b[39;00m\u001b[38;5;21;01mdrawing\u001b[39;00m \u001b[38;5;28;01mimport\u001b[39;00m AngledGrid, Rectangle, DrawingBase\n\u001b[1;32m---> 48\u001b[0m \u001b[38;5;28;01mfrom\u001b[39;00m \u001b[38;5;21;01m.\u001b[39;00m\u001b[38;5;21;01mgame_objects\u001b[39;00m \u001b[38;5;28;01mimport\u001b[39;00m (Ship, ShipRed, ControlSystem, Asteroid, \n\u001b[0;32m     49\u001b[0m                            AmmoClasses, Bullet, Mine, Starburst, \n\u001b[0;32m     50\u001b[0m                            PickUp, PickUpRed)\n\u001b[0;32m     51\u001b[0m \u001b[38;5;28;01mfrom\u001b[39;00m \u001b[38;5;21;01m.\u001b[39;00m\u001b[38;5;21;01mlabels\u001b[39;00m \u001b[38;5;28;01mimport\u001b[39;00m (StartLabels, NextLevelLabel, LevelLabel, EndLabels,\n\u001b[0;32m     52\u001b[0m                      InstructionLabels, StockLabel, InfoRow)\n\u001b[0;32m     53\u001b[0m \u001b[38;5;28;01mfrom\u001b[39;00m \u001b[38;5;21;01m.\u001b[39;00m\u001b[38;5;21;01mlib\u001b[39;00m\u001b[38;5;21;01m.\u001b[39;00m\u001b[38;5;21;01miter_util\u001b[39;00m \u001b[38;5;28;01mimport\u001b[39;00m (increment_last, factor_last, \n\u001b[0;32m     54\u001b[0m                             repeat_sequence, repeat_last)\n",
      "File \u001b[1;32m~\\AppData\\Local\\Programs\\Python\\Python38\\lib\\site-packages\\pyroids\\game_objects.py:105\u001b[0m, in \u001b[0;36m<module>\u001b[1;34m\u001b[0m\n\u001b[0;32m    102\u001b[0m \u001b[38;5;28;01mfrom\u001b[39;00m \u001b[38;5;21;01mpyglet\u001b[39;00m\u001b[38;5;21;01m.\u001b[39;00m\u001b[38;5;21;01mimage\u001b[39;00m \u001b[38;5;28;01mimport\u001b[39;00m Animation, Texture\n\u001b[0;32m    103\u001b[0m \u001b[38;5;28;01mfrom\u001b[39;00m \u001b[38;5;21;01mpyglet\u001b[39;00m\u001b[38;5;21;01m.\u001b[39;00m\u001b[38;5;21;01mmedia\u001b[39;00m \u001b[38;5;28;01mimport\u001b[39;00m StaticSource\n\u001b[1;32m--> 105\u001b[0m \u001b[38;5;28;01mfrom\u001b[39;00m \u001b[38;5;21;01m.\u001b[39;00m\u001b[38;5;21;01mlabels\u001b[39;00m \u001b[38;5;28;01mimport\u001b[39;00m StockLabel\n\u001b[0;32m    106\u001b[0m \u001b[38;5;28;01mfrom\u001b[39;00m \u001b[38;5;21;01m.\u001b[39;00m\u001b[38;5;21;01mlib\u001b[39;00m\u001b[38;5;21;01m.\u001b[39;00m\u001b[38;5;21;01mpyglet_lib\u001b[39;00m\u001b[38;5;21;01m.\u001b[39;00m\u001b[38;5;21;01msprite_ext\u001b[39;00m \u001b[38;5;28;01mimport\u001b[39;00m (PhysicalSprite, \n\u001b[0;32m    107\u001b[0m                                         PhysicalSpriteInteractive,\n\u001b[0;32m    108\u001b[0m                                         OneShotAnimatedSprite, \n\u001b[0;32m    109\u001b[0m                                         load_image, load_image_sequence,\n\u001b[0;32m    110\u001b[0m                                         anim, vector_anchor_to_rotated_point, \n\u001b[0;32m    111\u001b[0m                                         InRect)\n\u001b[0;32m    112\u001b[0m \u001b[38;5;28;01mfrom\u001b[39;00m \u001b[38;5;21;01m.\u001b[39;00m\u001b[38;5;21;01mlib\u001b[39;00m\u001b[38;5;21;01m.\u001b[39;00m\u001b[38;5;21;01mpyglet_lib\u001b[39;00m\u001b[38;5;21;01m.\u001b[39;00m\u001b[38;5;21;01maudio_ext\u001b[39;00m \u001b[38;5;28;01mimport\u001b[39;00m (StaticSourceMixin, \n\u001b[0;32m    113\u001b[0m                                        StaticSourceClassMixin, \n\u001b[0;32m    114\u001b[0m                                        load_static_sound)\n",
      "File \u001b[1;32m~\\AppData\\Local\\Programs\\Python\\Python38\\lib\\site-packages\\pyroids\\labels.py:314\u001b[0m, in \u001b[0;36m<module>\u001b[1;34m\u001b[0m\n\u001b[0;32m    311\u001b[0m         \u001b[38;5;28mself\u001b[39m\u001b[38;5;241m.\u001b[39m_set_sub2(completed)\n\u001b[0;32m    312\u001b[0m         \u001b[38;5;28mself\u001b[39m\u001b[38;5;241m.\u001b[39m_set_winner_label(winner)\n\u001b[1;32m--> 314\u001b[0m \u001b[38;5;28;01mclass\u001b[39;00m \u001b[38;5;21;01mInstructionLabels\u001b[39;00m(WindowLabels):\n\u001b[0;32m    315\u001b[0m     \u001b[38;5;124;03m\"\"\"Labels that collectively offer instructions including key controls.\u001b[39;00m\n\u001b[0;32m    316\u001b[0m \n\u001b[0;32m    317\u001b[0m \u001b[38;5;124;03m    General arrangement:\u001b[39;00m\n\u001b[1;32m   (...)\u001b[0m\n\u001b[0;32m    330\u001b[0m \u001b[38;5;124;03m    --set_labels()-- Set label for either paused or main menu mode.\u001b[39;00m\n\u001b[0;32m    331\u001b[0m \u001b[38;5;124;03m    \"\"\"\u001b[39;00m\n\u001b[0;32m    333\u001b[0m     \u001b[38;5;28;01mclass\u001b[39;00m \u001b[38;5;21;01mBGGroup\u001b[39;00m(pyglet\u001b[38;5;241m.\u001b[39mgraphics\u001b[38;5;241m.\u001b[39mOrderedGroup):\n",
      "File \u001b[1;32m~\\AppData\\Local\\Programs\\Python\\Python38\\lib\\site-packages\\pyroids\\labels.py:333\u001b[0m, in \u001b[0;36mInstructionLabels\u001b[1;34m()\u001b[0m\n\u001b[0;32m    314\u001b[0m \u001b[38;5;28;01mclass\u001b[39;00m \u001b[38;5;21;01mInstructionLabels\u001b[39;00m(WindowLabels):\n\u001b[0;32m    315\u001b[0m     \u001b[38;5;124;03m\"\"\"Labels that collectively offer instructions including key controls.\u001b[39;00m\n\u001b[0;32m    316\u001b[0m \n\u001b[0;32m    317\u001b[0m \u001b[38;5;124;03m    General arrangement:\u001b[39;00m\n\u001b[1;32m   (...)\u001b[0m\n\u001b[0;32m    330\u001b[0m \u001b[38;5;124;03m    --set_labels()-- Set label for either paused or main menu mode.\u001b[39;00m\n\u001b[0;32m    331\u001b[0m \u001b[38;5;124;03m    \"\"\"\u001b[39;00m\n\u001b[1;32m--> 333\u001b[0m     \u001b[38;5;28;01mclass\u001b[39;00m \u001b[38;5;21;01mBGGroup\u001b[39;00m(\u001b[43mpyglet\u001b[49m\u001b[38;5;241;43m.\u001b[39;49m\u001b[43mgraphics\u001b[49m\u001b[38;5;241;43m.\u001b[39;49m\u001b[43mOrderedGroup\u001b[49m):\n\u001b[0;32m    334\u001b[0m         \u001b[38;5;28;01mdef\u001b[39;00m \u001b[38;5;21m__init__\u001b[39m(\u001b[38;5;28mself\u001b[39m):\n\u001b[0;32m    335\u001b[0m             \u001b[38;5;28msuper\u001b[39m()\u001b[38;5;241m.\u001b[39m\u001b[38;5;21m__init__\u001b[39m(\u001b[38;5;241m0\u001b[39m)\n",
      "\u001b[1;31mAttributeError\u001b[0m: module 'pyglet.graphics' has no attribute 'OrderedGroup'"
     ]
    }
   ],
   "source": [
    "pyroids.launch()"
   ]
  },
  {
   "cell_type": "markdown",
   "id": "c63330dc",
   "metadata": {},
   "source": [
    "## Excercises\n",
    "\n",
    "Install numpy using pip.\n",
    "\n",
    "Import numpy in the python program"
   ]
  },
  {
   "cell_type": "code",
   "execution_count": 33,
   "id": "bc57492e",
   "metadata": {
    "ExecuteTime": {
     "end_time": "2024-06-27T08:35:53.661777Z",
     "start_time": "2024-06-27T08:35:50.683930Z"
    }
   },
   "outputs": [
    {
     "name": "stdout",
     "output_type": "stream",
     "text": [
      "Requirement already satisfied: numpy in c:\\users\\manisha\\appdata\\local\\programs\\python\\python38\\lib\\site-packages (1.23.2)\n"
     ]
    },
    {
     "name": "stderr",
     "output_type": "stream",
     "text": [
      "\n",
      "[notice] A new release of pip is available: 23.3.2 -> 24.1.1\n",
      "[notice] To update, run: python.exe -m pip install --upgrade pip\n"
     ]
    }
   ],
   "source": [
    "!pip install numpy "
   ]
  },
  {
   "cell_type": "code",
   "execution_count": 34,
   "id": "fb98017d",
   "metadata": {
    "ExecuteTime": {
     "end_time": "2024-06-27T08:36:16.724127Z",
     "start_time": "2024-06-27T08:36:14.442436Z"
    }
   },
   "outputs": [
    {
     "name": "stdout",
     "output_type": "stream",
     "text": [
      "Requirement already satisfied: pip in c:\\users\\manisha\\appdata\\local\\programs\\python\\python38\\lib\\site-packages (23.3.2)\n",
      "Collecting pip\n",
      "  Using cached pip-24.1.1-py3-none-any.whl.metadata (3.6 kB)\n",
      "Using cached pip-24.1.1-py3-none-any.whl (1.8 MB)\n"
     ]
    },
    {
     "name": "stderr",
     "output_type": "stream",
     "text": [
      "ERROR: To modify pip, please run the following command:\n",
      "C:\\Users\\MANISHA\\AppData\\Local\\Programs\\Python\\Python38\\python.exe -m pip install --upgrade pip\n",
      "\n",
      "[notice] A new release of pip is available: 23.3.2 -> 24.1.1\n",
      "[notice] To update, run: python.exe -m pip install --upgrade pip\n"
     ]
    }
   ],
   "source": [
    "! pip install --upgrade pip "
   ]
  },
  {
   "cell_type": "code",
   "execution_count": 36,
   "id": "1651f255",
   "metadata": {
    "ExecuteTime": {
     "end_time": "2024-06-27T08:36:46.251175Z",
     "start_time": "2024-06-27T08:36:46.236734Z"
    }
   },
   "outputs": [],
   "source": [
    "import numpy as np "
   ]
  },
  {
   "cell_type": "code",
   "execution_count": null,
   "id": "fe3498ff",
   "metadata": {},
   "outputs": [],
   "source": []
  }
 ],
 "metadata": {
  "kernelspec": {
   "display_name": "Python 3 (ipykernel)",
   "language": "python",
   "name": "python3"
  },
  "language_info": {
   "codemirror_mode": {
    "name": "ipython",
    "version": 3
   },
   "file_extension": ".py",
   "mimetype": "text/x-python",
   "name": "python",
   "nbconvert_exporter": "python",
   "pygments_lexer": "ipython3",
   "version": "3.8.10"
  },
  "toc": {
   "base_numbering": 1,
   "nav_menu": {},
   "number_sections": true,
   "sideBar": true,
   "skip_h1_title": false,
   "title_cell": "Table of Contents",
   "title_sidebar": "Contents",
   "toc_cell": false,
   "toc_position": {},
   "toc_section_display": true,
   "toc_window_display": false
  },
  "varInspector": {
   "cols": {
    "lenName": 16,
    "lenType": 16,
    "lenVar": 40
   },
   "kernels_config": {
    "python": {
     "delete_cmd_postfix": "",
     "delete_cmd_prefix": "del ",
     "library": "var_list.py",
     "varRefreshCmd": "print(var_dic_list())"
    },
    "r": {
     "delete_cmd_postfix": ") ",
     "delete_cmd_prefix": "rm(",
     "library": "var_list.r",
     "varRefreshCmd": "cat(var_dic_list()) "
    }
   },
   "types_to_exclude": [
    "module",
    "function",
    "builtin_function_or_method",
    "instance",
    "_Feature"
   ],
   "window_display": false
  }
 },
 "nbformat": 4,
 "nbformat_minor": 5
}
